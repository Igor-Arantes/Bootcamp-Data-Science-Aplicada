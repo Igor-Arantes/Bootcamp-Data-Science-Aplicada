{
 "cells": [
  {
   "cell_type": "code",
   "execution_count": null,
   "metadata": {},
   "outputs": [],
   "source": []
  },
  {
   "cell_type": "code",
   "execution_count": null,
   "metadata": {},
   "outputs": [],
   "source": []
  },
  {
   "cell_type": "markdown",
   "metadata": {},
   "source": [
    "# Blibliotecas e configuraçoes"
   ]
  },
  {
   "cell_type": "code",
   "execution_count": 1,
   "metadata": {},
   "outputs": [],
   "source": [
    "import pandas as pd\n",
    "from  zipfile import ZipFile\n",
    "import seaborn as sns\n",
    "import matplotlib.pyplot as plt\n",
    "from jupyterthemes import jtplot\n",
    "from IPython.core.display import display, HTML, Markdown\n",
    "import numpy as np"
   ]
  },
  {
   "cell_type": "code",
   "execution_count": 2,
   "metadata": {},
   "outputs": [
    {
     "data": {
      "text/html": [
       "<style>.container { width:90% !important; }</style>"
      ],
      "text/plain": [
       "<IPython.core.display.HTML object>"
      ]
     },
     "metadata": {},
     "output_type": "display_data"
    }
   ],
   "source": [
    "jtplot.style(theme='monokai', context='notebook', ticks=True, grid=False)\n",
    "display(HTML(\"<style>.container { width:90% !important; }</style>\"))"
   ]
  },
  {
   "cell_type": "markdown",
   "metadata": {},
   "source": [
    "# Dados"
   ]
  },
  {
   "cell_type": "code",
   "execution_count": 3,
   "metadata": {},
   "outputs": [],
   "source": [
    "# Lendo dados compactados:\n",
    "path =\"Dados\\PeNSE_2015_AMOSTRA2.zip\"\n",
    "zip= ZipFile(path)\n",
    "dados = pd.read_csv(zip.open(zip.namelist()[1]), sep = \";\", thousands=\".\", decimal=\",\")"
   ]
  },
  {
   "cell_type": "markdown",
   "metadata": {},
   "source": [
    "Desafio 1: Descompactar usando bash(linux)  \n"
   ]
  },
  {
   "cell_type": "code",
   "execution_count": 4,
   "metadata": {},
   "outputs": [
    {
     "data": {
      "text/plain": [
       "'!powershell -command expand-Archive Dados\\\\PeNSE_2015_AMOSTRA2.zip Dados\\\\PeNSE_2015_AMOSTRA2'"
      ]
     },
     "execution_count": 4,
     "metadata": {},
     "output_type": "execute_result"
    }
   ],
   "source": [
    "# Bash Linux\n",
    "\"!unzip Dados\\PeNSE_2015_AMOSTRA2.zip\"\n",
    "\n",
    "#Para Windows\n",
    "\"!powershell -command expand-Archive Dados\\PeNSE_2015_AMOSTRA2.zip Dados\\PeNSE_2015_AMOSTRA2\""
   ]
  },
  {
   "cell_type": "markdown",
   "metadata": {},
   "source": [
    "Desafio 2: Estudar sobre esta base de dados"
   ]
  },
  {
   "cell_type": "markdown",
   "metadata": {},
   "source": [
    "Feito"
   ]
  },
  {
   "cell_type": "code",
   "execution_count": 5,
   "metadata": {},
   "outputs": [
    {
     "data": {
      "text/html": [
       "<div>\n",
       "<style scoped>\n",
       "    .dataframe tbody tr th:only-of-type {\n",
       "        vertical-align: middle;\n",
       "    }\n",
       "\n",
       "    .dataframe tbody tr th {\n",
       "        vertical-align: top;\n",
       "    }\n",
       "\n",
       "    .dataframe thead th {\n",
       "        text-align: right;\n",
       "    }\n",
       "</style>\n",
       "<table border=\"1\" class=\"dataframe\">\n",
       "  <thead>\n",
       "    <tr style=\"text-align: right;\">\n",
       "      <th></th>\n",
       "      <th>ANOPESQ</th>\n",
       "      <th>PAIS</th>\n",
       "      <th>REGEOGR</th>\n",
       "      <th>VB00004</th>\n",
       "      <th>VB01001</th>\n",
       "      <th>VB01002</th>\n",
       "      <th>VB01003</th>\n",
       "      <th>VB01004</th>\n",
       "      <th>VB01005</th>\n",
       "      <th>VB01006</th>\n",
       "      <th>...</th>\n",
       "      <th>ESTRATO_EXP</th>\n",
       "      <th>ESTRATOGEOREG</th>\n",
       "      <th>PESO</th>\n",
       "      <th>V0006</th>\n",
       "      <th>V0007</th>\n",
       "      <th>V0008</th>\n",
       "      <th>V0041</th>\n",
       "      <th>aluno</th>\n",
       "      <th>escola</th>\n",
       "      <th>turma</th>\n",
       "    </tr>\n",
       "  </thead>\n",
       "  <tbody>\n",
       "    <tr>\n",
       "      <th>0</th>\n",
       "      <td>2015</td>\n",
       "      <td>76</td>\n",
       "      <td>1</td>\n",
       "      <td>1</td>\n",
       "      <td>2</td>\n",
       "      <td>1</td>\n",
       "      <td>13</td>\n",
       "      <td>7</td>\n",
       "      <td>7</td>\n",
       "      <td>1</td>\n",
       "      <td>...</td>\n",
       "      <td>1223</td>\n",
       "      <td>1</td>\n",
       "      <td>299.735235</td>\n",
       "      <td>1</td>\n",
       "      <td>2</td>\n",
       "      <td>4</td>\n",
       "      <td>1</td>\n",
       "      <td>1</td>\n",
       "      <td>1</td>\n",
       "      <td>296</td>\n",
       "    </tr>\n",
       "    <tr>\n",
       "      <th>1</th>\n",
       "      <td>2015</td>\n",
       "      <td>76</td>\n",
       "      <td>1</td>\n",
       "      <td>1</td>\n",
       "      <td>2</td>\n",
       "      <td>1</td>\n",
       "      <td>14</td>\n",
       "      <td>4</td>\n",
       "      <td>7</td>\n",
       "      <td>1</td>\n",
       "      <td>...</td>\n",
       "      <td>1223</td>\n",
       "      <td>1</td>\n",
       "      <td>355.170081</td>\n",
       "      <td>1</td>\n",
       "      <td>2</td>\n",
       "      <td>4</td>\n",
       "      <td>1</td>\n",
       "      <td>2</td>\n",
       "      <td>1</td>\n",
       "      <td>296</td>\n",
       "    </tr>\n",
       "    <tr>\n",
       "      <th>2</th>\n",
       "      <td>2015</td>\n",
       "      <td>76</td>\n",
       "      <td>1</td>\n",
       "      <td>1</td>\n",
       "      <td>1</td>\n",
       "      <td>4</td>\n",
       "      <td>13</td>\n",
       "      <td>6</td>\n",
       "      <td>7</td>\n",
       "      <td>1</td>\n",
       "      <td>...</td>\n",
       "      <td>1223</td>\n",
       "      <td>1</td>\n",
       "      <td>299.735235</td>\n",
       "      <td>1</td>\n",
       "      <td>2</td>\n",
       "      <td>4</td>\n",
       "      <td>1</td>\n",
       "      <td>3</td>\n",
       "      <td>1</td>\n",
       "      <td>296</td>\n",
       "    </tr>\n",
       "    <tr>\n",
       "      <th>3</th>\n",
       "      <td>2015</td>\n",
       "      <td>76</td>\n",
       "      <td>1</td>\n",
       "      <td>1</td>\n",
       "      <td>1</td>\n",
       "      <td>1</td>\n",
       "      <td>14</td>\n",
       "      <td>6</td>\n",
       "      <td>7</td>\n",
       "      <td>1</td>\n",
       "      <td>...</td>\n",
       "      <td>1223</td>\n",
       "      <td>1</td>\n",
       "      <td>355.170081</td>\n",
       "      <td>1</td>\n",
       "      <td>2</td>\n",
       "      <td>4</td>\n",
       "      <td>1</td>\n",
       "      <td>4</td>\n",
       "      <td>1</td>\n",
       "      <td>296</td>\n",
       "    </tr>\n",
       "    <tr>\n",
       "      <th>4</th>\n",
       "      <td>2015</td>\n",
       "      <td>76</td>\n",
       "      <td>1</td>\n",
       "      <td>1</td>\n",
       "      <td>1</td>\n",
       "      <td>1</td>\n",
       "      <td>13</td>\n",
       "      <td>9</td>\n",
       "      <td>7</td>\n",
       "      <td>1</td>\n",
       "      <td>...</td>\n",
       "      <td>1223</td>\n",
       "      <td>1</td>\n",
       "      <td>299.735235</td>\n",
       "      <td>1</td>\n",
       "      <td>2</td>\n",
       "      <td>4</td>\n",
       "      <td>1</td>\n",
       "      <td>5</td>\n",
       "      <td>1</td>\n",
       "      <td>296</td>\n",
       "    </tr>\n",
       "    <tr>\n",
       "      <th>...</th>\n",
       "      <td>...</td>\n",
       "      <td>...</td>\n",
       "      <td>...</td>\n",
       "      <td>...</td>\n",
       "      <td>...</td>\n",
       "      <td>...</td>\n",
       "      <td>...</td>\n",
       "      <td>...</td>\n",
       "      <td>...</td>\n",
       "      <td>...</td>\n",
       "      <td>...</td>\n",
       "      <td>...</td>\n",
       "      <td>...</td>\n",
       "      <td>...</td>\n",
       "      <td>...</td>\n",
       "      <td>...</td>\n",
       "      <td>...</td>\n",
       "      <td>...</td>\n",
       "      <td>...</td>\n",
       "      <td>...</td>\n",
       "      <td>...</td>\n",
       "    </tr>\n",
       "    <tr>\n",
       "      <th>16551</th>\n",
       "      <td>2015</td>\n",
       "      <td>76</td>\n",
       "      <td>5</td>\n",
       "      <td>1</td>\n",
       "      <td>2</td>\n",
       "      <td>4</td>\n",
       "      <td>12</td>\n",
       "      <td>8</td>\n",
       "      <td>8</td>\n",
       "      <td>1</td>\n",
       "      <td>...</td>\n",
       "      <td>521</td>\n",
       "      <td>5</td>\n",
       "      <td>447.815539</td>\n",
       "      <td>1</td>\n",
       "      <td>2</td>\n",
       "      <td>4</td>\n",
       "      <td>1</td>\n",
       "      <td>16552</td>\n",
       "      <td>371</td>\n",
       "      <td>117</td>\n",
       "    </tr>\n",
       "    <tr>\n",
       "      <th>16552</th>\n",
       "      <td>2015</td>\n",
       "      <td>76</td>\n",
       "      <td>5</td>\n",
       "      <td>1</td>\n",
       "      <td>1</td>\n",
       "      <td>1</td>\n",
       "      <td>15</td>\n",
       "      <td>7</td>\n",
       "      <td>5</td>\n",
       "      <td>1</td>\n",
       "      <td>...</td>\n",
       "      <td>521</td>\n",
       "      <td>5</td>\n",
       "      <td>592.507440</td>\n",
       "      <td>1</td>\n",
       "      <td>2</td>\n",
       "      <td>4</td>\n",
       "      <td>1</td>\n",
       "      <td>16553</td>\n",
       "      <td>371</td>\n",
       "      <td>117</td>\n",
       "    </tr>\n",
       "    <tr>\n",
       "      <th>16553</th>\n",
       "      <td>2015</td>\n",
       "      <td>76</td>\n",
       "      <td>5</td>\n",
       "      <td>1</td>\n",
       "      <td>1</td>\n",
       "      <td>4</td>\n",
       "      <td>13</td>\n",
       "      <td>11</td>\n",
       "      <td>7</td>\n",
       "      <td>1</td>\n",
       "      <td>...</td>\n",
       "      <td>521</td>\n",
       "      <td>5</td>\n",
       "      <td>401.131512</td>\n",
       "      <td>1</td>\n",
       "      <td>2</td>\n",
       "      <td>4</td>\n",
       "      <td>1</td>\n",
       "      <td>16554</td>\n",
       "      <td>371</td>\n",
       "      <td>117</td>\n",
       "    </tr>\n",
       "    <tr>\n",
       "      <th>16554</th>\n",
       "      <td>2015</td>\n",
       "      <td>76</td>\n",
       "      <td>5</td>\n",
       "      <td>1</td>\n",
       "      <td>1</td>\n",
       "      <td>4</td>\n",
       "      <td>14</td>\n",
       "      <td>8</td>\n",
       "      <td>6</td>\n",
       "      <td>1</td>\n",
       "      <td>...</td>\n",
       "      <td>521</td>\n",
       "      <td>5</td>\n",
       "      <td>442.718091</td>\n",
       "      <td>1</td>\n",
       "      <td>2</td>\n",
       "      <td>4</td>\n",
       "      <td>1</td>\n",
       "      <td>16555</td>\n",
       "      <td>371</td>\n",
       "      <td>117</td>\n",
       "    </tr>\n",
       "    <tr>\n",
       "      <th>16555</th>\n",
       "      <td>2015</td>\n",
       "      <td>76</td>\n",
       "      <td>5</td>\n",
       "      <td>1</td>\n",
       "      <td>1</td>\n",
       "      <td>2</td>\n",
       "      <td>15</td>\n",
       "      <td>4</td>\n",
       "      <td>6</td>\n",
       "      <td>1</td>\n",
       "      <td>...</td>\n",
       "      <td>521</td>\n",
       "      <td>5</td>\n",
       "      <td>592.507440</td>\n",
       "      <td>1</td>\n",
       "      <td>2</td>\n",
       "      <td>4</td>\n",
       "      <td>1</td>\n",
       "      <td>16556</td>\n",
       "      <td>371</td>\n",
       "      <td>117</td>\n",
       "    </tr>\n",
       "  </tbody>\n",
       "</table>\n",
       "<p>16556 rows × 181 columns</p>\n",
       "</div>"
      ],
      "text/plain": [
       "       ANOPESQ  PAIS  REGEOGR  VB00004  VB01001  VB01002  VB01003  VB01004  \\\n",
       "0         2015    76        1        1        2        1       13        7   \n",
       "1         2015    76        1        1        2        1       14        4   \n",
       "2         2015    76        1        1        1        4       13        6   \n",
       "3         2015    76        1        1        1        1       14        6   \n",
       "4         2015    76        1        1        1        1       13        9   \n",
       "...        ...   ...      ...      ...      ...      ...      ...      ...   \n",
       "16551     2015    76        5        1        2        4       12        8   \n",
       "16552     2015    76        5        1        1        1       15        7   \n",
       "16553     2015    76        5        1        1        4       13       11   \n",
       "16554     2015    76        5        1        1        4       14        8   \n",
       "16555     2015    76        5        1        1        2       15        4   \n",
       "\n",
       "       VB01005  VB01006  ...  ESTRATO_EXP  ESTRATOGEOREG        PESO  V0006  \\\n",
       "0            7        1  ...         1223              1  299.735235      1   \n",
       "1            7        1  ...         1223              1  355.170081      1   \n",
       "2            7        1  ...         1223              1  299.735235      1   \n",
       "3            7        1  ...         1223              1  355.170081      1   \n",
       "4            7        1  ...         1223              1  299.735235      1   \n",
       "...        ...      ...  ...          ...            ...         ...    ...   \n",
       "16551        8        1  ...          521              5  447.815539      1   \n",
       "16552        5        1  ...          521              5  592.507440      1   \n",
       "16553        7        1  ...          521              5  401.131512      1   \n",
       "16554        6        1  ...          521              5  442.718091      1   \n",
       "16555        6        1  ...          521              5  592.507440      1   \n",
       "\n",
       "       V0007  V0008  V0041  aluno  escola  turma  \n",
       "0          2      4      1      1       1    296  \n",
       "1          2      4      1      2       1    296  \n",
       "2          2      4      1      3       1    296  \n",
       "3          2      4      1      4       1    296  \n",
       "4          2      4      1      5       1    296  \n",
       "...      ...    ...    ...    ...     ...    ...  \n",
       "16551      2      4      1  16552     371    117  \n",
       "16552      2      4      1  16553     371    117  \n",
       "16553      2      4      1  16554     371    117  \n",
       "16554      2      4      1  16555     371    117  \n",
       "16555      2      4      1  16556     371    117  \n",
       "\n",
       "[16556 rows x 181 columns]"
      ]
     },
     "execution_count": 5,
     "metadata": {},
     "output_type": "execute_result"
    }
   ],
   "source": [
    "dados"
   ]
  },
  {
   "cell_type": "code",
   "execution_count": 6,
   "metadata": {},
   "outputs": [
    {
     "data": {
      "text/plain": [
       "(16556, 181)"
      ]
     },
     "execution_count": 6,
     "metadata": {},
     "output_type": "execute_result"
    }
   ],
   "source": [
    "dados.shape"
   ]
  },
  {
   "cell_type": "code",
   "execution_count": 7,
   "metadata": {},
   "outputs": [
    {
     "data": {
      "text/plain": [
       "Index(['ANOPESQ', 'PAIS', 'REGEOGR', 'VB00004', 'VB01001', 'VB01002',\n",
       "       'VB01003', 'VB01004', 'VB01005', 'VB01006',\n",
       "       ...\n",
       "       'ESTRATO_EXP', 'ESTRATOGEOREG', 'PESO', 'V0006', 'V0007', 'V0008',\n",
       "       'V0041', 'aluno', 'escola', 'turma'],\n",
       "      dtype='object', length=181)"
      ]
     },
     "execution_count": 7,
     "metadata": {},
     "output_type": "execute_result"
    }
   ],
   "source": [
    "dados.columns"
   ]
  },
  {
   "cell_type": "code",
   "execution_count": 8,
   "metadata": {},
   "outputs": [
    {
     "name": "stdout",
     "output_type": "stream",
     "text": [
      "<class 'pandas.core.frame.DataFrame'>\n",
      "RangeIndex: 16556 entries, 0 to 16555\n",
      "Columns: 181 entries, ANOPESQ to turma\n",
      "dtypes: float64(10), int64(171)\n",
      "memory usage: 22.9 MB\n"
     ]
    }
   ],
   "source": [
    "dados.info()"
   ]
  },
  {
   "cell_type": "code",
   "execution_count": 9,
   "metadata": {},
   "outputs": [
    {
     "data": {
      "text/html": [
       "<div>\n",
       "<style scoped>\n",
       "    .dataframe tbody tr th:only-of-type {\n",
       "        vertical-align: middle;\n",
       "    }\n",
       "\n",
       "    .dataframe tbody tr th {\n",
       "        vertical-align: top;\n",
       "    }\n",
       "\n",
       "    .dataframe thead th {\n",
       "        text-align: right;\n",
       "    }\n",
       "</style>\n",
       "<table border=\"1\" class=\"dataframe\">\n",
       "  <thead>\n",
       "    <tr style=\"text-align: right;\">\n",
       "      <th></th>\n",
       "    </tr>\n",
       "  </thead>\n",
       "  <tbody>\n",
       "    <tr>\n",
       "      <th>0</th>\n",
       "    </tr>\n",
       "    <tr>\n",
       "      <th>1</th>\n",
       "    </tr>\n",
       "    <tr>\n",
       "      <th>2</th>\n",
       "    </tr>\n",
       "    <tr>\n",
       "      <th>3</th>\n",
       "    </tr>\n",
       "    <tr>\n",
       "      <th>4</th>\n",
       "    </tr>\n",
       "    <tr>\n",
       "      <th>...</th>\n",
       "    </tr>\n",
       "    <tr>\n",
       "      <th>16551</th>\n",
       "    </tr>\n",
       "    <tr>\n",
       "      <th>16552</th>\n",
       "    </tr>\n",
       "    <tr>\n",
       "      <th>16553</th>\n",
       "    </tr>\n",
       "    <tr>\n",
       "      <th>16554</th>\n",
       "    </tr>\n",
       "    <tr>\n",
       "      <th>16555</th>\n",
       "    </tr>\n",
       "  </tbody>\n",
       "</table>\n",
       "<p>16556 rows × 0 columns</p>\n",
       "</div>"
      ],
      "text/plain": [
       "Empty DataFrame\n",
       "Columns: []\n",
       "Index: [0, 1, 2, 3, 4, 5, 6, 7, 8, 9, 10, 11, 12, 13, 14, 15, 16, 17, 18, 19, 20, 21, 22, 23, 24, 25, 26, 27, 28, 29, 30, 31, 32, 33, 34, 35, 36, 37, 38, 39, 40, 41, 42, 43, 44, 45, 46, 47, 48, 49, 50, 51, 52, 53, 54, 55, 56, 57, 58, 59, 60, 61, 62, 63, 64, 65, 66, 67, 68, 69, 70, 71, 72, 73, 74, 75, 76, 77, 78, 79, 80, 81, 82, 83, 84, 85, 86, 87, 88, 89, 90, 91, 92, 93, 94, 95, 96, 97, 98, 99, ...]\n",
       "\n",
       "[16556 rows x 0 columns]"
      ]
     },
     "execution_count": 9,
     "metadata": {},
     "output_type": "execute_result"
    }
   ],
   "source": [
    "dados.select_dtypes(include='object')"
   ]
  },
  {
   "cell_type": "code",
   "execution_count": 10,
   "metadata": {},
   "outputs": [
    {
     "data": {
      "text/html": [
       "<div>\n",
       "<style scoped>\n",
       "    .dataframe tbody tr th:only-of-type {\n",
       "        vertical-align: middle;\n",
       "    }\n",
       "\n",
       "    .dataframe tbody tr th {\n",
       "        vertical-align: top;\n",
       "    }\n",
       "\n",
       "    .dataframe thead th {\n",
       "        text-align: right;\n",
       "    }\n",
       "</style>\n",
       "<table border=\"1\" class=\"dataframe\">\n",
       "  <thead>\n",
       "    <tr style=\"text-align: right;\">\n",
       "      <th></th>\n",
       "      <th>TEMPODESLOC</th>\n",
       "      <th>TEMPOTOTAL</th>\n",
       "      <th>TEMPOEDFIS</th>\n",
       "      <th>TEMPOEXTRA</th>\n",
       "      <th>TEMPOEST</th>\n",
       "      <th>VB17001</th>\n",
       "      <th>VB17002</th>\n",
       "      <th>VB17003</th>\n",
       "      <th>VB17004</th>\n",
       "      <th>PESO</th>\n",
       "    </tr>\n",
       "  </thead>\n",
       "  <tbody>\n",
       "    <tr>\n",
       "      <th>0</th>\n",
       "      <td>0.0</td>\n",
       "      <td>15.0</td>\n",
       "      <td>0.0</td>\n",
       "      <td>15.0</td>\n",
       "      <td>60.0</td>\n",
       "      <td>371.0</td>\n",
       "      <td>1570.0</td>\n",
       "      <td>37.1</td>\n",
       "      <td>157.0</td>\n",
       "      <td>299.735235</td>\n",
       "    </tr>\n",
       "    <tr>\n",
       "      <th>1</th>\n",
       "      <td>120.0</td>\n",
       "      <td>510.0</td>\n",
       "      <td>260.0</td>\n",
       "      <td>130.0</td>\n",
       "      <td>300.0</td>\n",
       "      <td>502.0</td>\n",
       "      <td>1520.0</td>\n",
       "      <td>50.2</td>\n",
       "      <td>152.0</td>\n",
       "      <td>355.170081</td>\n",
       "    </tr>\n",
       "    <tr>\n",
       "      <th>2</th>\n",
       "      <td>0.0</td>\n",
       "      <td>585.0</td>\n",
       "      <td>130.0</td>\n",
       "      <td>455.0</td>\n",
       "      <td>420.0</td>\n",
       "      <td>482.0</td>\n",
       "      <td>1614.0</td>\n",
       "      <td>48.2</td>\n",
       "      <td>161.4</td>\n",
       "      <td>299.735235</td>\n",
       "    </tr>\n",
       "    <tr>\n",
       "      <th>3</th>\n",
       "      <td>0.0</td>\n",
       "      <td>0.0</td>\n",
       "      <td>0.0</td>\n",
       "      <td>0.0</td>\n",
       "      <td>0.0</td>\n",
       "      <td>694.0</td>\n",
       "      <td>1725.0</td>\n",
       "      <td>69.4</td>\n",
       "      <td>172.5</td>\n",
       "      <td>355.170081</td>\n",
       "    </tr>\n",
       "    <tr>\n",
       "      <th>4</th>\n",
       "      <td>30.0</td>\n",
       "      <td>165.0</td>\n",
       "      <td>90.0</td>\n",
       "      <td>45.0</td>\n",
       "      <td>60.0</td>\n",
       "      <td>789.0</td>\n",
       "      <td>1675.0</td>\n",
       "      <td>78.9</td>\n",
       "      <td>167.5</td>\n",
       "      <td>299.735235</td>\n",
       "    </tr>\n",
       "    <tr>\n",
       "      <th>...</th>\n",
       "      <td>...</td>\n",
       "      <td>...</td>\n",
       "      <td>...</td>\n",
       "      <td>...</td>\n",
       "      <td>...</td>\n",
       "      <td>...</td>\n",
       "      <td>...</td>\n",
       "      <td>...</td>\n",
       "      <td>...</td>\n",
       "      <td>...</td>\n",
       "    </tr>\n",
       "    <tr>\n",
       "      <th>16551</th>\n",
       "      <td>30.0</td>\n",
       "      <td>400.0</td>\n",
       "      <td>110.0</td>\n",
       "      <td>260.0</td>\n",
       "      <td>240.0</td>\n",
       "      <td>567.0</td>\n",
       "      <td>1679.0</td>\n",
       "      <td>56.7</td>\n",
       "      <td>167.9</td>\n",
       "      <td>447.815539</td>\n",
       "    </tr>\n",
       "    <tr>\n",
       "      <th>16552</th>\n",
       "      <td>20.0</td>\n",
       "      <td>800.0</td>\n",
       "      <td>325.0</td>\n",
       "      <td>455.0</td>\n",
       "      <td>240.0</td>\n",
       "      <td>619.0</td>\n",
       "      <td>1858.0</td>\n",
       "      <td>61.9</td>\n",
       "      <td>185.8</td>\n",
       "      <td>592.507440</td>\n",
       "    </tr>\n",
       "    <tr>\n",
       "      <th>16553</th>\n",
       "      <td>0.0</td>\n",
       "      <td>0.0</td>\n",
       "      <td>0.0</td>\n",
       "      <td>0.0</td>\n",
       "      <td>60.0</td>\n",
       "      <td>609.0</td>\n",
       "      <td>1594.0</td>\n",
       "      <td>60.9</td>\n",
       "      <td>159.4</td>\n",
       "      <td>401.131512</td>\n",
       "    </tr>\n",
       "    <tr>\n",
       "      <th>16554</th>\n",
       "      <td>75.0</td>\n",
       "      <td>215.0</td>\n",
       "      <td>35.0</td>\n",
       "      <td>105.0</td>\n",
       "      <td>120.0</td>\n",
       "      <td>473.0</td>\n",
       "      <td>1578.0</td>\n",
       "      <td>47.3</td>\n",
       "      <td>157.8</td>\n",
       "      <td>442.718091</td>\n",
       "    </tr>\n",
       "    <tr>\n",
       "      <th>16555</th>\n",
       "      <td>50.0</td>\n",
       "      <td>485.0</td>\n",
       "      <td>110.0</td>\n",
       "      <td>325.0</td>\n",
       "      <td>360.0</td>\n",
       "      <td>626.0</td>\n",
       "      <td>1639.0</td>\n",
       "      <td>62.6</td>\n",
       "      <td>163.9</td>\n",
       "      <td>592.507440</td>\n",
       "    </tr>\n",
       "  </tbody>\n",
       "</table>\n",
       "<p>16556 rows × 10 columns</p>\n",
       "</div>"
      ],
      "text/plain": [
       "       TEMPODESLOC  TEMPOTOTAL  TEMPOEDFIS  TEMPOEXTRA  TEMPOEST  VB17001  \\\n",
       "0              0.0        15.0         0.0        15.0      60.0    371.0   \n",
       "1            120.0       510.0       260.0       130.0     300.0    502.0   \n",
       "2              0.0       585.0       130.0       455.0     420.0    482.0   \n",
       "3              0.0         0.0         0.0         0.0       0.0    694.0   \n",
       "4             30.0       165.0        90.0        45.0      60.0    789.0   \n",
       "...            ...         ...         ...         ...       ...      ...   \n",
       "16551         30.0       400.0       110.0       260.0     240.0    567.0   \n",
       "16552         20.0       800.0       325.0       455.0     240.0    619.0   \n",
       "16553          0.0         0.0         0.0         0.0      60.0    609.0   \n",
       "16554         75.0       215.0        35.0       105.0     120.0    473.0   \n",
       "16555         50.0       485.0       110.0       325.0     360.0    626.0   \n",
       "\n",
       "       VB17002  VB17003  VB17004        PESO  \n",
       "0       1570.0     37.1    157.0  299.735235  \n",
       "1       1520.0     50.2    152.0  355.170081  \n",
       "2       1614.0     48.2    161.4  299.735235  \n",
       "3       1725.0     69.4    172.5  355.170081  \n",
       "4       1675.0     78.9    167.5  299.735235  \n",
       "...        ...      ...      ...         ...  \n",
       "16551   1679.0     56.7    167.9  447.815539  \n",
       "16552   1858.0     61.9    185.8  592.507440  \n",
       "16553   1594.0     60.9    159.4  401.131512  \n",
       "16554   1578.0     47.3    157.8  442.718091  \n",
       "16555   1639.0     62.6    163.9  592.507440  \n",
       "\n",
       "[16556 rows x 10 columns]"
      ]
     },
     "execution_count": 10,
     "metadata": {},
     "output_type": "execute_result"
    }
   ],
   "source": [
    "dados.select_dtypes(include='float64')"
   ]
  },
  {
   "cell_type": "code",
   "execution_count": 11,
   "metadata": {},
   "outputs": [
    {
     "data": {
      "text/plain": [
       "1    8287\n",
       "2    8269\n",
       "Name: VB01001, dtype: int64"
      ]
     },
     "execution_count": 11,
     "metadata": {},
     "output_type": "execute_result"
    }
   ],
   "source": [
    "dados['VB01001'].value_counts()"
   ]
  },
  {
   "cell_type": "code",
   "execution_count": 12,
   "metadata": {},
   "outputs": [
    {
     "data": {
      "text/plain": [
       "1    50.054361\n",
       "2    49.945639\n",
       "Name: VB01001, dtype: float64"
      ]
     },
     "execution_count": 12,
     "metadata": {},
     "output_type": "execute_result"
    }
   ],
   "source": [
    "dados['VB01001'].value_counts(normalize=True)*100"
   ]
  },
  {
   "cell_type": "code",
   "execution_count": 13,
   "metadata": {},
   "outputs": [
    {
     "data": {
      "text/plain": [
       "2     41.797536\n",
       "1     27.832810\n",
       "4     14.049287\n",
       "3     10.914472\n",
       "5      4.312636\n",
       "99     1.093259\n",
       "Name: VB11007, dtype: float64"
      ]
     },
     "execution_count": 13,
     "metadata": {},
     "output_type": "execute_result"
    }
   ],
   "source": [
    "dados['VB11007'].value_counts(normalize=True)*100"
   ]
  },
  {
   "cell_type": "code",
   "execution_count": 14,
   "metadata": {},
   "outputs": [],
   "source": [
    "respostas = {\n",
    "    1:'Muito satisfeito',\n",
    "    2:'Satisfeito',\n",
    "    3:'Indiferente',\n",
    "    4:'Insatisfeito',\n",
    "    5:'Muito Insatisfeito',\n",
    "    99:'Não Informado',\n",
    "}\n",
    "frequencia = dados['VB11007'].value_counts()\n",
    "percentual = dados['VB11007'].value_counts(normalize=True)*100\n",
    "dist_frequ = pd.DataFrame({'Frequência': frequencia, 'Percentual': percentual})\n",
    "dist_frequ.rename(index = respostas, inplace=True)\n",
    "dist_frequ.rename_axis('Sentimento em relação ao seu corpo', axis = 1, inplace=True)"
   ]
  },
  {
   "cell_type": "code",
   "execution_count": 15,
   "metadata": {},
   "outputs": [
    {
     "data": {
      "text/html": [
       "<div>\n",
       "<style scoped>\n",
       "    .dataframe tbody tr th:only-of-type {\n",
       "        vertical-align: middle;\n",
       "    }\n",
       "\n",
       "    .dataframe tbody tr th {\n",
       "        vertical-align: top;\n",
       "    }\n",
       "\n",
       "    .dataframe thead th {\n",
       "        text-align: right;\n",
       "    }\n",
       "</style>\n",
       "<table border=\"1\" class=\"dataframe\">\n",
       "  <thead>\n",
       "    <tr style=\"text-align: right;\">\n",
       "      <th>Sentimento em relação ao seu corpo</th>\n",
       "      <th>Frequência</th>\n",
       "      <th>Percentual</th>\n",
       "    </tr>\n",
       "  </thead>\n",
       "  <tbody>\n",
       "    <tr>\n",
       "      <th>Satisfeito</th>\n",
       "      <td>6920</td>\n",
       "      <td>41.797536</td>\n",
       "    </tr>\n",
       "    <tr>\n",
       "      <th>Muito satisfeito</th>\n",
       "      <td>4608</td>\n",
       "      <td>27.832810</td>\n",
       "    </tr>\n",
       "    <tr>\n",
       "      <th>Insatisfeito</th>\n",
       "      <td>2326</td>\n",
       "      <td>14.049287</td>\n",
       "    </tr>\n",
       "    <tr>\n",
       "      <th>Indiferente</th>\n",
       "      <td>1807</td>\n",
       "      <td>10.914472</td>\n",
       "    </tr>\n",
       "    <tr>\n",
       "      <th>Muito Insatisfeito</th>\n",
       "      <td>714</td>\n",
       "      <td>4.312636</td>\n",
       "    </tr>\n",
       "    <tr>\n",
       "      <th>Não Informado</th>\n",
       "      <td>181</td>\n",
       "      <td>1.093259</td>\n",
       "    </tr>\n",
       "  </tbody>\n",
       "</table>\n",
       "</div>"
      ],
      "text/plain": [
       "Sentimento em relação ao seu corpo  Frequência  Percentual\n",
       "Satisfeito                                6920   41.797536\n",
       "Muito satisfeito                          4608   27.832810\n",
       "Insatisfeito                              2326   14.049287\n",
       "Indiferente                               1807   10.914472\n",
       "Muito Insatisfeito                         714    4.312636\n",
       "Não Informado                              181    1.093259"
      ]
     },
     "execution_count": 15,
     "metadata": {},
     "output_type": "execute_result"
    }
   ],
   "source": [
    "dist_frequ"
   ]
  },
  {
   "cell_type": "markdown",
   "metadata": {},
   "source": [
    "Desafio 3: Criar uma funçao para gerar a tabela de frequencia e analisar outras informações"
   ]
  },
  {
   "cell_type": "code",
   "execution_count": 16,
   "metadata": {},
   "outputs": [],
   "source": [
    "def tabela_frequencia(dataframe,coluna,pergunta):\n",
    "    frequencia = dataframe[coluna].value_counts()\n",
    "    percentual = dataframe[coluna].value_counts(normalize=True)*100\n",
    "    dist_frequ = pd.DataFrame({'Frequência': frequencia, 'Percentual': percentual})\n",
    "    dist_frequ.rename_axis(pergunta, axis = 1, inplace=True)\n",
    "    return dist_frequ\n",
    "    "
   ]
  },
  {
   "cell_type": "code",
   "execution_count": 17,
   "metadata": {},
   "outputs": [
    {
     "data": {
      "text/html": [
       "<div>\n",
       "<style scoped>\n",
       "    .dataframe tbody tr th:only-of-type {\n",
       "        vertical-align: middle;\n",
       "    }\n",
       "\n",
       "    .dataframe tbody tr th {\n",
       "        vertical-align: top;\n",
       "    }\n",
       "\n",
       "    .dataframe thead th {\n",
       "        text-align: right;\n",
       "    }\n",
       "</style>\n",
       "<table border=\"1\" class=\"dataframe\">\n",
       "  <thead>\n",
       "    <tr style=\"text-align: right;\">\n",
       "      <th>Sentimento em relação ao seu corpo</th>\n",
       "      <th>Frequência</th>\n",
       "      <th>Percentual</th>\n",
       "    </tr>\n",
       "  </thead>\n",
       "  <tbody>\n",
       "    <tr>\n",
       "      <th>2</th>\n",
       "      <td>6920</td>\n",
       "      <td>41.797536</td>\n",
       "    </tr>\n",
       "    <tr>\n",
       "      <th>1</th>\n",
       "      <td>4608</td>\n",
       "      <td>27.832810</td>\n",
       "    </tr>\n",
       "    <tr>\n",
       "      <th>4</th>\n",
       "      <td>2326</td>\n",
       "      <td>14.049287</td>\n",
       "    </tr>\n",
       "    <tr>\n",
       "      <th>3</th>\n",
       "      <td>1807</td>\n",
       "      <td>10.914472</td>\n",
       "    </tr>\n",
       "    <tr>\n",
       "      <th>5</th>\n",
       "      <td>714</td>\n",
       "      <td>4.312636</td>\n",
       "    </tr>\n",
       "    <tr>\n",
       "      <th>99</th>\n",
       "      <td>181</td>\n",
       "      <td>1.093259</td>\n",
       "    </tr>\n",
       "  </tbody>\n",
       "</table>\n",
       "</div>"
      ],
      "text/plain": [
       "Sentimento em relação ao seu corpo  Frequência  Percentual\n",
       "2                                         6920   41.797536\n",
       "1                                         4608   27.832810\n",
       "4                                         2326   14.049287\n",
       "3                                         1807   10.914472\n",
       "5                                          714    4.312636\n",
       "99                                         181    1.093259"
      ]
     },
     "execution_count": 17,
     "metadata": {},
     "output_type": "execute_result"
    }
   ],
   "source": [
    "tabela_frequencia(dados,'VB11007','Sentimento em relação ao seu corpo')"
   ]
  },
  {
   "cell_type": "markdown",
   "metadata": {},
   "source": [
    "Fim desafio 3"
   ]
  },
  {
   "cell_type": "code",
   "execution_count": 18,
   "metadata": {},
   "outputs": [
    {
     "data": {
      "text/plain": [
       "0        157.0\n",
       "1        152.0\n",
       "2        161.4\n",
       "3        172.5\n",
       "4        167.5\n",
       "         ...  \n",
       "16551    167.9\n",
       "16552    185.8\n",
       "16553    159.4\n",
       "16554    157.8\n",
       "16555    163.9\n",
       "Name: VB17004, Length: 16556, dtype: float64"
      ]
     },
     "execution_count": 18,
     "metadata": {},
     "output_type": "execute_result"
    }
   ],
   "source": [
    "dados['VB17004']"
   ]
  },
  {
   "cell_type": "code",
   "execution_count": 19,
   "metadata": {},
   "outputs": [],
   "source": [
    "dados['IMC'] = (dados['VB17003']/(dados['VB17004']/100)**2)"
   ]
  },
  {
   "cell_type": "code",
   "execution_count": 20,
   "metadata": {},
   "outputs": [],
   "source": [
    "classes = [0,18.5,25,30,60]\n",
    "labels = ['abaixo', 'ideal', 'sobrepeso', 'obesidade']\n",
    "\n",
    "dados['CLASSE_IMC']=pd.cut(x=dados['IMC'],bins=classes,labels=labels,include_lowest = True)"
   ]
  },
  {
   "cell_type": "code",
   "execution_count": 21,
   "metadata": {},
   "outputs": [
    {
     "data": {
      "text/html": [
       "<div>\n",
       "<style scoped>\n",
       "    .dataframe tbody tr th:only-of-type {\n",
       "        vertical-align: middle;\n",
       "    }\n",
       "\n",
       "    .dataframe tbody tr th {\n",
       "        vertical-align: top;\n",
       "    }\n",
       "\n",
       "    .dataframe thead th {\n",
       "        text-align: right;\n",
       "    }\n",
       "</style>\n",
       "<table border=\"1\" class=\"dataframe\">\n",
       "  <thead>\n",
       "    <tr style=\"text-align: right;\">\n",
       "      <th></th>\n",
       "      <th>IMC</th>\n",
       "      <th>CLASSE_IMC</th>\n",
       "    </tr>\n",
       "  </thead>\n",
       "  <tbody>\n",
       "    <tr>\n",
       "      <th>0</th>\n",
       "      <td>15.051321</td>\n",
       "      <td>abaixo</td>\n",
       "    </tr>\n",
       "    <tr>\n",
       "      <th>1</th>\n",
       "      <td>21.727839</td>\n",
       "      <td>ideal</td>\n",
       "    </tr>\n",
       "    <tr>\n",
       "      <th>2</th>\n",
       "      <td>18.502907</td>\n",
       "      <td>ideal</td>\n",
       "    </tr>\n",
       "    <tr>\n",
       "      <th>3</th>\n",
       "      <td>23.322831</td>\n",
       "      <td>ideal</td>\n",
       "    </tr>\n",
       "    <tr>\n",
       "      <th>4</th>\n",
       "      <td>28.122076</td>\n",
       "      <td>sobrepeso</td>\n",
       "    </tr>\n",
       "    <tr>\n",
       "      <th>...</th>\n",
       "      <td>...</td>\n",
       "      <td>...</td>\n",
       "    </tr>\n",
       "    <tr>\n",
       "      <th>16551</th>\n",
       "      <td>20.113223</td>\n",
       "      <td>ideal</td>\n",
       "    </tr>\n",
       "    <tr>\n",
       "      <th>16552</th>\n",
       "      <td>17.930782</td>\n",
       "      <td>abaixo</td>\n",
       "    </tr>\n",
       "    <tr>\n",
       "      <th>16553</th>\n",
       "      <td>23.968489</td>\n",
       "      <td>ideal</td>\n",
       "    </tr>\n",
       "    <tr>\n",
       "      <th>16554</th>\n",
       "      <td>18.995343</td>\n",
       "      <td>ideal</td>\n",
       "    </tr>\n",
       "    <tr>\n",
       "      <th>16555</th>\n",
       "      <td>23.303246</td>\n",
       "      <td>ideal</td>\n",
       "    </tr>\n",
       "  </tbody>\n",
       "</table>\n",
       "<p>16556 rows × 2 columns</p>\n",
       "</div>"
      ],
      "text/plain": [
       "             IMC CLASSE_IMC\n",
       "0      15.051321     abaixo\n",
       "1      21.727839      ideal\n",
       "2      18.502907      ideal\n",
       "3      23.322831      ideal\n",
       "4      28.122076  sobrepeso\n",
       "...          ...        ...\n",
       "16551  20.113223      ideal\n",
       "16552  17.930782     abaixo\n",
       "16553  23.968489      ideal\n",
       "16554  18.995343      ideal\n",
       "16555  23.303246      ideal\n",
       "\n",
       "[16556 rows x 2 columns]"
      ]
     },
     "execution_count": 21,
     "metadata": {},
     "output_type": "execute_result"
    }
   ],
   "source": [
    "dados[['IMC','CLASSE_IMC']]"
   ]
  },
  {
   "cell_type": "code",
   "execution_count": 22,
   "metadata": {},
   "outputs": [
    {
     "data": {
      "text/html": [
       "<div>\n",
       "<style scoped>\n",
       "    .dataframe tbody tr th:only-of-type {\n",
       "        vertical-align: middle;\n",
       "    }\n",
       "\n",
       "    .dataframe tbody tr th {\n",
       "        vertical-align: top;\n",
       "    }\n",
       "\n",
       "    .dataframe thead th {\n",
       "        text-align: right;\n",
       "    }\n",
       "</style>\n",
       "<table border=\"1\" class=\"dataframe\">\n",
       "  <thead>\n",
       "    <tr style=\"text-align: right;\">\n",
       "      <th>Classificação IMC</th>\n",
       "      <th>Frequência</th>\n",
       "      <th>Percentual</th>\n",
       "    </tr>\n",
       "  </thead>\n",
       "  <tbody>\n",
       "    <tr>\n",
       "      <th>ideal</th>\n",
       "      <td>9188</td>\n",
       "      <td>55.496497</td>\n",
       "    </tr>\n",
       "    <tr>\n",
       "      <th>abaixo</th>\n",
       "      <td>4975</td>\n",
       "      <td>30.049529</td>\n",
       "    </tr>\n",
       "    <tr>\n",
       "      <th>sobrepeso</th>\n",
       "      <td>1760</td>\n",
       "      <td>10.630587</td>\n",
       "    </tr>\n",
       "    <tr>\n",
       "      <th>obesidade</th>\n",
       "      <td>633</td>\n",
       "      <td>3.823387</td>\n",
       "    </tr>\n",
       "  </tbody>\n",
       "</table>\n",
       "</div>"
      ],
      "text/plain": [
       "Classificação IMC  Frequência  Percentual\n",
       "ideal                    9188   55.496497\n",
       "abaixo                   4975   30.049529\n",
       "sobrepeso                1760   10.630587\n",
       "obesidade                 633    3.823387"
      ]
     },
     "execution_count": 22,
     "metadata": {},
     "output_type": "execute_result"
    }
   ],
   "source": [
    "tabela_frequencia(dados,'CLASSE_IMC','Classificação IMC')"
   ]
  },
  {
   "cell_type": "code",
   "execution_count": 23,
   "metadata": {},
   "outputs": [
    {
     "name": "stderr",
     "output_type": "stream",
     "text": [
      "C:\\Users\\r9kx\\Anaconda3\\lib\\site-packages\\seaborn\\distributions.py:2551: FutureWarning: `distplot` is a deprecated function and will be removed in a future version. Please adapt your code to use either `displot` (a figure-level function with similar flexibility) or `histplot` (an axes-level function for histograms).\n",
      "  warnings.warn(msg, FutureWarning)\n"
     ]
    },
    {
     "data": {
      "image/png": "[encoded data removed]",
      "text/plain": [
       "<Figure size 864x576 with 1 Axes>"
      ]
     },
     "metadata": {},
     "output_type": "display_data"
    }
   ],
   "source": [
    "plt.figure(figsize=(12,8))\n",
    "sns.distplot(dados['IMC'])\n",
    "plt.show()"
   ]
  },
  {
   "cell_type": "markdown",
   "metadata": {},
   "source": [
    "Sturges defende que o numero de classes depende do numero de amostras\n",
    "\n",
    "$ k = 1+10/3*log10(tamanho_amostra)$"
   ]
  },
  {
   "cell_type": "code",
   "execution_count": 24,
   "metadata": {},
   "outputs": [
    {
     "data": {
      "text/plain": [
       "124.1"
      ]
     },
     "execution_count": 24,
     "metadata": {},
     "output_type": "execute_result"
    }
   ],
   "source": [
    "dados['VB17004'].min()"
   ]
  },
  {
   "cell_type": "code",
   "execution_count": 25,
   "metadata": {},
   "outputs": [
    {
     "data": {
      "text/plain": [
       "195.3"
      ]
     },
     "execution_count": 25,
     "metadata": {},
     "output_type": "execute_result"
    }
   ],
   "source": [
    "dados['VB17004'].max()"
   ]
  },
  {
   "cell_type": "code",
   "execution_count": 26,
   "metadata": {},
   "outputs": [
    {
     "data": {
      "text/plain": [
       "15"
      ]
     },
     "execution_count": 26,
     "metadata": {},
     "output_type": "execute_result"
    }
   ],
   "source": [
    "tamanho_amostra = len(dados)\n",
    "k=int(1+((10/3)*np.log10(tamanho_amostra)))\n",
    "k"
   ]
  },
  {
   "cell_type": "code",
   "execution_count": 27,
   "metadata": {},
   "outputs": [],
   "source": [
    "dados['CLASSE_ALTURA']=pd.cut(x=dados['IMC'],bins=k,include_lowest = True)"
   ]
  },
  {
   "cell_type": "code",
   "execution_count": 28,
   "metadata": {},
   "outputs": [
    {
     "data": {
      "text/plain": [
       "0         (11.814, 15.62]\n",
       "1        (19.425, 23.231]\n",
       "2         (15.62, 19.425]\n",
       "3        (23.231, 27.036]\n",
       "4        (27.036, 30.841]\n",
       "               ...       \n",
       "16551    (19.425, 23.231]\n",
       "16552     (15.62, 19.425]\n",
       "16553    (23.231, 27.036]\n",
       "16554     (15.62, 19.425]\n",
       "16555    (23.231, 27.036]\n",
       "Name: CLASSE_ALTURA, Length: 16556, dtype: category\n",
       "Categories (15, interval[float64]): [(0.34, 4.203] < (4.203, 8.009] < (8.009, 11.814] < (11.814, 15.62] ... (42.258, 46.063] < (46.063, 49.869] < (49.869, 53.674] < (53.674, 57.48]]"
      ]
     },
     "execution_count": 28,
     "metadata": {},
     "output_type": "execute_result"
    }
   ],
   "source": [
    "dados['CLASSE_ALTURA']"
   ]
  },
  {
   "cell_type": "code",
   "execution_count": 29,
   "metadata": {},
   "outputs": [
    {
     "data": {
      "text/html": [
       "<div>\n",
       "<style scoped>\n",
       "    .dataframe tbody tr th:only-of-type {\n",
       "        vertical-align: middle;\n",
       "    }\n",
       "\n",
       "    .dataframe tbody tr th {\n",
       "        vertical-align: top;\n",
       "    }\n",
       "\n",
       "    .dataframe thead th {\n",
       "        text-align: right;\n",
       "    }\n",
       "</style>\n",
       "<table border=\"1\" class=\"dataframe\">\n",
       "  <thead>\n",
       "    <tr style=\"text-align: right;\">\n",
       "      <th>Classificação por Altura</th>\n",
       "      <th>Frequência</th>\n",
       "      <th>Percentual</th>\n",
       "    </tr>\n",
       "  </thead>\n",
       "  <tbody>\n",
       "    <tr>\n",
       "      <th>(15.62, 19.425]</th>\n",
       "      <td>5981</td>\n",
       "      <td>36.125876</td>\n",
       "    </tr>\n",
       "    <tr>\n",
       "      <th>(19.425, 23.231]</th>\n",
       "      <td>5901</td>\n",
       "      <td>35.642667</td>\n",
       "    </tr>\n",
       "    <tr>\n",
       "      <th>(23.231, 27.036]</th>\n",
       "      <td>2425</td>\n",
       "      <td>14.647258</td>\n",
       "    </tr>\n",
       "    <tr>\n",
       "      <th>(27.036, 30.841]</th>\n",
       "      <td>935</td>\n",
       "      <td>5.647499</td>\n",
       "    </tr>\n",
       "    <tr>\n",
       "      <th>(11.814, 15.62]</th>\n",
       "      <td>827</td>\n",
       "      <td>4.995168</td>\n",
       "    </tr>\n",
       "    <tr>\n",
       "      <th>(30.841, 34.647]</th>\n",
       "      <td>326</td>\n",
       "      <td>1.969075</td>\n",
       "    </tr>\n",
       "    <tr>\n",
       "      <th>(34.647, 38.452]</th>\n",
       "      <td>100</td>\n",
       "      <td>0.604011</td>\n",
       "    </tr>\n",
       "    <tr>\n",
       "      <th>(38.452, 42.258]</th>\n",
       "      <td>39</td>\n",
       "      <td>0.235564</td>\n",
       "    </tr>\n",
       "    <tr>\n",
       "      <th>(42.258, 46.063]</th>\n",
       "      <td>8</td>\n",
       "      <td>0.048321</td>\n",
       "    </tr>\n",
       "    <tr>\n",
       "      <th>(46.063, 49.869]</th>\n",
       "      <td>5</td>\n",
       "      <td>0.030201</td>\n",
       "    </tr>\n",
       "    <tr>\n",
       "      <th>(49.869, 53.674]</th>\n",
       "      <td>4</td>\n",
       "      <td>0.024160</td>\n",
       "    </tr>\n",
       "    <tr>\n",
       "      <th>(53.674, 57.48]</th>\n",
       "      <td>3</td>\n",
       "      <td>0.018120</td>\n",
       "    </tr>\n",
       "    <tr>\n",
       "      <th>(8.009, 11.814]</th>\n",
       "      <td>1</td>\n",
       "      <td>0.006040</td>\n",
       "    </tr>\n",
       "    <tr>\n",
       "      <th>(0.34, 4.203]</th>\n",
       "      <td>1</td>\n",
       "      <td>0.006040</td>\n",
       "    </tr>\n",
       "    <tr>\n",
       "      <th>(4.203, 8.009]</th>\n",
       "      <td>0</td>\n",
       "      <td>0.000000</td>\n",
       "    </tr>\n",
       "  </tbody>\n",
       "</table>\n",
       "</div>"
      ],
      "text/plain": [
       "Classificação por Altura  Frequência  Percentual\n",
       "(15.62, 19.425]                 5981   36.125876\n",
       "(19.425, 23.231]                5901   35.642667\n",
       "(23.231, 27.036]                2425   14.647258\n",
       "(27.036, 30.841]                 935    5.647499\n",
       "(11.814, 15.62]                  827    4.995168\n",
       "(30.841, 34.647]                 326    1.969075\n",
       "(34.647, 38.452]                 100    0.604011\n",
       "(38.452, 42.258]                  39    0.235564\n",
       "(42.258, 46.063]                   8    0.048321\n",
       "(46.063, 49.869]                   5    0.030201\n",
       "(49.869, 53.674]                   4    0.024160\n",
       "(53.674, 57.48]                    3    0.018120\n",
       "(8.009, 11.814]                    1    0.006040\n",
       "(0.34, 4.203]                      1    0.006040\n",
       "(4.203, 8.009]                     0    0.000000"
      ]
     },
     "execution_count": 29,
     "metadata": {},
     "output_type": "execute_result"
    }
   ],
   "source": [
    "tabela_frequencia(dados,'CLASSE_ALTURA','Classificação por Altura')"
   ]
  },
  {
   "cell_type": "markdown",
   "metadata": {},
   "source": [
    "Desafio 04 tabela de frequencia para o peso"
   ]
  },
  {
   "cell_type": "code",
   "execution_count": 33,
   "metadata": {},
   "outputs": [
    {
     "data": {
      "text/html": [
       "<div>\n",
       "<style scoped>\n",
       "    .dataframe tbody tr th:only-of-type {\n",
       "        vertical-align: middle;\n",
       "    }\n",
       "\n",
       "    .dataframe tbody tr th {\n",
       "        vertical-align: top;\n",
       "    }\n",
       "\n",
       "    .dataframe thead th {\n",
       "        text-align: right;\n",
       "    }\n",
       "</style>\n",
       "<table border=\"1\" class=\"dataframe\">\n",
       "  <thead>\n",
       "    <tr style=\"text-align: right;\">\n",
       "      <th>VB01001</th>\n",
       "      <th>Masculino</th>\n",
       "      <th>Feminino</th>\n",
       "    </tr>\n",
       "    <tr>\n",
       "      <th>VB11007</th>\n",
       "      <th></th>\n",
       "      <th></th>\n",
       "    </tr>\n",
       "  </thead>\n",
       "  <tbody>\n",
       "    <tr>\n",
       "      <th>Muito satisfeito</th>\n",
       "      <td>0.161996</td>\n",
       "      <td>0.116332</td>\n",
       "    </tr>\n",
       "    <tr>\n",
       "      <th>Satisfeito</th>\n",
       "      <td>0.210800</td>\n",
       "      <td>0.207176</td>\n",
       "    </tr>\n",
       "    <tr>\n",
       "      <th>Indiferente</th>\n",
       "      <td>0.057381</td>\n",
       "      <td>0.051764</td>\n",
       "    </tr>\n",
       "    <tr>\n",
       "      <th>Insatisfeito</th>\n",
       "      <td>0.047475</td>\n",
       "      <td>0.093018</td>\n",
       "    </tr>\n",
       "    <tr>\n",
       "      <th>Muito Insatisfeito</th>\n",
       "      <td>0.015704</td>\n",
       "      <td>0.027422</td>\n",
       "    </tr>\n",
       "    <tr>\n",
       "      <th>Não Informado</th>\n",
       "      <td>0.007188</td>\n",
       "      <td>0.003745</td>\n",
       "    </tr>\n",
       "  </tbody>\n",
       "</table>\n",
       "</div>"
      ],
      "text/plain": [
       "VB01001             Masculino  Feminino\n",
       "VB11007                                \n",
       "Muito satisfeito     0.161996  0.116332\n",
       "Satisfeito           0.210800  0.207176\n",
       "Indiferente          0.057381  0.051764\n",
       "Insatisfeito         0.047475  0.093018\n",
       "Muito Insatisfeito   0.015704  0.027422\n",
       "Não Informado        0.007188  0.003745"
      ]
     },
     "execution_count": 33,
     "metadata": {},
     "output_type": "execute_result"
    }
   ],
   "source": [
    "frequencia_cruzada = pd.crosstab(dados['VB11007'],dados['VB01001'],normalize=True)\n",
    "frequencia_cruzada.rename(index= respostas, inplace= True)\n",
    "frequencia_cruzada.rename(columns = {1:'Masculino',2:'Feminino'}, inplace= True)\n",
    "frequencia_cruzada"
   ]
  },
  {
   "cell_type": "code",
   "execution_count": 35,
   "metadata": {},
   "outputs": [
    {
     "data": {
      "text/html": [
       "<div>\n",
       "<style scoped>\n",
       "    .dataframe tbody tr th:only-of-type {\n",
       "        vertical-align: middle;\n",
       "    }\n",
       "\n",
       "    .dataframe tbody tr th {\n",
       "        vertical-align: top;\n",
       "    }\n",
       "\n",
       "    .dataframe thead th {\n",
       "        text-align: right;\n",
       "    }\n",
       "</style>\n",
       "<table border=\"1\" class=\"dataframe\">\n",
       "  <thead>\n",
       "    <tr style=\"text-align: right;\">\n",
       "      <th>VB01001</th>\n",
       "      <th>Masculino</th>\n",
       "      <th>Feminino</th>\n",
       "    </tr>\n",
       "    <tr>\n",
       "      <th>VB11007</th>\n",
       "      <th></th>\n",
       "      <th></th>\n",
       "    </tr>\n",
       "  </thead>\n",
       "  <tbody>\n",
       "    <tr>\n",
       "      <th>Muito satisfeito</th>\n",
       "      <td>32.363944</td>\n",
       "      <td>23.291813</td>\n",
       "    </tr>\n",
       "    <tr>\n",
       "      <th>Satisfeito</th>\n",
       "      <td>42.114155</td>\n",
       "      <td>41.480227</td>\n",
       "    </tr>\n",
       "    <tr>\n",
       "      <th>Indiferente</th>\n",
       "      <td>11.463738</td>\n",
       "      <td>10.364010</td>\n",
       "    </tr>\n",
       "    <tr>\n",
       "      <th>Insatisfeito</th>\n",
       "      <td>9.484735</td>\n",
       "      <td>18.623776</td>\n",
       "    </tr>\n",
       "    <tr>\n",
       "      <th>Muito Insatisfeito</th>\n",
       "      <td>3.137444</td>\n",
       "      <td>5.490386</td>\n",
       "    </tr>\n",
       "    <tr>\n",
       "      <th>Não Informado</th>\n",
       "      <td>1.435984</td>\n",
       "      <td>0.749788</td>\n",
       "    </tr>\n",
       "  </tbody>\n",
       "</table>\n",
       "</div>"
      ],
      "text/plain": [
       "VB01001             Masculino   Feminino\n",
       "VB11007                                 \n",
       "Muito satisfeito    32.363944  23.291813\n",
       "Satisfeito          42.114155  41.480227\n",
       "Indiferente         11.463738  10.364010\n",
       "Insatisfeito         9.484735  18.623776\n",
       "Muito Insatisfeito   3.137444   5.490386\n",
       "Não Informado        1.435984   0.749788"
      ]
     },
     "execution_count": 35,
     "metadata": {},
     "output_type": "execute_result"
    }
   ],
   "source": [
    "frequencia_cruzada = pd.crosstab(dados['VB11007'],dados['VB01001'],normalize='columns')*100\n",
    "frequencia_cruzada.rename(index= respostas, inplace= True)\n",
    "frequencia_cruzada.rename(columns = {1:'Masculino',2:'Feminino'}, inplace= True)\n",
    "frequencia_cruzada"
   ]
  },
  {
   "cell_type": "code",
   "execution_count": 36,
   "metadata": {},
   "outputs": [
    {
     "data": {
      "text/html": [
       "<div>\n",
       "<style scoped>\n",
       "    .dataframe tbody tr th:only-of-type {\n",
       "        vertical-align: middle;\n",
       "    }\n",
       "\n",
       "    .dataframe tbody tr th {\n",
       "        vertical-align: top;\n",
       "    }\n",
       "\n",
       "    .dataframe thead th {\n",
       "        text-align: right;\n",
       "    }\n",
       "</style>\n",
       "<table border=\"1\" class=\"dataframe\">\n",
       "  <thead>\n",
       "    <tr style=\"text-align: right;\">\n",
       "      <th>VB01001</th>\n",
       "      <th>Masculino</th>\n",
       "      <th>Feminino</th>\n",
       "    </tr>\n",
       "    <tr>\n",
       "      <th>VB11007</th>\n",
       "      <th></th>\n",
       "      <th></th>\n",
       "    </tr>\n",
       "  </thead>\n",
       "  <tbody>\n",
       "    <tr>\n",
       "      <th>Muito satisfeito</th>\n",
       "      <td>58.203125</td>\n",
       "      <td>41.796875</td>\n",
       "    </tr>\n",
       "    <tr>\n",
       "      <th>Satisfeito</th>\n",
       "      <td>50.433526</td>\n",
       "      <td>49.566474</td>\n",
       "    </tr>\n",
       "    <tr>\n",
       "      <th>Indiferente</th>\n",
       "      <td>52.573326</td>\n",
       "      <td>47.426674</td>\n",
       "    </tr>\n",
       "    <tr>\n",
       "      <th>Insatisfeito</th>\n",
       "      <td>33.791917</td>\n",
       "      <td>66.208083</td>\n",
       "    </tr>\n",
       "    <tr>\n",
       "      <th>Muito Insatisfeito</th>\n",
       "      <td>36.414566</td>\n",
       "      <td>63.585434</td>\n",
       "    </tr>\n",
       "    <tr>\n",
       "      <th>Não Informado</th>\n",
       "      <td>65.745856</td>\n",
       "      <td>34.254144</td>\n",
       "    </tr>\n",
       "  </tbody>\n",
       "</table>\n",
       "</div>"
      ],
      "text/plain": [
       "VB01001             Masculino   Feminino\n",
       "VB11007                                 \n",
       "Muito satisfeito    58.203125  41.796875\n",
       "Satisfeito          50.433526  49.566474\n",
       "Indiferente         52.573326  47.426674\n",
       "Insatisfeito        33.791917  66.208083\n",
       "Muito Insatisfeito  36.414566  63.585434\n",
       "Não Informado       65.745856  34.254144"
      ]
     },
     "execution_count": 36,
     "metadata": {},
     "output_type": "execute_result"
    }
   ],
   "source": [
    "frequencia_cruzada = pd.crosstab(dados['VB11007'],dados['VB01001'],normalize='index')*100\n",
    "frequencia_cruzada.rename(index= respostas, inplace= True)\n",
    "frequencia_cruzada.rename(columns = {1:'Masculino',2:'Feminino'}, inplace= True)\n",
    "frequencia_cruzada"
   ]
  },
  {
   "cell_type": "markdown",
   "metadata": {},
   "source": [
    "Desafio 05 Criar outros crostab"
   ]
  },
  {
   "cell_type": "markdown",
   "metadata": {},
   "source": [
    "Desafio 6 Pesquisar sobre o parametro aggfunc e testar"
   ]
  },
  {
   "cell_type": "code",
   "execution_count": null,
   "metadata": {},
   "outputs": [],
   "source": []
  }
 ],
 "metadata": {
  "kernelspec": {
   "display_name": "Python 3",
   "language": "python",
   "name": "python3"
  },
  "language_info": {
   "codemirror_mode": {
    "name": "ipython",
    "version": 3
   },
   "file_extension": ".py",
   "mimetype": "text/x-python",
   "name": "python",
   "nbconvert_exporter": "python",
   "pygments_lexer": "ipython3",
   "version": "3.7.9"
  }
 },
 "nbformat": 4,
 "nbformat_minor": 4
}
