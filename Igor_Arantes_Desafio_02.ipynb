{
 "cells": [
  {
   "cell_type": "markdown",
   "metadata": {
    "id": "E27fQer3E8K9"
   },
   "source": [
    "Olá **Cientista**!\n",
    "\n",
    "Bem vinda e bem vindo ao **projeto do Módulo 02**, neste desafio queremos que você aplique tudo que aprendeu no módulo 1 e 2, analisando dados do [programa de imunização nascional](http://tabnet.datasus.gov.br/cgi/tabcgi.exe?pni/cnv/cpniuf.def), você pode analisar dados de **imunos** escolhidos por você, pode analisar toda a base de dados, apenas do seu estado ou de estados específicos. Pode analisar as taxas a cobertura ou doses calculadas, buscar outras fontes de informações fora do data SUS, como também, usar outros dados do DataSUS para enriquecer suas análises. \n",
    "\n",
    "\n",
    "\n",
    "Algumas dicas para você mandar bem no desafio final, capriche nas análises, escreva suas conclusões e hipóteses (mesmo que resultado seja inconclusivo) e não esqueça de colocar um resumo dos pontos que julgar mais interessantes do seu projeto.\n",
    "\n",
    "**P.S: Vamos agendar um cafezinho para discutir o módulo 2, fique atento para os aviso no DISCORD**\n",
    "\n",
    "E para que o seu projeto tenha a oportunidade de ser avalido pelo Thiago G. Santos e Átila Iamarino, ao vivo na **live de revisão de projetos** submeta o link compartilhado do seu notebook até dia 06/12 às 23h59 (Em breve o formulário para submissão será divulgado).\n",
    "\n",
    "Para facilitar a vida dos seus instrutores favoritos, no momento da correção, algumas dicas de como estruturar seu projeto:\n",
    "\n",
    "- Como título do seu **Colab** coloque seu nome (Ex: Thiago_Gonçalves.ipynb)\n",
    "- Crie um resumo das suas análises na parte superior do notebook\n",
    "- Informe no resumo os dados que vc vai analisar (Ex: Finaceiros e Internações)\n",
    "\n",
    "Qualquer dúvida não deixe de perguntar no Discord, compatilhe seu projeto nas redes sociais e crie um repositório no github, esse é o início do seu portifólio em Data Science.\n",
    "\n",
    "\n",
    "\n",
    "Fique a vontade para utilizar esse notebook como template projeto.\n",
    "\n"
   ]
  },
  {
   "cell_type": "markdown",
   "metadata": {
    "id": "RshO3GgDFGhB"
   },
   "source": [
    "# Resumo:\n",
    "\n",
    "Faça aqui o resumo das suas analises, destacando os pontos principais do seu projeto"
   ]
  },
  {
   "cell_type": "code",
   "execution_count": null,
   "metadata": {
    "id": "BUHuWTjaFGMV"
   },
   "outputs": [],
   "source": []
  },
  {
   "cell_type": "markdown",
   "metadata": {},
   "source": [
    "## Bibliotecas e configurações"
   ]
  },
  {
   "cell_type": "code",
   "execution_count": 3,
   "metadata": {},
   "outputs": [],
   "source": [
    "import pandas as pd\n",
    "import matplotlib.pyplot as plt\n",
    "import seaborn as sns\n",
    "from jupyterthemes import jtplot"
   ]
  },
  {
   "cell_type": "code",
   "execution_count": 4,
   "metadata": {},
   "outputs": [],
   "source": [
    "jtplot.style(theme='monokai', context='notebook', ticks=True, grid=False)"
   ]
  },
  {
   "cell_type": "markdown",
   "metadata": {},
   "source": [
    "## Fonte de Dados"
   ]
  },
  {
   "cell_type": "code",
   "execution_count": 10,
   "metadata": {},
   "outputs": [
    {
     "name": "stderr",
     "output_type": "stream",
     "text": [
      "C:\\Users\\r9kx\\Anaconda3\\lib\\site-packages\\ipykernel_launcher.py:2: ParserWarning: Falling back to the 'python' engine because the 'c' engine does not support skipfooter; you can avoid this warning by specifying engine='python'.\n",
      "  \n",
      "C:\\Users\\r9kx\\Anaconda3\\lib\\site-packages\\ipykernel_launcher.py:4: ParserWarning: Falling back to the 'python' engine because the 'c' engine does not support skipfooter; you can avoid this warning by specifying engine='python'.\n",
      "  after removing the cwd from sys.path.\n",
      "C:\\Users\\r9kx\\Anaconda3\\lib\\site-packages\\ipykernel_launcher.py:6: ParserWarning: Falling back to the 'python' engine because the 'c' engine does not support skipfooter; you can avoid this warning by specifying engine='python'.\n",
      "  \n",
      "C:\\Users\\r9kx\\Anaconda3\\lib\\site-packages\\ipykernel_launcher.py:8: ParserWarning: Falling back to the 'python' engine because the 'c' engine does not support skipfooter; you can avoid this warning by specifying engine='python'.\n",
      "  \n",
      "C:\\Users\\r9kx\\Anaconda3\\lib\\site-packages\\ipykernel_launcher.py:10: ParserWarning: Falling back to the 'python' engine because the 'c' engine does not support skipfooter; you can avoid this warning by specifying engine='python'.\n",
      "  # Remove the CWD from sys.path while we load stuff.\n",
      "C:\\Users\\r9kx\\Anaconda3\\lib\\site-packages\\ipykernel_launcher.py:12: ParserWarning: Falling back to the 'python' engine because the 'c' engine does not support skipfooter; you can avoid this warning by specifying engine='python'.\n",
      "  if sys.path[0] == '':\n"
     ]
    }
   ],
   "source": [
    "imunizacao_2019 = pd.read_csv('https://raw.githubusercontent.com/Igor-Arantes/Bootcamp-Data-Science-Aplicada/master/Dados%20desafio%202/cobertura_vacinal_2019.csv',\n",
    "                             encoding=\"ISO-8859-1\",skiprows = 3, sep=\";\", skipfooter=12,thousands=\".\", decimal=\",\")\n",
    "imunizacao_2018 = pd.read_csv('https://raw.githubusercontent.com/Igor-Arantes/Bootcamp-Data-Science-Aplicada/master/Dados%20desafio%202/cobertura_vacinal_2018.csv',\n",
    "                             encoding=\"ISO-8859-1\",skiprows = 3, sep=\";\", skipfooter=12,thousands=\".\", decimal=\",\")\n",
    "imunizacao_2017 = pd.read_csv('https://raw.githubusercontent.com/Igor-Arantes/Bootcamp-Data-Science-Aplicada/master/Dados%20desafio%202/cobertura_vacinal_2017.csv',\n",
    "                             encoding=\"ISO-8859-1\",skiprows = 3, sep=\";\", skipfooter=12,thousands=\".\", decimal=\",\")\n",
    "imunizacao_2016 = pd.read_csv('https://raw.githubusercontent.com/Igor-Arantes/Bootcamp-Data-Science-Aplicada/master/Dados%20desafio%202/cobertura_vacinal_2016.csv',\n",
    "                             encoding=\"ISO-8859-1\",skiprows = 3, sep=\";\", skipfooter=12,thousands=\".\", decimal=\",\")\n",
    "imunizacao_2015 = pd.read_csv('https://raw.githubusercontent.com/Igor-Arantes/Bootcamp-Data-Science-Aplicada/master/Dados%20desafio%202/cobertura_vacinal_2015.csv',\n",
    "                             encoding=\"ISO-8859-1\",skiprows = 3, sep=\";\", skipfooter=12,thousands=\".\", decimal=\",\")\n",
    "imunizacao_2014 = pd.read_csv('https://raw.githubusercontent.com/Igor-Arantes/Bootcamp-Data-Science-Aplicada/master/Dados%20desafio%202/cobertura_vacinal_2014.csv',\n",
    "                             encoding=\"ISO-8859-1\",skiprows = 3, sep=\";\", skipfooter=12,thousands=\".\", decimal=\",\")"
   ]
  },
  {
   "cell_type": "markdown",
   "metadata": {},
   "source": [
    "## Funções"
   ]
  },
  {
   "cell_type": "code",
   "execution_count": null,
   "metadata": {},
   "outputs": [],
   "source": []
  },
  {
   "cell_type": "markdown",
   "metadata": {
    "id": "YJaNprdeFN7n"
   },
   "source": [
    "# Análise dos dados:\n",
    "\n",
    "Inicie aqui o desenvolvimento do seu projeto, não esqueça de adicionar textos curtos e objetivos para que os avaliadores entendam sua linha de raciocínio e as conclusões que você está chegando crie uma narrativa convincente e coerênte aos dados analisados."
   ]
  },
  {
   "cell_type": "markdown",
   "metadata": {
    "id": "zw4S_LkkFNa2"
   },
   "source": []
  },
  {
   "cell_type": "code",
   "execution_count": null,
   "metadata": {
    "id": "wWHrc23HMW07"
   },
   "outputs": [],
   "source": []
  },
  {
   "cell_type": "code",
   "execution_count": null,
   "metadata": {},
   "outputs": [],
   "source": []
  }
 ],
 "metadata": {
  "colab": {
   "name": "Projeto Módulo 02.ipynb",
   "provenance": []
  },
  "kernelspec": {
   "display_name": "Python 3",
   "language": "python",
   "name": "python3"
  },
  "language_info": {
   "codemirror_mode": {
    "name": "ipython",
    "version": 3
   },
   "file_extension": ".py",
   "mimetype": "text/x-python",
   "name": "python",
   "nbconvert_exporter": "python",
   "pygments_lexer": "ipython3",
   "version": "3.7.9"
  }
 },
 "nbformat": 4,
 "nbformat_minor": 1
}
