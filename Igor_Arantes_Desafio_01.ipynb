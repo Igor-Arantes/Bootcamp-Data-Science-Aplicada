{
  "nbformat": 4,
  "nbformat_minor": 0,
  "metadata": {
    "colab": {
      "name": "Igor_Arantes_Desafio_01.ipynb",
      "provenance": [],
      "toc_visible": true
    },
    "kernelspec": {
      "name": "python3",
      "display_name": "Python 3"
    }
  },
  "cells": [
    {
      "cell_type": "code",
      "metadata": {
        "id": "CiXoQWxMueN6"
      },
      "source": [
        ""
      ],
      "execution_count": 24,
      "outputs": []
    },
    {
      "cell_type": "markdown",
      "metadata": {
        "id": "RshO3GgDFGhB"
      },
      "source": [
        "## Resumo:\n",
        "\n",
        "Faça aqui o resumo das suas analises, destacando os pontos principais do seu projeto"
      ]
    },
    {
      "cell_type": "code",
      "metadata": {
        "id": "BUHuWTjaFGMV"
      },
      "source": [
        ""
      ],
      "execution_count": 24,
      "outputs": []
    },
    {
      "cell_type": "markdown",
      "metadata": {
        "id": "YJaNprdeFN7n"
      },
      "source": [
        "## Análise dos dados:\n",
        "\n",
        "Inicie aqui o desenvolvimento do seu projeto, não esqueça de adicionar textos curtos e objetivos para que os avaliadores entendam sua linha de raciocínio e as conclusões que você está chegando crie uma narrativa convincente e coerênte aos dados analisados."
      ]
    },
    {
      "cell_type": "markdown",
      "metadata": {
        "id": "2-eUcnWo1rtQ"
      },
      "source": [
        "### Importando as bibliotecas"
      ]
    },
    {
      "cell_type": "code",
      "metadata": {
        "id": "zw4S_LkkFNa2"
      },
      "source": [
        "import pandas as pd"
      ],
      "execution_count": 25,
      "outputs": []
    },
    {
      "cell_type": "code",
      "metadata": {
        "id": "f2T6RPAK3EGv"
      },
      "source": [
        "### Dados"
      ],
      "execution_count": 26,
      "outputs": []
    },
    {
      "cell_type": "markdown",
      "metadata": {
        "id": "-vb54C2x3Hhj"
      },
      "source": [
        "### Importanto os dados  \n",
        "Os dados foram extraidos  da [Brasil IO](https://brasil.io/dataset/covid19/caso/), no dia 12-11-2020"
      ]
    },
    {
      "cell_type": "code",
      "metadata": {
        "id": "wWHrc23HMW07"
      },
      "source": [
        "dados_covid = pd.read_csv('https://www.dropbox.com/s/6vhga15llnr1wmo/caso_full.csv?dl=1')"
      ],
      "execution_count": 27,
      "outputs": []
    },
    {
      "cell_type": "markdown",
      "metadata": {
        "id": "A_H94D334JcB"
      },
      "source": [
        "### Exploração incial dos dados  \n",
        "O objetivo de fazer uma exploração inicial na base de dados é identificar o comportamento do datast, falhas, necessidades  de conversão, tamanho das colunas e  outras informações necessárias ao desenvolvimento do projeto"
      ]
    },
    {
      "cell_type": "code",
      "metadata": {
        "id": "5nc1BCWR0_o-",
        "outputId": "0546f0b4-9c4e-4df1-edb0-06d459cceaaa",
        "colab": {
          "base_uri": "https://localhost:8080/",
          "height": 504
        }
      },
      "source": [
        "#Amostra aleatoria do nosso data set\n",
        "dados_covid.sample(10)"
      ],
      "execution_count": 28,
      "outputs": [
        {
          "output_type": "execute_result",
          "data": {
            "text/html": [
              "<div>\n",
              "<style scoped>\n",
              "    .dataframe tbody tr th:only-of-type {\n",
              "        vertical-align: middle;\n",
              "    }\n",
              "\n",
              "    .dataframe tbody tr th {\n",
              "        vertical-align: top;\n",
              "    }\n",
              "\n",
              "    .dataframe thead th {\n",
              "        text-align: right;\n",
              "    }\n",
              "</style>\n",
              "<table border=\"1\" class=\"dataframe\">\n",
              "  <thead>\n",
              "    <tr style=\"text-align: right;\">\n",
              "      <th></th>\n",
              "      <th>city</th>\n",
              "      <th>city_ibge_code</th>\n",
              "      <th>date</th>\n",
              "      <th>epidemiological_week</th>\n",
              "      <th>estimated_population</th>\n",
              "      <th>estimated_population_2019</th>\n",
              "      <th>is_last</th>\n",
              "      <th>is_repeated</th>\n",
              "      <th>last_available_confirmed</th>\n",
              "      <th>last_available_confirmed_per_100k_inhabitants</th>\n",
              "      <th>last_available_date</th>\n",
              "      <th>last_available_death_rate</th>\n",
              "      <th>last_available_deaths</th>\n",
              "      <th>order_for_place</th>\n",
              "      <th>place_type</th>\n",
              "      <th>state</th>\n",
              "      <th>new_confirmed</th>\n",
              "      <th>new_deaths</th>\n",
              "    </tr>\n",
              "  </thead>\n",
              "  <tbody>\n",
              "    <tr>\n",
              "      <th>731914</th>\n",
              "      <td>Santo Antônio do Grama</td>\n",
              "      <td>3160108.0</td>\n",
              "      <td>2020-09-18</td>\n",
              "      <td>38</td>\n",
              "      <td>3886.0</td>\n",
              "      <td>3911.0</td>\n",
              "      <td>False</td>\n",
              "      <td>False</td>\n",
              "      <td>11</td>\n",
              "      <td>283.06742</td>\n",
              "      <td>2020-09-18</td>\n",
              "      <td>0.0909</td>\n",
              "      <td>1</td>\n",
              "      <td>84</td>\n",
              "      <td>city</td>\n",
              "      <td>MG</td>\n",
              "      <td>0</td>\n",
              "      <td>0</td>\n",
              "    </tr>\n",
              "    <tr>\n",
              "      <th>310884</th>\n",
              "      <td>Imigrante</td>\n",
              "      <td>4310363.0</td>\n",
              "      <td>2020-07-04</td>\n",
              "      <td>27</td>\n",
              "      <td>3100.0</td>\n",
              "      <td>3120.0</td>\n",
              "      <td>False</td>\n",
              "      <td>False</td>\n",
              "      <td>11</td>\n",
              "      <td>354.83871</td>\n",
              "      <td>2020-07-04</td>\n",
              "      <td>0.0000</td>\n",
              "      <td>0</td>\n",
              "      <td>58</td>\n",
              "      <td>city</td>\n",
              "      <td>RS</td>\n",
              "      <td>1</td>\n",
              "      <td>0</td>\n",
              "    </tr>\n",
              "    <tr>\n",
              "      <th>422598</th>\n",
              "      <td>Belmonte</td>\n",
              "      <td>2903409.0</td>\n",
              "      <td>2020-07-25</td>\n",
              "      <td>30</td>\n",
              "      <td>23437.0</td>\n",
              "      <td>23328.0</td>\n",
              "      <td>False</td>\n",
              "      <td>False</td>\n",
              "      <td>205</td>\n",
              "      <td>874.68533</td>\n",
              "      <td>2020-07-25</td>\n",
              "      <td>0.0049</td>\n",
              "      <td>1</td>\n",
              "      <td>115</td>\n",
              "      <td>city</td>\n",
              "      <td>BA</td>\n",
              "      <td>6</td>\n",
              "      <td>0</td>\n",
              "    </tr>\n",
              "    <tr>\n",
              "      <th>23480</th>\n",
              "      <td>Viçosa</td>\n",
              "      <td>2709400.0</td>\n",
              "      <td>2020-04-21</td>\n",
              "      <td>17</td>\n",
              "      <td>25693.0</td>\n",
              "      <td>25733.0</td>\n",
              "      <td>False</td>\n",
              "      <td>False</td>\n",
              "      <td>1</td>\n",
              "      <td>3.89211</td>\n",
              "      <td>2020-04-21</td>\n",
              "      <td>1.0000</td>\n",
              "      <td>1</td>\n",
              "      <td>4</td>\n",
              "      <td>city</td>\n",
              "      <td>AL</td>\n",
              "      <td>0</td>\n",
              "      <td>0</td>\n",
              "    </tr>\n",
              "    <tr>\n",
              "      <th>820239</th>\n",
              "      <td>São Sebastião do Passé</td>\n",
              "      <td>2929503.0</td>\n",
              "      <td>2020-10-04</td>\n",
              "      <td>41</td>\n",
              "      <td>44430.0</td>\n",
              "      <td>44300.0</td>\n",
              "      <td>False</td>\n",
              "      <td>False</td>\n",
              "      <td>1102</td>\n",
              "      <td>2480.30610</td>\n",
              "      <td>2020-10-04</td>\n",
              "      <td>0.0127</td>\n",
              "      <td>14</td>\n",
              "      <td>153</td>\n",
              "      <td>city</td>\n",
              "      <td>BA</td>\n",
              "      <td>2</td>\n",
              "      <td>0</td>\n",
              "    </tr>\n",
              "    <tr>\n",
              "      <th>926682</th>\n",
              "      <td>Ibitiara</td>\n",
              "      <td>2913002.0</td>\n",
              "      <td>2020-10-23</td>\n",
              "      <td>43</td>\n",
              "      <td>16403.0</td>\n",
              "      <td>16339.0</td>\n",
              "      <td>False</td>\n",
              "      <td>False</td>\n",
              "      <td>13</td>\n",
              "      <td>79.25380</td>\n",
              "      <td>2020-10-23</td>\n",
              "      <td>0.0769</td>\n",
              "      <td>1</td>\n",
              "      <td>162</td>\n",
              "      <td>city</td>\n",
              "      <td>BA</td>\n",
              "      <td>0</td>\n",
              "      <td>0</td>\n",
              "    </tr>\n",
              "    <tr>\n",
              "      <th>317097</th>\n",
              "      <td>Guaiçara</td>\n",
              "      <td>3517208.0</td>\n",
              "      <td>2020-07-05</td>\n",
              "      <td>28</td>\n",
              "      <td>12294.0</td>\n",
              "      <td>12168.0</td>\n",
              "      <td>False</td>\n",
              "      <td>False</td>\n",
              "      <td>91</td>\n",
              "      <td>740.19847</td>\n",
              "      <td>2020-07-05</td>\n",
              "      <td>0.0000</td>\n",
              "      <td>0</td>\n",
              "      <td>58</td>\n",
              "      <td>city</td>\n",
              "      <td>SP</td>\n",
              "      <td>0</td>\n",
              "      <td>0</td>\n",
              "    </tr>\n",
              "    <tr>\n",
              "      <th>816310</th>\n",
              "      <td>Ribas do Rio Pardo</td>\n",
              "      <td>5007109.0</td>\n",
              "      <td>2020-10-03</td>\n",
              "      <td>40</td>\n",
              "      <td>24966.0</td>\n",
              "      <td>24615.0</td>\n",
              "      <td>False</td>\n",
              "      <td>False</td>\n",
              "      <td>151</td>\n",
              "      <td>604.82256</td>\n",
              "      <td>2020-10-03</td>\n",
              "      <td>0.0066</td>\n",
              "      <td>1</td>\n",
              "      <td>149</td>\n",
              "      <td>city</td>\n",
              "      <td>MS</td>\n",
              "      <td>0</td>\n",
              "      <td>0</td>\n",
              "    </tr>\n",
              "    <tr>\n",
              "      <th>817938</th>\n",
              "      <td>Nova Brasilândia D'Oeste</td>\n",
              "      <td>1100148.0</td>\n",
              "      <td>2020-10-03</td>\n",
              "      <td>40</td>\n",
              "      <td>20489.0</td>\n",
              "      <td>20474.0</td>\n",
              "      <td>False</td>\n",
              "      <td>False</td>\n",
              "      <td>331</td>\n",
              "      <td>1615.50100</td>\n",
              "      <td>2020-10-03</td>\n",
              "      <td>0.0091</td>\n",
              "      <td>3</td>\n",
              "      <td>151</td>\n",
              "      <td>city</td>\n",
              "      <td>RO</td>\n",
              "      <td>1</td>\n",
              "      <td>0</td>\n",
              "    </tr>\n",
              "    <tr>\n",
              "      <th>346220</th>\n",
              "      <td>Guimarães</td>\n",
              "      <td>2104909.0</td>\n",
              "      <td>2020-07-11</td>\n",
              "      <td>28</td>\n",
              "      <td>11997.0</td>\n",
              "      <td>12030.0</td>\n",
              "      <td>False</td>\n",
              "      <td>False</td>\n",
              "      <td>151</td>\n",
              "      <td>1258.64800</td>\n",
              "      <td>2020-07-11</td>\n",
              "      <td>0.0265</td>\n",
              "      <td>4</td>\n",
              "      <td>73</td>\n",
              "      <td>city</td>\n",
              "      <td>MA</td>\n",
              "      <td>0</td>\n",
              "      <td>0</td>\n",
              "    </tr>\n",
              "  </tbody>\n",
              "</table>\n",
              "</div>"
            ],
            "text/plain": [
              "                            city  city_ibge_code  ... new_confirmed  new_deaths\n",
              "731914    Santo Antônio do Grama       3160108.0  ...             0           0\n",
              "310884                 Imigrante       4310363.0  ...             1           0\n",
              "422598                  Belmonte       2903409.0  ...             6           0\n",
              "23480                     Viçosa       2709400.0  ...             0           0\n",
              "820239    São Sebastião do Passé       2929503.0  ...             2           0\n",
              "926682                  Ibitiara       2913002.0  ...             0           0\n",
              "317097                  Guaiçara       3517208.0  ...             0           0\n",
              "816310        Ribas do Rio Pardo       5007109.0  ...             0           0\n",
              "817938  Nova Brasilândia D'Oeste       1100148.0  ...             1           0\n",
              "346220                 Guimarães       2104909.0  ...             0           0\n",
              "\n",
              "[10 rows x 18 columns]"
            ]
          },
          "metadata": {
            "tags": []
          },
          "execution_count": 28
        }
      ]
    },
    {
      "cell_type": "code",
      "metadata": {
        "id": "7781vHdU1BAM",
        "outputId": "8a0413a7-23e4-4567-976e-1ff09511ea12",
        "colab": {
          "base_uri": "https://localhost:8080/"
        }
      },
      "source": [
        "#formato do dataset, linhas x colunas\n",
        "dados_covid.shape"
      ],
      "execution_count": 29,
      "outputs": [
        {
          "output_type": "execute_result",
          "data": {
            "text/plain": [
              "(1038605, 18)"
            ]
          },
          "metadata": {
            "tags": []
          },
          "execution_count": 29
        }
      ]
    },
    {
      "cell_type": "code",
      "metadata": {
        "id": "GcCKtoeb4tig",
        "outputId": "9b257c4c-56b2-413e-cff6-3abc61555d57",
        "colab": {
          "base_uri": "https://localhost:8080/",
          "height": 320
        }
      },
      "source": [
        "#Função para estatisticas basicas do nosso data set\n",
        "dados_covid.describe()"
      ],
      "execution_count": 30,
      "outputs": [
        {
          "output_type": "execute_result",
          "data": {
            "text/html": [
              "<div>\n",
              "<style scoped>\n",
              "    .dataframe tbody tr th:only-of-type {\n",
              "        vertical-align: middle;\n",
              "    }\n",
              "\n",
              "    .dataframe tbody tr th {\n",
              "        vertical-align: top;\n",
              "    }\n",
              "\n",
              "    .dataframe thead th {\n",
              "        text-align: right;\n",
              "    }\n",
              "</style>\n",
              "<table border=\"1\" class=\"dataframe\">\n",
              "  <thead>\n",
              "    <tr style=\"text-align: right;\">\n",
              "      <th></th>\n",
              "      <th>city_ibge_code</th>\n",
              "      <th>epidemiological_week</th>\n",
              "      <th>estimated_population</th>\n",
              "      <th>estimated_population_2019</th>\n",
              "      <th>last_available_confirmed</th>\n",
              "      <th>last_available_confirmed_per_100k_inhabitants</th>\n",
              "      <th>last_available_death_rate</th>\n",
              "      <th>last_available_deaths</th>\n",
              "      <th>order_for_place</th>\n",
              "      <th>new_confirmed</th>\n",
              "      <th>new_deaths</th>\n",
              "    </tr>\n",
              "  </thead>\n",
              "  <tbody>\n",
              "    <tr>\n",
              "      <th>count</th>\n",
              "      <td>1.034478e+06</td>\n",
              "      <td>1.038605e+06</td>\n",
              "      <td>1.034478e+06</td>\n",
              "      <td>1.034478e+06</td>\n",
              "      <td>1.038605e+06</td>\n",
              "      <td>1.020387e+06</td>\n",
              "      <td>1.038605e+06</td>\n",
              "      <td>1.038605e+06</td>\n",
              "      <td>1.038605e+06</td>\n",
              "      <td>1.038605e+06</td>\n",
              "      <td>1.038605e+06</td>\n",
              "    </tr>\n",
              "    <tr>\n",
              "      <th>mean</th>\n",
              "      <td>3.202752e+06</td>\n",
              "      <td>3.250429e+01</td>\n",
              "      <td>9.616536e+04</td>\n",
              "      <td>9.542685e+04</td>\n",
              "      <td>1.070170e+03</td>\n",
              "      <td>1.092717e+03</td>\n",
              "      <td>3.500892e-02</td>\n",
              "      <td>3.490985e+01</td>\n",
              "      <td>9.547952e+01</td>\n",
              "      <td>1.085391e+01</td>\n",
              "      <td>3.110461e-01</td>\n",
              "    </tr>\n",
              "    <tr>\n",
              "      <th>std</th>\n",
              "      <td>1.013799e+06</td>\n",
              "      <td>8.190521e+00</td>\n",
              "      <td>1.012643e+06</td>\n",
              "      <td>1.005322e+06</td>\n",
              "      <td>1.332354e+04</td>\n",
              "      <td>1.384576e+03</td>\n",
              "      <td>9.026940e-02</td>\n",
              "      <td>5.042752e+02</td>\n",
              "      <td>5.727905e+01</td>\n",
              "      <td>1.448364e+02</td>\n",
              "      <td>4.656631e+00</td>\n",
              "    </tr>\n",
              "    <tr>\n",
              "      <th>min</th>\n",
              "      <td>1.100000e+01</td>\n",
              "      <td>9.000000e+00</td>\n",
              "      <td>7.760000e+02</td>\n",
              "      <td>7.810000e+02</td>\n",
              "      <td>0.000000e+00</td>\n",
              "      <td>2.160000e-03</td>\n",
              "      <td>0.000000e+00</td>\n",
              "      <td>0.000000e+00</td>\n",
              "      <td>1.000000e+00</td>\n",
              "      <td>-6.791000e+03</td>\n",
              "      <td>-1.870000e+02</td>\n",
              "    </tr>\n",
              "    <tr>\n",
              "      <th>25%</th>\n",
              "      <td>2.505006e+06</td>\n",
              "      <td>2.600000e+01</td>\n",
              "      <td>6.064000e+03</td>\n",
              "      <td>6.046000e+03</td>\n",
              "      <td>1.300000e+01</td>\n",
              "      <td>1.369706e+02</td>\n",
              "      <td>0.000000e+00</td>\n",
              "      <td>0.000000e+00</td>\n",
              "      <td>4.700000e+01</td>\n",
              "      <td>0.000000e+00</td>\n",
              "      <td>0.000000e+00</td>\n",
              "    </tr>\n",
              "    <tr>\n",
              "      <th>50%</th>\n",
              "      <td>3.141405e+06</td>\n",
              "      <td>3.300000e+01</td>\n",
              "      <td>1.343500e+04</td>\n",
              "      <td>1.335300e+04</td>\n",
              "      <td>6.300000e+01</td>\n",
              "      <td>6.248008e+02</td>\n",
              "      <td>1.530000e-02</td>\n",
              "      <td>1.000000e+00</td>\n",
              "      <td>9.300000e+01</td>\n",
              "      <td>0.000000e+00</td>\n",
              "      <td>0.000000e+00</td>\n",
              "    </tr>\n",
              "    <tr>\n",
              "      <th>75%</th>\n",
              "      <td>4.113809e+06</td>\n",
              "      <td>3.900000e+01</td>\n",
              "      <td>2.986000e+04</td>\n",
              "      <td>2.968900e+04</td>\n",
              "      <td>2.690000e+02</td>\n",
              "      <td>1.538894e+03</td>\n",
              "      <td>3.480000e-02</td>\n",
              "      <td>6.000000e+00</td>\n",
              "      <td>1.400000e+02</td>\n",
              "      <td>2.000000e+00</td>\n",
              "      <td>0.000000e+00</td>\n",
              "    </tr>\n",
              "    <tr>\n",
              "      <th>max</th>\n",
              "      <td>5.300108e+06</td>\n",
              "      <td>4.600000e+01</td>\n",
              "      <td>4.628933e+07</td>\n",
              "      <td>4.591905e+07</td>\n",
              "      <td>1.150872e+06</td>\n",
              "      <td>2.237154e+04</td>\n",
              "      <td>1.000000e+00</td>\n",
              "      <td>3.990700e+04</td>\n",
              "      <td>2.610000e+02</td>\n",
              "      <td>3.091300e+04</td>\n",
              "      <td>4.550000e+02</td>\n",
              "    </tr>\n",
              "  </tbody>\n",
              "</table>\n",
              "</div>"
            ],
            "text/plain": [
              "       city_ibge_code  epidemiological_week  ...  new_confirmed    new_deaths\n",
              "count    1.034478e+06          1.038605e+06  ...   1.038605e+06  1.038605e+06\n",
              "mean     3.202752e+06          3.250429e+01  ...   1.085391e+01  3.110461e-01\n",
              "std      1.013799e+06          8.190521e+00  ...   1.448364e+02  4.656631e+00\n",
              "min      1.100000e+01          9.000000e+00  ...  -6.791000e+03 -1.870000e+02\n",
              "25%      2.505006e+06          2.600000e+01  ...   0.000000e+00  0.000000e+00\n",
              "50%      3.141405e+06          3.300000e+01  ...   0.000000e+00  0.000000e+00\n",
              "75%      4.113809e+06          3.900000e+01  ...   2.000000e+00  0.000000e+00\n",
              "max      5.300108e+06          4.600000e+01  ...   3.091300e+04  4.550000e+02\n",
              "\n",
              "[8 rows x 11 columns]"
            ]
          },
          "metadata": {
            "tags": []
          },
          "execution_count": 30
        }
      ]
    },
    {
      "cell_type": "code",
      "metadata": {
        "id": "4U4q5iNC4yKl",
        "outputId": "1fd79c2a-0b3c-46f2-f4c4-ada7d48a996e",
        "colab": {
          "base_uri": "https://localhost:8080/"
        }
      },
      "source": [
        "#Util para saber os tipos dos dados em cada coluna\n",
        "dados_covid.info()"
      ],
      "execution_count": 31,
      "outputs": [
        {
          "output_type": "stream",
          "text": [
            "<class 'pandas.core.frame.DataFrame'>\n",
            "RangeIndex: 1038605 entries, 0 to 1038604\n",
            "Data columns (total 18 columns):\n",
            " #   Column                                         Non-Null Count    Dtype  \n",
            "---  ------                                         --------------    -----  \n",
            " 0   city                                           1032013 non-null  object \n",
            " 1   city_ibge_code                                 1034478 non-null  float64\n",
            " 2   date                                           1038605 non-null  object \n",
            " 3   epidemiological_week                           1038605 non-null  int64  \n",
            " 4   estimated_population                           1034478 non-null  float64\n",
            " 5   estimated_population_2019                      1034478 non-null  float64\n",
            " 6   is_last                                        1038605 non-null  bool   \n",
            " 7   is_repeated                                    1038605 non-null  bool   \n",
            " 8   last_available_confirmed                       1038605 non-null  int64  \n",
            " 9   last_available_confirmed_per_100k_inhabitants  1020387 non-null  float64\n",
            " 10  last_available_date                            1038605 non-null  object \n",
            " 11  last_available_death_rate                      1038605 non-null  float64\n",
            " 12  last_available_deaths                          1038605 non-null  int64  \n",
            " 13  order_for_place                                1038605 non-null  int64  \n",
            " 14  place_type                                     1038605 non-null  object \n",
            " 15  state                                          1038605 non-null  object \n",
            " 16  new_confirmed                                  1038605 non-null  int64  \n",
            " 17  new_deaths                                     1038605 non-null  int64  \n",
            "dtypes: bool(2), float64(5), int64(6), object(5)\n",
            "memory usage: 128.8+ MB\n"
          ],
          "name": "stdout"
        }
      ]
    },
    {
      "cell_type": "markdown",
      "metadata": {
        "id": "N5eNCqlzSO6Z"
      },
      "source": [
        "É importante saber qual a porcentagem de dados validos(não nulos) da nossa base pois assim conseguimos garantir maior consistencia nos resultados. Caso tenha alguma coluna com um percentual baixo de dados validos, não irei considera-lo na analise."
      ]
    },
    {
      "cell_type": "code",
      "metadata": {
        "id": "bcgSjpXj56dD",
        "outputId": "9a51badc-f955-4943-a4ac-e3a3e8368988",
        "colab": {
          "base_uri": "https://localhost:8080/"
        }
      },
      "source": [
        "round((dados_covid.notna().sum()/(dados_covid.notna().sum() + dados_covid.isna().sum()))*100,2)"
      ],
      "execution_count": 32,
      "outputs": [
        {
          "output_type": "execute_result",
          "data": {
            "text/plain": [
              "city                                              99.37\n",
              "city_ibge_code                                    99.60\n",
              "date                                             100.00\n",
              "epidemiological_week                             100.00\n",
              "estimated_population                              99.60\n",
              "estimated_population_2019                         99.60\n",
              "is_last                                          100.00\n",
              "is_repeated                                      100.00\n",
              "last_available_confirmed                         100.00\n",
              "last_available_confirmed_per_100k_inhabitants     98.25\n",
              "last_available_date                              100.00\n",
              "last_available_death_rate                        100.00\n",
              "last_available_deaths                            100.00\n",
              "order_for_place                                  100.00\n",
              "place_type                                       100.00\n",
              "state                                            100.00\n",
              "new_confirmed                                    100.00\n",
              "new_deaths                                       100.00\n",
              "dtype: float64"
            ]
          },
          "metadata": {
            "tags": []
          },
          "execution_count": 32
        }
      ]
    },
    {
      "cell_type": "markdown",
      "metadata": {
        "id": "DMr8yx19TGuV"
      },
      "source": [
        ""
      ]
    },
    {
      "cell_type": "code",
      "metadata": {
        "id": "h2wW6TMI6Xx4"
      },
      "source": [
        ""
      ],
      "execution_count": 32,
      "outputs": []
    },
    {
      "cell_type": "markdown",
      "metadata": {
        "id": "gd81Byy5b51i"
      },
      "source": [
        "### Limpeza do dataset"
      ]
    },
    {
      "cell_type": "markdown",
      "metadata": {
        "id": "JbGKn_RKcFLX"
      },
      "source": [
        "O próximo passo após exploração inicial é limpar e adequar o dataset de acordo com o nosso objetivo"
      ]
    },
    {
      "cell_type": "code",
      "metadata": {
        "id": "4QG2bGPtb9OP"
      },
      "source": [
        "#Converter o campo data para o tipo datetime\n",
        "dados_covid['date'] = pd.to_datetime(dados_covid['date'], yearfirst=True)"
      ],
      "execution_count": 33,
      "outputs": []
    },
    {
      "cell_type": "markdown",
      "metadata": {
        "id": "R9NN8XV8fhUd"
      },
      "source": [
        "A [documentação](https://github.com/turicas/covid19-br/blob/master/api.md#casos) da nossa fonte de dados informa  que os valores da coluna _estimated_population_2019_ está desatualizada e orienta utilizar a coluna _estimated_population_ portanto podemos excluir ela do nosso dataset"
      ]
    },
    {
      "cell_type": "code",
      "metadata": {
        "id": "X324wEjAfgzv"
      },
      "source": [
        "dados_covid.drop('estimated_population_2019', axis=1, inplace=True)"
      ],
      "execution_count": 34,
      "outputs": []
    },
    {
      "cell_type": "code",
      "metadata": {
        "id": "Fl2IXvedctC4",
        "outputId": "fab203a2-345a-46c8-d013-e6d43ee71db9",
        "colab": {
          "base_uri": "https://localhost:8080/",
          "height": 495
        }
      },
      "source": [
        ""
      ],
      "execution_count": 35,
      "outputs": [
        {
          "output_type": "execute_result",
          "data": {
            "text/html": [
              "<div>\n",
              "<style scoped>\n",
              "    .dataframe tbody tr th:only-of-type {\n",
              "        vertical-align: middle;\n",
              "    }\n",
              "\n",
              "    .dataframe tbody tr th {\n",
              "        vertical-align: top;\n",
              "    }\n",
              "\n",
              "    .dataframe thead th {\n",
              "        text-align: right;\n",
              "    }\n",
              "</style>\n",
              "<table border=\"1\" class=\"dataframe\">\n",
              "  <thead>\n",
              "    <tr style=\"text-align: right;\">\n",
              "      <th></th>\n",
              "      <th>city</th>\n",
              "      <th>city_ibge_code</th>\n",
              "      <th>date</th>\n",
              "      <th>epidemiological_week</th>\n",
              "      <th>estimated_population</th>\n",
              "      <th>is_last</th>\n",
              "      <th>is_repeated</th>\n",
              "      <th>last_available_confirmed</th>\n",
              "      <th>last_available_confirmed_per_100k_inhabitants</th>\n",
              "      <th>last_available_date</th>\n",
              "      <th>last_available_death_rate</th>\n",
              "      <th>last_available_deaths</th>\n",
              "      <th>order_for_place</th>\n",
              "      <th>place_type</th>\n",
              "      <th>state</th>\n",
              "      <th>new_confirmed</th>\n",
              "      <th>new_deaths</th>\n",
              "    </tr>\n",
              "  </thead>\n",
              "  <tbody>\n",
              "    <tr>\n",
              "      <th>0</th>\n",
              "      <td>São Paulo</td>\n",
              "      <td>3550308.0</td>\n",
              "      <td>2020-02-25</td>\n",
              "      <td>9</td>\n",
              "      <td>12325232.0</td>\n",
              "      <td>False</td>\n",
              "      <td>False</td>\n",
              "      <td>1</td>\n",
              "      <td>0.00811</td>\n",
              "      <td>2020-02-25</td>\n",
              "      <td>0.0000</td>\n",
              "      <td>0</td>\n",
              "      <td>1</td>\n",
              "      <td>city</td>\n",
              "      <td>SP</td>\n",
              "      <td>1</td>\n",
              "      <td>0</td>\n",
              "    </tr>\n",
              "    <tr>\n",
              "      <th>1</th>\n",
              "      <td>NaN</td>\n",
              "      <td>35.0</td>\n",
              "      <td>2020-02-25</td>\n",
              "      <td>9</td>\n",
              "      <td>46289333.0</td>\n",
              "      <td>False</td>\n",
              "      <td>False</td>\n",
              "      <td>1</td>\n",
              "      <td>0.00216</td>\n",
              "      <td>2020-02-25</td>\n",
              "      <td>0.0000</td>\n",
              "      <td>0</td>\n",
              "      <td>1</td>\n",
              "      <td>state</td>\n",
              "      <td>SP</td>\n",
              "      <td>1</td>\n",
              "      <td>0</td>\n",
              "    </tr>\n",
              "    <tr>\n",
              "      <th>2</th>\n",
              "      <td>São Paulo</td>\n",
              "      <td>3550308.0</td>\n",
              "      <td>2020-02-26</td>\n",
              "      <td>9</td>\n",
              "      <td>12325232.0</td>\n",
              "      <td>False</td>\n",
              "      <td>False</td>\n",
              "      <td>1</td>\n",
              "      <td>0.00811</td>\n",
              "      <td>2020-02-26</td>\n",
              "      <td>0.0000</td>\n",
              "      <td>0</td>\n",
              "      <td>2</td>\n",
              "      <td>city</td>\n",
              "      <td>SP</td>\n",
              "      <td>0</td>\n",
              "      <td>0</td>\n",
              "    </tr>\n",
              "    <tr>\n",
              "      <th>3</th>\n",
              "      <td>NaN</td>\n",
              "      <td>35.0</td>\n",
              "      <td>2020-02-26</td>\n",
              "      <td>9</td>\n",
              "      <td>46289333.0</td>\n",
              "      <td>False</td>\n",
              "      <td>False</td>\n",
              "      <td>1</td>\n",
              "      <td>0.00216</td>\n",
              "      <td>2020-02-26</td>\n",
              "      <td>0.0000</td>\n",
              "      <td>0</td>\n",
              "      <td>2</td>\n",
              "      <td>state</td>\n",
              "      <td>SP</td>\n",
              "      <td>0</td>\n",
              "      <td>0</td>\n",
              "    </tr>\n",
              "    <tr>\n",
              "      <th>4</th>\n",
              "      <td>São Paulo</td>\n",
              "      <td>3550308.0</td>\n",
              "      <td>2020-02-27</td>\n",
              "      <td>9</td>\n",
              "      <td>12325232.0</td>\n",
              "      <td>False</td>\n",
              "      <td>False</td>\n",
              "      <td>1</td>\n",
              "      <td>0.00811</td>\n",
              "      <td>2020-02-27</td>\n",
              "      <td>0.0000</td>\n",
              "      <td>0</td>\n",
              "      <td>3</td>\n",
              "      <td>city</td>\n",
              "      <td>SP</td>\n",
              "      <td>0</td>\n",
              "      <td>0</td>\n",
              "    </tr>\n",
              "    <tr>\n",
              "      <th>...</th>\n",
              "      <td>...</td>\n",
              "      <td>...</td>\n",
              "      <td>...</td>\n",
              "      <td>...</td>\n",
              "      <td>...</td>\n",
              "      <td>...</td>\n",
              "      <td>...</td>\n",
              "      <td>...</td>\n",
              "      <td>...</td>\n",
              "      <td>...</td>\n",
              "      <td>...</td>\n",
              "      <td>...</td>\n",
              "      <td>...</td>\n",
              "      <td>...</td>\n",
              "      <td>...</td>\n",
              "      <td>...</td>\n",
              "      <td>...</td>\n",
              "    </tr>\n",
              "    <tr>\n",
              "      <th>1038600</th>\n",
              "      <td>NaN</td>\n",
              "      <td>43.0</td>\n",
              "      <td>2020-11-11</td>\n",
              "      <td>46</td>\n",
              "      <td>11422973.0</td>\n",
              "      <td>True</td>\n",
              "      <td>False</td>\n",
              "      <td>267750</td>\n",
              "      <td>2343.96072</td>\n",
              "      <td>2020-11-11</td>\n",
              "      <td>0.0225</td>\n",
              "      <td>6034</td>\n",
              "      <td>247</td>\n",
              "      <td>state</td>\n",
              "      <td>RS</td>\n",
              "      <td>3174</td>\n",
              "      <td>33</td>\n",
              "    </tr>\n",
              "    <tr>\n",
              "      <th>1038601</th>\n",
              "      <td>NaN</td>\n",
              "      <td>42.0</td>\n",
              "      <td>2020-11-11</td>\n",
              "      <td>46</td>\n",
              "      <td>7252502.0</td>\n",
              "      <td>True</td>\n",
              "      <td>False</td>\n",
              "      <td>283252</td>\n",
              "      <td>3905.57631</td>\n",
              "      <td>2020-11-11</td>\n",
              "      <td>0.0115</td>\n",
              "      <td>3268</td>\n",
              "      <td>245</td>\n",
              "      <td>state</td>\n",
              "      <td>SC</td>\n",
              "      <td>2711</td>\n",
              "      <td>25</td>\n",
              "    </tr>\n",
              "    <tr>\n",
              "      <th>1038602</th>\n",
              "      <td>NaN</td>\n",
              "      <td>28.0</td>\n",
              "      <td>2020-11-11</td>\n",
              "      <td>46</td>\n",
              "      <td>2318822.0</td>\n",
              "      <td>True</td>\n",
              "      <td>False</td>\n",
              "      <td>85643</td>\n",
              "      <td>3693.38397</td>\n",
              "      <td>2020-11-11</td>\n",
              "      <td>0.0262</td>\n",
              "      <td>2247</td>\n",
              "      <td>243</td>\n",
              "      <td>state</td>\n",
              "      <td>SE</td>\n",
              "      <td>69</td>\n",
              "      <td>1</td>\n",
              "    </tr>\n",
              "    <tr>\n",
              "      <th>1038603</th>\n",
              "      <td>NaN</td>\n",
              "      <td>35.0</td>\n",
              "      <td>2020-11-11</td>\n",
              "      <td>46</td>\n",
              "      <td>46289333.0</td>\n",
              "      <td>True</td>\n",
              "      <td>False</td>\n",
              "      <td>1150872</td>\n",
              "      <td>2486.25747</td>\n",
              "      <td>2020-11-11</td>\n",
              "      <td>0.0347</td>\n",
              "      <td>39907</td>\n",
              "      <td>261</td>\n",
              "      <td>state</td>\n",
              "      <td>SP</td>\n",
              "      <td>24936</td>\n",
              "      <td>190</td>\n",
              "    </tr>\n",
              "    <tr>\n",
              "      <th>1038604</th>\n",
              "      <td>NaN</td>\n",
              "      <td>17.0</td>\n",
              "      <td>2020-11-11</td>\n",
              "      <td>46</td>\n",
              "      <td>1590248.0</td>\n",
              "      <td>False</td>\n",
              "      <td>True</td>\n",
              "      <td>77306</td>\n",
              "      <td>4861.25435</td>\n",
              "      <td>2020-11-10</td>\n",
              "      <td>0.0145</td>\n",
              "      <td>1120</td>\n",
              "      <td>239</td>\n",
              "      <td>state</td>\n",
              "      <td>TO</td>\n",
              "      <td>0</td>\n",
              "      <td>0</td>\n",
              "    </tr>\n",
              "  </tbody>\n",
              "</table>\n",
              "<p>1038605 rows × 17 columns</p>\n",
              "</div>"
            ],
            "text/plain": [
              "              city  city_ibge_code       date  ...  state  new_confirmed  new_deaths\n",
              "0        São Paulo       3550308.0 2020-02-25  ...     SP              1           0\n",
              "1              NaN            35.0 2020-02-25  ...     SP              1           0\n",
              "2        São Paulo       3550308.0 2020-02-26  ...     SP              0           0\n",
              "3              NaN            35.0 2020-02-26  ...     SP              0           0\n",
              "4        São Paulo       3550308.0 2020-02-27  ...     SP              0           0\n",
              "...            ...             ...        ...  ...    ...            ...         ...\n",
              "1038600        NaN            43.0 2020-11-11  ...     RS           3174          33\n",
              "1038601        NaN            42.0 2020-11-11  ...     SC           2711          25\n",
              "1038602        NaN            28.0 2020-11-11  ...     SE             69           1\n",
              "1038603        NaN            35.0 2020-11-11  ...     SP          24936         190\n",
              "1038604        NaN            17.0 2020-11-11  ...     TO              0           0\n",
              "\n",
              "[1038605 rows x 17 columns]"
            ]
          },
          "metadata": {
            "tags": []
          },
          "execution_count": 35
        }
      ]
    },
    {
      "cell_type": "code",
      "metadata": {
        "id": "7jX-6VIHgQer"
      },
      "source": [
        ""
      ],
      "execution_count": 35,
      "outputs": []
    }
  ]
}