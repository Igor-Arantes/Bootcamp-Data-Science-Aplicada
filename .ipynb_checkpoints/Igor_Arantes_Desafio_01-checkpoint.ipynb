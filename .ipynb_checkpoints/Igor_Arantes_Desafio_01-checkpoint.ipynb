{
 "cells": [
  {
   "cell_type": "code",
   "execution_count": null,
   "metadata": {
    "id": "CiXoQWxMueN6"
   },
   "outputs": [],
   "source": []
  },
  {
   "cell_type": "markdown",
   "metadata": {
    "id": "RshO3GgDFGhB"
   },
   "source": [
    "## Resumo:\n",
    "\n",
    "Faça aqui o resumo das suas analises, destacando os pontos principais do seu projeto"
   ]
  },
  {
   "cell_type": "code",
   "execution_count": null,
   "metadata": {
    "id": "BUHuWTjaFGMV"
   },
   "outputs": [],
   "source": []
  },
  {
   "cell_type": "markdown",
   "metadata": {
    "id": "YJaNprdeFN7n"
   },
   "source": [
    "## Análise dos dados:\n",
    "\n",
    "Inicie aqui o desenvolvimento do seu projeto, não esqueça de adicionar textos curtos e objetivos para que os avaliadores entendam sua linha de raciocínio e as conclusões que você está chegando crie uma narrativa convincente e coerênte aos dados analisados."
   ]
  },
  {
   "cell_type": "markdown",
   "metadata": {
    "id": "2-eUcnWo1rtQ"
   },
   "source": [
    "### Importando as bibliotecas"
   ]
  },
  {
   "cell_type": "code",
   "execution_count": 1,
   "metadata": {
    "id": "zw4S_LkkFNa2"
   },
   "outputs": [],
   "source": [
    "import pandas as pd"
   ]
  },
  {
   "cell_type": "code",
   "execution_count": 2,
   "metadata": {
    "id": "f2T6RPAK3EGv"
   },
   "outputs": [],
   "source": [
    "### Dados"
   ]
  },
  {
   "cell_type": "markdown",
   "metadata": {
    "id": "-vb54C2x3Hhj"
   },
   "source": [
    "### Importanto os dados  \n",
    "Os dados foram extraidos  da [Brasil IO](https://brasil.io/dataset/covid19/caso/), no dia 12-11-2020"
   ]
  },
  {
   "cell_type": "code",
   "execution_count": null,
   "metadata": {
    "id": "wWHrc23HMW07"
   },
   "outputs": [],
   "source": [
    "dados_covid = pd.read_csv('https://www.dropbox.com/s/6vhga15llnr1wmo/caso_full.csv?dl=1')"
   ]
  },
  {
   "cell_type": "markdown",
   "metadata": {
    "id": "A_H94D334JcB"
   },
   "source": [
    "### Exploração incial dos dados  \n",
    "O objetivo de fazer uma exploração inicial na base de dados é identificar o comportamento do datast, falhas, necessidades  de conversão, tamanho das colunas e  outras informações necessárias ao desenvolvimento do projeto"
   ]
  },
  {
   "cell_type": "code",
   "execution_count": null,
   "metadata": {
    "colab": {
     "base_uri": "https://localhost:8080/",
     "height": 504
    },
    "id": "5nc1BCWR0_o-",
    "outputId": "0546f0b4-9c4e-4df1-edb0-06d459cceaaa"
   },
   "outputs": [],
   "source": [
    "#Amostra aleatoria do nosso data set\n",
    "dados_covid.sample(10)"
   ]
  },
  {
   "cell_type": "code",
   "execution_count": null,
   "metadata": {
    "colab": {
     "base_uri": "https://localhost:8080/"
    },
    "id": "7781vHdU1BAM",
    "outputId": "8a0413a7-23e4-4567-976e-1ff09511ea12"
   },
   "outputs": [],
   "source": [
    "#formato do dataset, linhas x colunas\n",
    "dados_covid.shape"
   ]
  },
  {
   "cell_type": "code",
   "execution_count": null,
   "metadata": {
    "colab": {
     "base_uri": "https://localhost:8080/",
     "height": 320
    },
    "id": "GcCKtoeb4tig",
    "outputId": "9b257c4c-56b2-413e-cff6-3abc61555d57"
   },
   "outputs": [],
   "source": [
    "#Função para estatisticas basicas do nosso data set\n",
    "dados_covid.describe()"
   ]
  },
  {
   "cell_type": "code",
   "execution_count": null,
   "metadata": {
    "colab": {
     "base_uri": "https://localhost:8080/"
    },
    "id": "4U4q5iNC4yKl",
    "outputId": "1fd79c2a-0b3c-46f2-f4c4-ada7d48a996e"
   },
   "outputs": [],
   "source": [
    "#Util para saber os tipos dos dados em cada coluna\n",
    "dados_covid.info()"
   ]
  },
  {
   "cell_type": "markdown",
   "metadata": {
    "id": "N5eNCqlzSO6Z"
   },
   "source": [
    "É importante saber qual a porcentagem de dados validos(não nulos) da nossa base pois assim conseguimos garantir maior consistencia nos resultados. Caso tenha alguma coluna com um percentual baixo de dados validos, não irei considera-lo na analise."
   ]
  },
  {
   "cell_type": "code",
   "execution_count": null,
   "metadata": {
    "colab": {
     "base_uri": "https://localhost:8080/"
    },
    "id": "bcgSjpXj56dD",
    "outputId": "9a51badc-f955-4943-a4ac-e3a3e8368988"
   },
   "outputs": [],
   "source": [
    "round((dados_covid.notna().sum()/(dados_covid.notna().sum() + dados_covid.isna().sum()))*100,2)"
   ]
  },
  {
   "cell_type": "markdown",
   "metadata": {
    "id": "DMr8yx19TGuV"
   },
   "source": []
  },
  {
   "cell_type": "code",
   "execution_count": null,
   "metadata": {
    "id": "h2wW6TMI6Xx4"
   },
   "outputs": [],
   "source": []
  },
  {
   "cell_type": "markdown",
   "metadata": {
    "id": "gd81Byy5b51i"
   },
   "source": [
    "### Limpeza do dataset"
   ]
  },
  {
   "cell_type": "markdown",
   "metadata": {
    "id": "JbGKn_RKcFLX"
   },
   "source": [
    "O próximo passo após exploração inicial é limpar e adequar o dataset de acordo com o nosso objetivo"
   ]
  },
  {
   "cell_type": "code",
   "execution_count": null,
   "metadata": {
    "id": "4QG2bGPtb9OP"
   },
   "outputs": [],
   "source": [
    "#Converter o campo data para o tipo datetime\n",
    "dados_covid['date'] = pd.to_datetime(dados_covid['date'], yearfirst=True)"
   ]
  },
  {
   "cell_type": "markdown",
   "metadata": {
    "id": "R9NN8XV8fhUd"
   },
   "source": [
    "A [documentação](https://github.com/turicas/covid19-br/blob/master/api.md#casos) da nossa fonte de dados informa  que os valores da coluna _estimated_population_2019_ está desatualizada e orienta utilizar a coluna _estimated_population_ portanto podemos excluir ela do nosso dataset"
   ]
  },
  {
   "cell_type": "code",
   "execution_count": null,
   "metadata": {
    "id": "X324wEjAfgzv"
   },
   "outputs": [],
   "source": [
    "dados_covid.drop('estimated_population_2019', axis=1, inplace=True)"
   ]
  },
  {
   "cell_type": "code",
   "execution_count": null,
   "metadata": {
    "colab": {
     "base_uri": "https://localhost:8080/",
     "height": 495
    },
    "id": "Fl2IXvedctC4",
    "outputId": "fab203a2-345a-46c8-d013-e6d43ee71db9"
   },
   "outputs": [],
   "source": []
  },
  {
   "cell_type": "code",
   "execution_count": null,
   "metadata": {
    "id": "7jX-6VIHgQer"
   },
   "outputs": [],
   "source": []
  }
 ],
 "metadata": {
  "colab": {
   "name": "Igor_Arantes_Desafio_01.ipynb",
   "provenance": [],
   "toc_visible": true
  },
  "kernelspec": {
   "display_name": "Python 3",
   "language": "python",
   "name": "python3"
  },
  "language_info": {
   "codemirror_mode": {
    "name": "ipython",
    "version": 3
   },
   "file_extension": ".py",
   "mimetype": "text/x-python",
   "name": "python",
   "nbconvert_exporter": "python",
   "pygments_lexer": "ipython3",
   "version": "3.7.9"
  }
 },
 "nbformat": 4,
 "nbformat_minor": 1
}
