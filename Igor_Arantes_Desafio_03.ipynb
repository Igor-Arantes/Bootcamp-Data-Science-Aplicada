{
 "cells": [
  {
   "cell_type": "markdown",
   "metadata": {},
   "source": [
    "# Introdução"
   ]
  },
  {
   "cell_type": "code",
   "execution_count": null,
   "metadata": {},
   "outputs": [],
   "source": []
  },
  {
   "cell_type": "code",
   "execution_count": null,
   "metadata": {},
   "outputs": [],
   "source": []
  },
  {
   "cell_type": "markdown",
   "metadata": {},
   "source": [
    "## Ojetivo\n",
    "  \n",
    "\n",
    "<p>\n",
    "A analise dos dados tem como objetivo analisar a base estatisticamente a base de dados do pense para responder as seguintes perguntas comportamentais:\n",
    " <li> Há diferença entre a idade de iniciação sexual entre os sexos? E entre escolas na capital e interior?\n",
    " <li> Há uma tendencia maior no consumo de bebidas alcoolicas entre os meninos? E será que no interior os estudantes bebem mais? \n",
    "    \n",
    " <li> Um iniciação sexual cedo( < 14 anos) tem relação com o uso cedo de drogas?\n",
    " <li> O consumo de cigarro está associado ao alcool e/ou outras drogas?"
   ]
  },
  {
   "cell_type": "markdown",
   "metadata": {},
   "source": [
    "# Resumo"
   ]
  },
  {
   "cell_type": "markdown",
   "metadata": {},
   "source": [
    "# Bibliotecas e Configurações"
   ]
  },
  {
   "cell_type": "code",
   "execution_count": 1,
   "metadata": {},
   "outputs": [],
   "source": [
    "import pandas as pd\n",
    "from  zipfile import ZipFile\n",
    "import seaborn as sns\n",
    "import matplotlib.pyplot as plt\n",
    "from jupyterthemes import jtplot\n",
    "from IPython.core.display import display, HTML, Markdown\n",
    "import numpy as np\n",
    "from statsmodels.stats.weightstats import zconfint\n",
    "from statsmodels.stats.weightstats import DescrStatsW\n",
    "from statsmodels.stats.weightstats import ztest\n",
    "from scipy.stats import normaltest\n",
    "from scipy.stats import ranksums"
   ]
  },
  {
   "cell_type": "code",
   "execution_count": 2,
   "metadata": {},
   "outputs": [
    {
     "data": {
      "text/html": [
       "<style>.container { width:99% !important; }</style>"
      ],
      "text/plain": [
       "<IPython.core.display.HTML object>"
      ]
     },
     "metadata": {},
     "output_type": "display_data"
    }
   ],
   "source": [
    "jtplot.style(theme='monokai', context='notebook', ticks=True, grid=False)\n",
    "display(HTML(\"<style>.container { width:99% !important; }</style>\"))"
   ]
  },
  {
   "cell_type": "markdown",
   "metadata": {},
   "source": [
    "# Importação dos dados"
   ]
  },
  {
   "cell_type": "code",
   "execution_count": 3,
   "metadata": {},
   "outputs": [],
   "source": [
    "path = 'Dados desafio 3.zip'"
   ]
  },
  {
   "cell_type": "code",
   "execution_count": 4,
   "metadata": {},
   "outputs": [],
   "source": [
    "zip= ZipFile(path)\n",
    "dados = pd.read_csv(zip.open(zip.namelist()[1]), sep = \";\", thousands=\".\", decimal=\",\")"
   ]
  },
  {
   "cell_type": "markdown",
   "metadata": {},
   "source": [
    "# Funções"
   ]
  },
  {
   "cell_type": "code",
   "execution_count": 5,
   "metadata": {},
   "outputs": [],
   "source": [
    "def tabela_frequencia(df,coluna,legenda):\n",
    "    frequencia = df[coluna].value_counts()\n",
    "    percentual = round(df[coluna].value_counts(normalize=True)*100,2)\n",
    "    dist_frequ = pd.DataFrame({'Frequência': frequencia, 'Percentual': percentual})\n",
    "    dist_frequ.rename_axis(legenda, axis = 1, inplace=True)\n",
    "    return dist_frequ"
   ]
  },
  {
   "cell_type": "code",
   "execution_count": 6,
   "metadata": {},
   "outputs": [],
   "source": [
    "def k_sturges(amostra):\n",
    "    k=int(1+((10/3)*np.log10(len(amostra))))\n",
    "    return k"
   ]
  },
  {
   "cell_type": "code",
   "execution_count": 76,
   "metadata": {},
   "outputs": [],
   "source": [
    "def crosstab_rename(pergunta1, respostas1, pergunta2, respostas2,titulo):\n",
    "    crosstab = pd.crosstab(pergunta1,pergunta2,normalize='columns').round(4)*100\n",
    "    crosstab.rename(index= respostas1, inplace= True)\n",
    "    crosstab.rename(columns = respostas2, inplace= True)\n",
    "    crosstab.rename_axis('', axis = 1, inplace=True)\n",
    "    crosstab.rename_axis(titulo, axis = 'index', inplace=True)\n",
    "    return crosstab\n",
    "\n",
    "def crosstab_rename_all(pergunta1, respostas1, pergunta2, respostas2,titulo):\n",
    "    crosstab = pd.crosstab(pergunta1,pergunta2,normalize='all').round(4)*100\n",
    "    crosstab.rename(index= respostas1, inplace= True)\n",
    "    crosstab.rename(columns = respostas2, inplace= True)\n",
    "    crosstab.rename_axis('', axis = 1, inplace=True)\n",
    "    crosstab.rename_axis(titulo, axis = 'all', inplace=True)\n",
    "    return crosstab\n",
    "\n",
    "def crosstab_rename_index(pergunta1, respostas1, pergunta2, respostas2,titulo):\n",
    "    crosstab = pd.crosstab(pergunta1,pergunta2,normalize='index').round(4)*100\n",
    "    crosstab.rename(index= respostas1, inplace= True)\n",
    "    crosstab.rename(columns = respostas2, inplace= True)\n",
    "    crosstab.rename_axis('', axis = 1, inplace=True)\n",
    "    crosstab.rename_axis(titulo, axis = 'index', inplace=True)\n",
    "    return crosstab"
   ]
  },
  {
   "cell_type": "code",
   "execution_count": 43,
   "metadata": {},
   "outputs": [],
   "source": [
    "def histplot_segregado(df,pergunta,hue,legenda,legendax,dicionario_legenda):\n",
    "    df[hue]=df[hue].map(dicionario_legenda)\n",
    "    ax = sns.histplot(data=df,x=pergunta,color='blue',hue=hue,bins=len(df[df[pergunta]!=99][df[pergunta]!=-1][pergunta].unique()),palette='YlOrRd',stat='probability',cumulative=True)\n",
    "    ax.figure.set_size_inches(14,8)\n",
    "    ax.set_title(legenda)\n",
    "    ax.set_xlabel(legendax)\n",
    "    plt.xticks(df[df[pergunta]!=99][df[pergunta]!=-1][pergunta].unique())\n",
    "    plt.show()"
   ]
  },
  {
   "cell_type": "code",
   "execution_count": 9,
   "metadata": {},
   "outputs": [],
   "source": [
    "def histplot_segregado_(df,pergunta,hue,legenda,legendax,dicionario_legenda):\n",
    "    df[hue]=df[hue].map(dicionario_legenda)\n",
    "    ax = sns.histplot(data=df,x=pergunta,color='blue',hue=hue,bins=len(df[df[pergunta]!=99][df[pergunta]!=-1][pergunta].unique()),\n",
    "                      palette='YlOrRd',stat=\"probability\")\n",
    "    ax.figure.set_size_inches(14,8)\n",
    "    ax.set_title(legenda)\n",
    "    ax.set_xlabel(legendax)\n",
    "    plt.xticks(df[df[pergunta]!=99][df[pergunta]!=-1][pergunta].unique())\n",
    "    plt.show()"
   ]
  },
  {
   "cell_type": "code",
   "execution_count": null,
   "metadata": {},
   "outputs": [],
   "source": []
  },
  {
   "cell_type": "markdown",
   "metadata": {},
   "source": [
    "### Dicionários:"
   ]
  },
  {
   "cell_type": "code",
   "execution_count": 90,
   "metadata": {},
   "outputs": [],
   "source": [
    "idade_iniciacao_sexual= {\n",
    "9:'9 anos ou menos',\n",
    "10:'10 anos',\n",
    "11:'11 anos',\n",
    "12:'12 anos',\n",
    "13:'13 anos',\n",
    "14:'14 anos',\n",
    "15:'15 anos',\n",
    "16:'16 anos',\n",
    "17:'17 anos',\n",
    "18:'18 anos ou mais'    \n",
    "}\n",
    "\n",
    "tipo_municipio={\n",
    "1:'Capital',\n",
    "2:'Interior'\n",
    "}\n",
    "\n",
    "sexo={\n",
    "1:'Masculino',\n",
    "2:'Feminino'\n",
    "}\n",
    "\n",
    "consumo_30_dias ={\n",
    "1:\"Nenhum dia nos últimos 30 dias\",\n",
    "2:\"1 ou 2 dias nos últimos 30 dias\",\n",
    "3:\"3 a 5 dias nos últimos 30 dias\",\n",
    "4:\"6 a 9 dias nos últimos 30 dias\",\n",
    "5:\"10 a 19 dias nos últimos 30 dias\",\n",
    "6:\"20 a 29 dias nos últimos 30 dias\",\n",
    "7:\"Todos os dias nos últimos 30 dias\" \n",
    "}\n",
    "\n",
    "idade_consumo_drogas= {\n",
    "-1:'Pulo no questionário',\n",
    "7:'7 anos ou menos',\n",
    "8:'8 anos',\n",
    "9:'9 anos',\n",
    "10:'10 anos',\n",
    "11:'11 anos',\n",
    "12:'12 anos',\n",
    "13:'13 anos',\n",
    "14:'14 anos',\n",
    "15:'15 anos',\n",
    "16:'16 anos',\n",
    "17:'17 anos',\n",
    "18:'18 anos ou mais',\n",
    "99:'Não informado'\n",
    "}"
   ]
  },
  {
   "cell_type": "markdown",
   "metadata": {},
   "source": [
    "## Exploração inicial dos dados"
   ]
  },
  {
   "cell_type": "code",
   "execution_count": 11,
   "metadata": {},
   "outputs": [
    {
     "data": {
      "text/html": [
       "<div>\n",
       "<style scoped>\n",
       "    .dataframe tbody tr th:only-of-type {\n",
       "        vertical-align: middle;\n",
       "    }\n",
       "\n",
       "    .dataframe tbody tr th {\n",
       "        vertical-align: top;\n",
       "    }\n",
       "\n",
       "    .dataframe thead th {\n",
       "        text-align: right;\n",
       "    }\n",
       "</style>\n",
       "<table border=\"1\" class=\"dataframe\">\n",
       "  <thead>\n",
       "    <tr style=\"text-align: right;\">\n",
       "      <th></th>\n",
       "      <th>ANOPESQ</th>\n",
       "      <th>PAIS</th>\n",
       "      <th>REGEOGR</th>\n",
       "      <th>UFCENSO</th>\n",
       "      <th>MUNICIPIO_CAP</th>\n",
       "      <th>TIPO_MUNIC</th>\n",
       "      <th>VB00004</th>\n",
       "      <th>VB01001</th>\n",
       "      <th>VB01002</th>\n",
       "      <th>VB01003</th>\n",
       "      <th>...</th>\n",
       "      <th>VB16001A05</th>\n",
       "      <th>VB16001A06</th>\n",
       "      <th>VB16001A07</th>\n",
       "      <th>VB16001A08</th>\n",
       "      <th>ESTRATO_EXP</th>\n",
       "      <th>ESTRATOGEOREG</th>\n",
       "      <th>PESO</th>\n",
       "      <th>aluno</th>\n",
       "      <th>escola</th>\n",
       "      <th>turma</th>\n",
       "    </tr>\n",
       "  </thead>\n",
       "  <tbody>\n",
       "    <tr>\n",
       "      <th>0</th>\n",
       "      <td>2015</td>\n",
       "      <td>76</td>\n",
       "      <td>1</td>\n",
       "      <td>11</td>\n",
       "      <td>1100205</td>\n",
       "      <td>1</td>\n",
       "      <td>1</td>\n",
       "      <td>2</td>\n",
       "      <td>1</td>\n",
       "      <td>14</td>\n",
       "      <td>...</td>\n",
       "      <td>2</td>\n",
       "      <td>2</td>\n",
       "      <td>2</td>\n",
       "      <td>2</td>\n",
       "      <td>110020521</td>\n",
       "      <td>1100205</td>\n",
       "      <td>3.738463</td>\n",
       "      <td>1</td>\n",
       "      <td>1</td>\n",
       "      <td>1787</td>\n",
       "    </tr>\n",
       "    <tr>\n",
       "      <th>1</th>\n",
       "      <td>2015</td>\n",
       "      <td>76</td>\n",
       "      <td>1</td>\n",
       "      <td>11</td>\n",
       "      <td>1100205</td>\n",
       "      <td>1</td>\n",
       "      <td>1</td>\n",
       "      <td>1</td>\n",
       "      <td>4</td>\n",
       "      <td>16</td>\n",
       "      <td>...</td>\n",
       "      <td>2</td>\n",
       "      <td>2</td>\n",
       "      <td>2</td>\n",
       "      <td>2</td>\n",
       "      <td>110020521</td>\n",
       "      <td>1100205</td>\n",
       "      <td>3.738463</td>\n",
       "      <td>2</td>\n",
       "      <td>1</td>\n",
       "      <td>1787</td>\n",
       "    </tr>\n",
       "    <tr>\n",
       "      <th>2</th>\n",
       "      <td>2015</td>\n",
       "      <td>76</td>\n",
       "      <td>1</td>\n",
       "      <td>11</td>\n",
       "      <td>1100205</td>\n",
       "      <td>1</td>\n",
       "      <td>1</td>\n",
       "      <td>1</td>\n",
       "      <td>1</td>\n",
       "      <td>13</td>\n",
       "      <td>...</td>\n",
       "      <td>2</td>\n",
       "      <td>2</td>\n",
       "      <td>2</td>\n",
       "      <td>2</td>\n",
       "      <td>110020521</td>\n",
       "      <td>1100205</td>\n",
       "      <td>3.738463</td>\n",
       "      <td>3</td>\n",
       "      <td>1</td>\n",
       "      <td>1787</td>\n",
       "    </tr>\n",
       "    <tr>\n",
       "      <th>3</th>\n",
       "      <td>2015</td>\n",
       "      <td>76</td>\n",
       "      <td>1</td>\n",
       "      <td>11</td>\n",
       "      <td>1100205</td>\n",
       "      <td>1</td>\n",
       "      <td>1</td>\n",
       "      <td>1</td>\n",
       "      <td>4</td>\n",
       "      <td>14</td>\n",
       "      <td>...</td>\n",
       "      <td>1</td>\n",
       "      <td>2</td>\n",
       "      <td>2</td>\n",
       "      <td>2</td>\n",
       "      <td>110020521</td>\n",
       "      <td>1100205</td>\n",
       "      <td>3.738463</td>\n",
       "      <td>4</td>\n",
       "      <td>1</td>\n",
       "      <td>1787</td>\n",
       "    </tr>\n",
       "    <tr>\n",
       "      <th>4</th>\n",
       "      <td>2015</td>\n",
       "      <td>76</td>\n",
       "      <td>1</td>\n",
       "      <td>11</td>\n",
       "      <td>1100205</td>\n",
       "      <td>1</td>\n",
       "      <td>1</td>\n",
       "      <td>1</td>\n",
       "      <td>1</td>\n",
       "      <td>14</td>\n",
       "      <td>...</td>\n",
       "      <td>2</td>\n",
       "      <td>1</td>\n",
       "      <td>2</td>\n",
       "      <td>2</td>\n",
       "      <td>110020521</td>\n",
       "      <td>1100205</td>\n",
       "      <td>3.738463</td>\n",
       "      <td>5</td>\n",
       "      <td>1</td>\n",
       "      <td>1787</td>\n",
       "    </tr>\n",
       "    <tr>\n",
       "      <th>...</th>\n",
       "      <td>...</td>\n",
       "      <td>...</td>\n",
       "      <td>...</td>\n",
       "      <td>...</td>\n",
       "      <td>...</td>\n",
       "      <td>...</td>\n",
       "      <td>...</td>\n",
       "      <td>...</td>\n",
       "      <td>...</td>\n",
       "      <td>...</td>\n",
       "      <td>...</td>\n",
       "      <td>...</td>\n",
       "      <td>...</td>\n",
       "      <td>...</td>\n",
       "      <td>...</td>\n",
       "      <td>...</td>\n",
       "      <td>...</td>\n",
       "      <td>...</td>\n",
       "      <td>...</td>\n",
       "      <td>...</td>\n",
       "      <td>...</td>\n",
       "    </tr>\n",
       "    <tr>\n",
       "      <th>102067</th>\n",
       "      <td>2015</td>\n",
       "      <td>76</td>\n",
       "      <td>5</td>\n",
       "      <td>53</td>\n",
       "      <td>5300108</td>\n",
       "      <td>1</td>\n",
       "      <td>1</td>\n",
       "      <td>2</td>\n",
       "      <td>1</td>\n",
       "      <td>14</td>\n",
       "      <td>...</td>\n",
       "      <td>2</td>\n",
       "      <td>2</td>\n",
       "      <td>1</td>\n",
       "      <td>2</td>\n",
       "      <td>530010821</td>\n",
       "      <td>5300108</td>\n",
       "      <td>16.873376</td>\n",
       "      <td>102068</td>\n",
       "      <td>3040</td>\n",
       "      <td>1883</td>\n",
       "    </tr>\n",
       "    <tr>\n",
       "      <th>102068</th>\n",
       "      <td>2015</td>\n",
       "      <td>76</td>\n",
       "      <td>5</td>\n",
       "      <td>53</td>\n",
       "      <td>5300108</td>\n",
       "      <td>1</td>\n",
       "      <td>1</td>\n",
       "      <td>2</td>\n",
       "      <td>4</td>\n",
       "      <td>14</td>\n",
       "      <td>...</td>\n",
       "      <td>2</td>\n",
       "      <td>2</td>\n",
       "      <td>1</td>\n",
       "      <td>2</td>\n",
       "      <td>530010821</td>\n",
       "      <td>5300108</td>\n",
       "      <td>16.873376</td>\n",
       "      <td>102069</td>\n",
       "      <td>3040</td>\n",
       "      <td>1883</td>\n",
       "    </tr>\n",
       "    <tr>\n",
       "      <th>102069</th>\n",
       "      <td>2015</td>\n",
       "      <td>76</td>\n",
       "      <td>5</td>\n",
       "      <td>53</td>\n",
       "      <td>5300108</td>\n",
       "      <td>1</td>\n",
       "      <td>1</td>\n",
       "      <td>2</td>\n",
       "      <td>4</td>\n",
       "      <td>14</td>\n",
       "      <td>...</td>\n",
       "      <td>1</td>\n",
       "      <td>2</td>\n",
       "      <td>2</td>\n",
       "      <td>2</td>\n",
       "      <td>530010821</td>\n",
       "      <td>5300108</td>\n",
       "      <td>16.873376</td>\n",
       "      <td>102070</td>\n",
       "      <td>3040</td>\n",
       "      <td>1883</td>\n",
       "    </tr>\n",
       "    <tr>\n",
       "      <th>102070</th>\n",
       "      <td>2015</td>\n",
       "      <td>76</td>\n",
       "      <td>5</td>\n",
       "      <td>53</td>\n",
       "      <td>5300108</td>\n",
       "      <td>1</td>\n",
       "      <td>1</td>\n",
       "      <td>1</td>\n",
       "      <td>4</td>\n",
       "      <td>15</td>\n",
       "      <td>...</td>\n",
       "      <td>1</td>\n",
       "      <td>2</td>\n",
       "      <td>2</td>\n",
       "      <td>2</td>\n",
       "      <td>530010821</td>\n",
       "      <td>5300108</td>\n",
       "      <td>16.873376</td>\n",
       "      <td>102071</td>\n",
       "      <td>3040</td>\n",
       "      <td>1883</td>\n",
       "    </tr>\n",
       "    <tr>\n",
       "      <th>102071</th>\n",
       "      <td>2015</td>\n",
       "      <td>76</td>\n",
       "      <td>5</td>\n",
       "      <td>53</td>\n",
       "      <td>5300108</td>\n",
       "      <td>1</td>\n",
       "      <td>1</td>\n",
       "      <td>1</td>\n",
       "      <td>1</td>\n",
       "      <td>14</td>\n",
       "      <td>...</td>\n",
       "      <td>2</td>\n",
       "      <td>2</td>\n",
       "      <td>2</td>\n",
       "      <td>2</td>\n",
       "      <td>530010821</td>\n",
       "      <td>5300108</td>\n",
       "      <td>16.873376</td>\n",
       "      <td>102072</td>\n",
       "      <td>3040</td>\n",
       "      <td>1883</td>\n",
       "    </tr>\n",
       "  </tbody>\n",
       "</table>\n",
       "<p>102072 rows × 174 columns</p>\n",
       "</div>"
      ],
      "text/plain": [
       "        ANOPESQ  PAIS  REGEOGR  UFCENSO  MUNICIPIO_CAP  TIPO_MUNIC  VB00004  \\\n",
       "0          2015    76        1       11        1100205           1        1   \n",
       "1          2015    76        1       11        1100205           1        1   \n",
       "2          2015    76        1       11        1100205           1        1   \n",
       "3          2015    76        1       11        1100205           1        1   \n",
       "4          2015    76        1       11        1100205           1        1   \n",
       "...         ...   ...      ...      ...            ...         ...      ...   \n",
       "102067     2015    76        5       53        5300108           1        1   \n",
       "102068     2015    76        5       53        5300108           1        1   \n",
       "102069     2015    76        5       53        5300108           1        1   \n",
       "102070     2015    76        5       53        5300108           1        1   \n",
       "102071     2015    76        5       53        5300108           1        1   \n",
       "\n",
       "        VB01001  VB01002  VB01003  ...  VB16001A05  VB16001A06  VB16001A07  \\\n",
       "0             2        1       14  ...           2           2           2   \n",
       "1             1        4       16  ...           2           2           2   \n",
       "2             1        1       13  ...           2           2           2   \n",
       "3             1        4       14  ...           1           2           2   \n",
       "4             1        1       14  ...           2           1           2   \n",
       "...         ...      ...      ...  ...         ...         ...         ...   \n",
       "102067        2        1       14  ...           2           2           1   \n",
       "102068        2        4       14  ...           2           2           1   \n",
       "102069        2        4       14  ...           1           2           2   \n",
       "102070        1        4       15  ...           1           2           2   \n",
       "102071        1        1       14  ...           2           2           2   \n",
       "\n",
       "        VB16001A08  ESTRATO_EXP  ESTRATOGEOREG       PESO   aluno  escola  \\\n",
       "0                2    110020521        1100205   3.738463       1       1   \n",
       "1                2    110020521        1100205   3.738463       2       1   \n",
       "2                2    110020521        1100205   3.738463       3       1   \n",
       "3                2    110020521        1100205   3.738463       4       1   \n",
       "4                2    110020521        1100205   3.738463       5       1   \n",
       "...            ...          ...            ...        ...     ...     ...   \n",
       "102067           2    530010821        5300108  16.873376  102068    3040   \n",
       "102068           2    530010821        5300108  16.873376  102069    3040   \n",
       "102069           2    530010821        5300108  16.873376  102070    3040   \n",
       "102070           2    530010821        5300108  16.873376  102071    3040   \n",
       "102071           2    530010821        5300108  16.873376  102072    3040   \n",
       "\n",
       "        turma  \n",
       "0        1787  \n",
       "1        1787  \n",
       "2        1787  \n",
       "3        1787  \n",
       "4        1787  \n",
       "...       ...  \n",
       "102067   1883  \n",
       "102068   1883  \n",
       "102069   1883  \n",
       "102070   1883  \n",
       "102071   1883  \n",
       "\n",
       "[102072 rows x 174 columns]"
      ]
     },
     "execution_count": 11,
     "metadata": {},
     "output_type": "execute_result"
    }
   ],
   "source": [
    "dados"
   ]
  },
  {
   "cell_type": "code",
   "execution_count": 12,
   "metadata": {},
   "outputs": [
    {
     "data": {
      "text/html": [
       "<div>\n",
       "<style scoped>\n",
       "    .dataframe tbody tr th:only-of-type {\n",
       "        vertical-align: middle;\n",
       "    }\n",
       "\n",
       "    .dataframe tbody tr th {\n",
       "        vertical-align: top;\n",
       "    }\n",
       "\n",
       "    .dataframe thead th {\n",
       "        text-align: right;\n",
       "    }\n",
       "</style>\n",
       "<table border=\"1\" class=\"dataframe\">\n",
       "  <thead>\n",
       "    <tr style=\"text-align: right;\">\n",
       "      <th></th>\n",
       "    </tr>\n",
       "  </thead>\n",
       "  <tbody>\n",
       "    <tr>\n",
       "      <th>0</th>\n",
       "    </tr>\n",
       "    <tr>\n",
       "      <th>1</th>\n",
       "    </tr>\n",
       "    <tr>\n",
       "      <th>2</th>\n",
       "    </tr>\n",
       "    <tr>\n",
       "      <th>3</th>\n",
       "    </tr>\n",
       "    <tr>\n",
       "      <th>4</th>\n",
       "    </tr>\n",
       "    <tr>\n",
       "      <th>...</th>\n",
       "    </tr>\n",
       "    <tr>\n",
       "      <th>102067</th>\n",
       "    </tr>\n",
       "    <tr>\n",
       "      <th>102068</th>\n",
       "    </tr>\n",
       "    <tr>\n",
       "      <th>102069</th>\n",
       "    </tr>\n",
       "    <tr>\n",
       "      <th>102070</th>\n",
       "    </tr>\n",
       "    <tr>\n",
       "      <th>102071</th>\n",
       "    </tr>\n",
       "  </tbody>\n",
       "</table>\n",
       "<p>102072 rows × 0 columns</p>\n",
       "</div>"
      ],
      "text/plain": [
       "Empty DataFrame\n",
       "Columns: []\n",
       "Index: [0, 1, 2, 3, 4, 5, 6, 7, 8, 9, 10, 11, 12, 13, 14, 15, 16, 17, 18, 19, 20, 21, 22, 23, 24, 25, 26, 27, 28, 29, 30, 31, 32, 33, 34, 35, 36, 37, 38, 39, 40, 41, 42, 43, 44, 45, 46, 47, 48, 49, 50, 51, 52, 53, 54, 55, 56, 57, 58, 59, 60, 61, 62, 63, 64, 65, 66, 67, 68, 69, 70, 71, 72, 73, 74, 75, 76, 77, 78, 79, 80, 81, 82, 83, 84, 85, 86, 87, 88, 89, 90, 91, 92, 93, 94, 95, 96, 97, 98, 99, ...]\n",
       "\n",
       "[102072 rows x 0 columns]"
      ]
     },
     "execution_count": 12,
     "metadata": {},
     "output_type": "execute_result"
    }
   ],
   "source": [
    "dados.select_dtypes(include='object')"
   ]
  },
  {
   "cell_type": "code",
   "execution_count": 13,
   "metadata": {},
   "outputs": [
    {
     "data": {
      "text/plain": [
       "ANOPESQ          100.0\n",
       "PAIS             100.0\n",
       "REGEOGR          100.0\n",
       "UFCENSO          100.0\n",
       "MUNICIPIO_CAP    100.0\n",
       "                 ...  \n",
       "ESTRATOGEOREG    100.0\n",
       "PESO             100.0\n",
       "aluno            100.0\n",
       "escola           100.0\n",
       "turma            100.0\n",
       "Length: 174, dtype: float64"
      ]
     },
     "execution_count": 13,
     "metadata": {},
     "output_type": "execute_result"
    }
   ],
   "source": [
    "round((dados.notna().sum()/(dados.notna().sum() + dados.isna().sum()))*100,2)"
   ]
  },
  {
   "cell_type": "markdown",
   "metadata": {},
   "source": [
    "## Exploração dos dados que serão utilizados"
   ]
  },
  {
   "cell_type": "code",
   "execution_count": null,
   "metadata": {},
   "outputs": [],
   "source": []
  },
  {
   "cell_type": "code",
   "execution_count": 14,
   "metadata": {},
   "outputs": [
    {
     "data": {
      "image/png": "[encoded data removed]",
      "text/plain": [
       "<Figure size 864x576 with 1 Axes>"
      ]
     },
     "metadata": {},
     "output_type": "display_data"
    }
   ],
   "source": [
    "plt.figure(figsize=(12,8))\n",
    "plt.title('Distribuição da Idade com o primeiro contato com o Alcool')\n",
    "sns.histplot(dados['VB05003'][dados['VB05003']!=99][dados['VB05003']!=1],bins=12,kde=False,color='b')\n",
    "plt.xticks(ticks=[7,8,9,10,11,12,13,14,15,16,17,18])\n",
    "plt.grid(axis='y',c='grey')\n",
    "plt.show()"
   ]
  },
  {
   "cell_type": "code",
   "execution_count": 15,
   "metadata": {},
   "outputs": [
    {
     "data": {
      "image/png": "[encoded data removed]",
      "text/plain": [
       "<Figure size 864x576 with 1 Axes>"
      ]
     },
     "metadata": {},
     "output_type": "display_data"
    }
   ],
   "source": [
    "plt.figure(figsize=(12,8))\n",
    "plt.title('Distribuição da Idade com o primeiro contato com outras Drogas')\n",
    "sns.histplot(dados['VB06002'][dados['VB06002']!=99][dados['VB06002']!=-1],bins=12,kde=False,color='b')\n",
    "plt.xticks(ticks=[7,8,9,10,11,12,13,14,15,16,17,18])\n",
    "plt.grid(axis='y',c='grey')\n",
    "plt.show()"
   ]
  },
  {
   "cell_type": "code",
   "execution_count": 16,
   "metadata": {},
   "outputs": [
    {
     "data": {
      "image/png": "[encoded data removed]",
      "text/plain": [
       "<Figure size 864x576 with 1 Axes>"
      ]
     },
     "metadata": {},
     "output_type": "display_data"
    }
   ],
   "source": [
    "plt.figure(figsize=(12,8))\n",
    "plt.title('Distribuição da Idade Primeira Relação sexual')\n",
    "sns.histplot(dados['VB08002'][dados['VB08002']!=99][dados['VB08002']!=-1],bins=10,kde=False,color='b')\n",
    "plt.xticks(ticks=[9,10,11,12,13,14,15,16,17,18])\n",
    "plt.grid(axis='y',c='grey')\n",
    "plt.show()"
   ]
  },
  {
   "cell_type": "code",
   "execution_count": 17,
   "metadata": {},
   "outputs": [
    {
     "data": {
      "text/html": [
       "<div>\n",
       "<style scoped>\n",
       "    .dataframe tbody tr th:only-of-type {\n",
       "        vertical-align: middle;\n",
       "    }\n",
       "\n",
       "    .dataframe tbody tr th {\n",
       "        vertical-align: top;\n",
       "    }\n",
       "\n",
       "    .dataframe thead th {\n",
       "        text-align: right;\n",
       "    }\n",
       "</style>\n",
       "<table border=\"1\" class=\"dataframe\">\n",
       "  <thead>\n",
       "    <tr style=\"text-align: right;\">\n",
       "      <th>Idade Primeira Relação sexual</th>\n",
       "      <th>Frequência</th>\n",
       "      <th>Percentual</th>\n",
       "    </tr>\n",
       "  </thead>\n",
       "  <tbody>\n",
       "    <tr>\n",
       "      <th>-1</th>\n",
       "      <td>73495</td>\n",
       "      <td>72.00</td>\n",
       "    </tr>\n",
       "    <tr>\n",
       "      <th>14</th>\n",
       "      <td>8748</td>\n",
       "      <td>8.57</td>\n",
       "    </tr>\n",
       "    <tr>\n",
       "      <th>13</th>\n",
       "      <td>6712</td>\n",
       "      <td>6.58</td>\n",
       "    </tr>\n",
       "    <tr>\n",
       "      <th>15</th>\n",
       "      <td>3935</td>\n",
       "      <td>3.86</td>\n",
       "    </tr>\n",
       "    <tr>\n",
       "      <th>12</th>\n",
       "      <td>3146</td>\n",
       "      <td>3.08</td>\n",
       "    </tr>\n",
       "    <tr>\n",
       "      <th>9</th>\n",
       "      <td>1783</td>\n",
       "      <td>1.75</td>\n",
       "    </tr>\n",
       "    <tr>\n",
       "      <th>11</th>\n",
       "      <td>1290</td>\n",
       "      <td>1.26</td>\n",
       "    </tr>\n",
       "    <tr>\n",
       "      <th>10</th>\n",
       "      <td>1190</td>\n",
       "      <td>1.17</td>\n",
       "    </tr>\n",
       "    <tr>\n",
       "      <th>16</th>\n",
       "      <td>1096</td>\n",
       "      <td>1.07</td>\n",
       "    </tr>\n",
       "    <tr>\n",
       "      <th>17</th>\n",
       "      <td>317</td>\n",
       "      <td>0.31</td>\n",
       "    </tr>\n",
       "    <tr>\n",
       "      <th>99</th>\n",
       "      <td>231</td>\n",
       "      <td>0.23</td>\n",
       "    </tr>\n",
       "    <tr>\n",
       "      <th>18</th>\n",
       "      <td>129</td>\n",
       "      <td>0.13</td>\n",
       "    </tr>\n",
       "  </tbody>\n",
       "</table>\n",
       "</div>"
      ],
      "text/plain": [
       "Idade Primeira Relação sexual  Frequência  Percentual\n",
       "-1                                  73495       72.00\n",
       " 14                                  8748        8.57\n",
       " 13                                  6712        6.58\n",
       " 15                                  3935        3.86\n",
       " 12                                  3146        3.08\n",
       " 9                                   1783        1.75\n",
       " 11                                  1290        1.26\n",
       " 10                                  1190        1.17\n",
       " 16                                  1096        1.07\n",
       " 17                                   317        0.31\n",
       " 99                                   231        0.23\n",
       " 18                                   129        0.13"
      ]
     },
     "execution_count": 17,
     "metadata": {},
     "output_type": "execute_result"
    }
   ],
   "source": [
    "tabela_frequencia(dados,'VB08002','Idade Primeira Relação sexual')"
   ]
  },
  {
   "cell_type": "code",
   "execution_count": 18,
   "metadata": {},
   "outputs": [
    {
     "data": {
      "text/html": [
       "<div>\n",
       "<style scoped>\n",
       "    .dataframe tbody tr th:only-of-type {\n",
       "        vertical-align: middle;\n",
       "    }\n",
       "\n",
       "    .dataframe tbody tr th {\n",
       "        vertical-align: top;\n",
       "    }\n",
       "\n",
       "    .dataframe thead th {\n",
       "        text-align: right;\n",
       "    }\n",
       "</style>\n",
       "<table border=\"1\" class=\"dataframe\">\n",
       "  <thead>\n",
       "    <tr style=\"text-align: right;\">\n",
       "      <th>Série Atual</th>\n",
       "      <th>Frequência</th>\n",
       "      <th>Percentual</th>\n",
       "    </tr>\n",
       "  </thead>\n",
       "  <tbody>\n",
       "    <tr>\n",
       "      <th>4</th>\n",
       "      <td>100497</td>\n",
       "      <td>98.46</td>\n",
       "    </tr>\n",
       "    <tr>\n",
       "      <th>3</th>\n",
       "      <td>1247</td>\n",
       "      <td>1.22</td>\n",
       "    </tr>\n",
       "    <tr>\n",
       "      <th>5</th>\n",
       "      <td>124</td>\n",
       "      <td>0.12</td>\n",
       "    </tr>\n",
       "    <tr>\n",
       "      <th>7</th>\n",
       "      <td>50</td>\n",
       "      <td>0.05</td>\n",
       "    </tr>\n",
       "    <tr>\n",
       "      <th>1</th>\n",
       "      <td>43</td>\n",
       "      <td>0.04</td>\n",
       "    </tr>\n",
       "    <tr>\n",
       "      <th>6</th>\n",
       "      <td>39</td>\n",
       "      <td>0.04</td>\n",
       "    </tr>\n",
       "    <tr>\n",
       "      <th>2</th>\n",
       "      <td>37</td>\n",
       "      <td>0.04</td>\n",
       "    </tr>\n",
       "    <tr>\n",
       "      <th>99</th>\n",
       "      <td>35</td>\n",
       "      <td>0.03</td>\n",
       "    </tr>\n",
       "  </tbody>\n",
       "</table>\n",
       "</div>"
      ],
      "text/plain": [
       "Série Atual  Frequência  Percentual\n",
       "4                100497       98.46\n",
       "3                  1247        1.22\n",
       "5                   124        0.12\n",
       "7                    50        0.05\n",
       "1                    43        0.04\n",
       "6                    39        0.04\n",
       "2                    37        0.04\n",
       "99                   35        0.03"
      ]
     },
     "execution_count": 18,
     "metadata": {},
     "output_type": "execute_result"
    }
   ],
   "source": [
    "tabela_frequencia(dados,'VB01021','Série Atual')"
   ]
  },
  {
   "cell_type": "code",
   "execution_count": 19,
   "metadata": {},
   "outputs": [
    {
     "data": {
      "image/png": "[encoded data removed]",
      "text/plain": [
       "<Figure size 864x576 with 1 Axes>"
      ]
     },
     "metadata": {},
     "output_type": "display_data"
    }
   ],
   "source": [
    "plt.figure(figsize=(12,8))\n",
    "plt.title('Preetenção de Estudos')\n",
    "sns.histplot(dados['VB01025'][dados['VB01025']!=99][dados['VB01025']!=-1],bins=6,kde=False,color='b')\n",
    "plt.xticks(ticks=[1,2,3,4,5,6])\n",
    "plt.grid(axis='y',c='grey')\n",
    "plt.show()"
   ]
  },
  {
   "cell_type": "code",
   "execution_count": 20,
   "metadata": {},
   "outputs": [
    {
     "data": {
      "text/html": [
       "<div>\n",
       "<style scoped>\n",
       "    .dataframe tbody tr th:only-of-type {\n",
       "        vertical-align: middle;\n",
       "    }\n",
       "\n",
       "    .dataframe tbody tr th {\n",
       "        vertical-align: top;\n",
       "    }\n",
       "\n",
       "    .dataframe thead th {\n",
       "        text-align: right;\n",
       "    }\n",
       "</style>\n",
       "<table border=\"1\" class=\"dataframe\">\n",
       "  <thead>\n",
       "    <tr style=\"text-align: right;\">\n",
       "      <th>Preetenção de Estudos</th>\n",
       "      <th>Frequência</th>\n",
       "      <th>Percentual</th>\n",
       "    </tr>\n",
       "  </thead>\n",
       "  <tbody>\n",
       "    <tr>\n",
       "      <th>5</th>\n",
       "      <td>44167</td>\n",
       "      <td>43.27</td>\n",
       "    </tr>\n",
       "    <tr>\n",
       "      <th>6</th>\n",
       "      <td>19673</td>\n",
       "      <td>19.27</td>\n",
       "    </tr>\n",
       "    <tr>\n",
       "      <th>4</th>\n",
       "      <td>14536</td>\n",
       "      <td>14.24</td>\n",
       "    </tr>\n",
       "    <tr>\n",
       "      <th>2</th>\n",
       "      <td>11804</td>\n",
       "      <td>11.56</td>\n",
       "    </tr>\n",
       "    <tr>\n",
       "      <th>1</th>\n",
       "      <td>6706</td>\n",
       "      <td>6.57</td>\n",
       "    </tr>\n",
       "    <tr>\n",
       "      <th>3</th>\n",
       "      <td>5081</td>\n",
       "      <td>4.98</td>\n",
       "    </tr>\n",
       "    <tr>\n",
       "      <th>99</th>\n",
       "      <td>105</td>\n",
       "      <td>0.10</td>\n",
       "    </tr>\n",
       "  </tbody>\n",
       "</table>\n",
       "</div>"
      ],
      "text/plain": [
       "Preetenção de Estudos  Frequência  Percentual\n",
       "5                           44167       43.27\n",
       "6                           19673       19.27\n",
       "4                           14536       14.24\n",
       "2                           11804       11.56\n",
       "1                            6706        6.57\n",
       "3                            5081        4.98\n",
       "99                            105        0.10"
      ]
     },
     "execution_count": 20,
     "metadata": {},
     "output_type": "execute_result"
    }
   ],
   "source": [
    "tabela_frequencia(dados,'VB01025','Preetenção de Estudos')"
   ]
  },
  {
   "cell_type": "code",
   "execution_count": 21,
   "metadata": {},
   "outputs": [
    {
     "data": {
      "text/html": [
       "<div>\n",
       "<style scoped>\n",
       "    .dataframe tbody tr th:only-of-type {\n",
       "        vertical-align: middle;\n",
       "    }\n",
       "\n",
       "    .dataframe tbody tr th {\n",
       "        vertical-align: top;\n",
       "    }\n",
       "\n",
       "    .dataframe thead th {\n",
       "        text-align: right;\n",
       "    }\n",
       "</style>\n",
       "<table border=\"1\" class=\"dataframe\">\n",
       "  <thead>\n",
       "    <tr style=\"text-align: right;\">\n",
       "      <th>Primeiro Contato com cigarro</th>\n",
       "      <th>Frequência</th>\n",
       "      <th>Percentual</th>\n",
       "    </tr>\n",
       "  </thead>\n",
       "  <tbody>\n",
       "    <tr>\n",
       "      <th>-1</th>\n",
       "      <td>83349</td>\n",
       "      <td>81.66</td>\n",
       "    </tr>\n",
       "    <tr>\n",
       "      <th>13</th>\n",
       "      <td>4516</td>\n",
       "      <td>4.42</td>\n",
       "    </tr>\n",
       "    <tr>\n",
       "      <th>14</th>\n",
       "      <td>4147</td>\n",
       "      <td>4.06</td>\n",
       "    </tr>\n",
       "    <tr>\n",
       "      <th>12</th>\n",
       "      <td>2843</td>\n",
       "      <td>2.79</td>\n",
       "    </tr>\n",
       "    <tr>\n",
       "      <th>15</th>\n",
       "      <td>1597</td>\n",
       "      <td>1.56</td>\n",
       "    </tr>\n",
       "    <tr>\n",
       "      <th>11</th>\n",
       "      <td>1363</td>\n",
       "      <td>1.34</td>\n",
       "    </tr>\n",
       "    <tr>\n",
       "      <th>10</th>\n",
       "      <td>1203</td>\n",
       "      <td>1.18</td>\n",
       "    </tr>\n",
       "    <tr>\n",
       "      <th>7</th>\n",
       "      <td>1068</td>\n",
       "      <td>1.05</td>\n",
       "    </tr>\n",
       "    <tr>\n",
       "      <th>9</th>\n",
       "      <td>560</td>\n",
       "      <td>0.55</td>\n",
       "    </tr>\n",
       "    <tr>\n",
       "      <th>16</th>\n",
       "      <td>539</td>\n",
       "      <td>0.53</td>\n",
       "    </tr>\n",
       "    <tr>\n",
       "      <th>8</th>\n",
       "      <td>508</td>\n",
       "      <td>0.50</td>\n",
       "    </tr>\n",
       "    <tr>\n",
       "      <th>99</th>\n",
       "      <td>181</td>\n",
       "      <td>0.18</td>\n",
       "    </tr>\n",
       "    <tr>\n",
       "      <th>17</th>\n",
       "      <td>147</td>\n",
       "      <td>0.14</td>\n",
       "    </tr>\n",
       "    <tr>\n",
       "      <th>18</th>\n",
       "      <td>51</td>\n",
       "      <td>0.05</td>\n",
       "    </tr>\n",
       "  </tbody>\n",
       "</table>\n",
       "</div>"
      ],
      "text/plain": [
       "Primeiro Contato com cigarro  Frequência  Percentual\n",
       "-1                                 83349       81.66\n",
       " 13                                 4516        4.42\n",
       " 14                                 4147        4.06\n",
       " 12                                 2843        2.79\n",
       " 15                                 1597        1.56\n",
       " 11                                 1363        1.34\n",
       " 10                                 1203        1.18\n",
       " 7                                  1068        1.05\n",
       " 9                                   560        0.55\n",
       " 16                                  539        0.53\n",
       " 8                                   508        0.50\n",
       " 99                                  181        0.18\n",
       " 17                                  147        0.14\n",
       " 18                                   51        0.05"
      ]
     },
     "execution_count": 21,
     "metadata": {},
     "output_type": "execute_result"
    }
   ],
   "source": [
    "tabela_frequencia(dados,'VB04002','Primeiro Contato com cigarro')"
   ]
  },
  {
   "cell_type": "markdown",
   "metadata": {},
   "source": [
    "# Analise dos Dados"
   ]
  },
  {
   "cell_type": "markdown",
   "metadata": {},
   "source": [
    "## Há diferença entre a idade de iniciação sexual entre os sexos? E entre escolas do interior e capital? "
   ]
  },
  {
   "cell_type": "markdown",
   "metadata": {},
   "source": [
    "A pergunta sobre iniciação sexual é a VB08002 porém a maior parte das pessoas pularam esta questão, 72% do total por isso as conclusões podem divergir da realidade. Para a análise só será considerado a população que respondeu a pergunta."
   ]
  },
  {
   "cell_type": "code",
   "execution_count": 22,
   "metadata": {},
   "outputs": [
    {
     "data": {
      "text/plain": [
       "1         12\n",
       "5         10\n",
       "7         12\n",
       "12        14\n",
       "15        16\n",
       "          ..\n",
       "102059    12\n",
       "102062    15\n",
       "102064    14\n",
       "102070    14\n",
       "102071    14\n",
       "Name: VB08002, Length: 28346, dtype: int64"
      ]
     },
     "execution_count": 22,
     "metadata": {},
     "output_type": "execute_result"
    }
   ],
   "source": [
    "dados['VB08002'][dados['VB08002']!=-1][dados['VB08002']!=99]"
   ]
  },
  {
   "cell_type": "code",
   "execution_count": 23,
   "metadata": {},
   "outputs": [
    {
     "data": {
      "text/html": [
       "<div>\n",
       "<style scoped>\n",
       "    .dataframe tbody tr th:only-of-type {\n",
       "        vertical-align: middle;\n",
       "    }\n",
       "\n",
       "    .dataframe tbody tr th {\n",
       "        vertical-align: top;\n",
       "    }\n",
       "\n",
       "    .dataframe thead th {\n",
       "        text-align: right;\n",
       "    }\n",
       "</style>\n",
       "<table border=\"1\" class=\"dataframe\">\n",
       "  <thead>\n",
       "    <tr style=\"text-align: right;\">\n",
       "      <th></th>\n",
       "      <th>Capital</th>\n",
       "      <th>Interior</th>\n",
       "    </tr>\n",
       "    <tr>\n",
       "      <th>Idade da Primeira Relação Sexual:</th>\n",
       "      <th></th>\n",
       "      <th></th>\n",
       "    </tr>\n",
       "  </thead>\n",
       "  <tbody>\n",
       "    <tr>\n",
       "      <th>9 anos ou menos</th>\n",
       "      <td>6.56</td>\n",
       "      <td>6.04</td>\n",
       "    </tr>\n",
       "    <tr>\n",
       "      <th>10 anos</th>\n",
       "      <td>4.06</td>\n",
       "      <td>4.33</td>\n",
       "    </tr>\n",
       "    <tr>\n",
       "      <th>11 anos</th>\n",
       "      <td>4.45</td>\n",
       "      <td>4.65</td>\n",
       "    </tr>\n",
       "    <tr>\n",
       "      <th>12 anos</th>\n",
       "      <td>11.46</td>\n",
       "      <td>10.76</td>\n",
       "    </tr>\n",
       "    <tr>\n",
       "      <th>13 anos</th>\n",
       "      <td>24.59</td>\n",
       "      <td>22.82</td>\n",
       "    </tr>\n",
       "    <tr>\n",
       "      <th>14 anos</th>\n",
       "      <td>31.46</td>\n",
       "      <td>30.29</td>\n",
       "    </tr>\n",
       "    <tr>\n",
       "      <th>15 anos</th>\n",
       "      <td>13.23</td>\n",
       "      <td>14.49</td>\n",
       "    </tr>\n",
       "    <tr>\n",
       "      <th>16 anos</th>\n",
       "      <td>3.23</td>\n",
       "      <td>4.47</td>\n",
       "    </tr>\n",
       "    <tr>\n",
       "      <th>17 anos</th>\n",
       "      <td>0.68</td>\n",
       "      <td>1.53</td>\n",
       "    </tr>\n",
       "    <tr>\n",
       "      <th>18 anos ou mais</th>\n",
       "      <td>0.28</td>\n",
       "      <td>0.62</td>\n",
       "    </tr>\n",
       "  </tbody>\n",
       "</table>\n",
       "</div>"
      ],
      "text/plain": [
       "                                   Capital  Interior\n",
       "Idade da Primeira Relação Sexual:                   \n",
       "9 anos ou menos                       6.56      6.04\n",
       "10 anos                               4.06      4.33\n",
       "11 anos                               4.45      4.65\n",
       "12 anos                              11.46     10.76\n",
       "13 anos                              24.59     22.82\n",
       "14 anos                              31.46     30.29\n",
       "15 anos                              13.23     14.49\n",
       "16 anos                               3.23      4.47\n",
       "17 anos                               0.68      1.53\n",
       "18 anos ou mais                       0.28      0.62"
      ]
     },
     "execution_count": 23,
     "metadata": {},
     "output_type": "execute_result"
    }
   ],
   "source": [
    "crosstab_rename(dados['VB08002'][dados['VB08002']!=-1][dados['VB08002']!=99],idade_iniciacao_sexual,dados['TIPO_MUNIC'],tipo_municipio, 'Idade da Primeira Relação Sexual:')"
   ]
  },
  {
   "cell_type": "code",
   "execution_count": 24,
   "metadata": {},
   "outputs": [
    {
     "name": "stderr",
     "output_type": "stream",
     "text": [
      "C:\\Users\\r9kx\\Anaconda3\\lib\\site-packages\\ipykernel_launcher.py:1: UserWarning: Boolean Series key will be reindexed to match DataFrame index.\n",
      "  \"\"\"Entry point for launching an IPython kernel.\n"
     ]
    },
    {
     "data": {
      "image/png": "[encoded data removed]",
      "text/plain": [
       "<Figure size 1008x576 with 1 Axes>"
      ]
     },
     "metadata": {},
     "output_type": "display_data"
    }
   ],
   "source": [
    "histplot_segregado(dados[dados['VB08002']!=99][dados['VB08002']!=-1],'VB08002','TIPO_MUNIC','Distribuição da primeira relação sexual por idade e separado por tipo de municipio','Idade',tipo_municipio)"
   ]
  },
  {
   "cell_type": "code",
   "execution_count": 25,
   "metadata": {},
   "outputs": [
    {
     "name": "stdout",
     "output_type": "stream",
     "text": [
      "count    13752.000000\n",
      "mean        13.129654\n",
      "std          1.733117\n",
      "Name: VB08002, dtype: float64\n",
      "count    14594.000000\n",
      "mean        13.247225\n",
      "std          1.809203\n",
      "Name: VB08002, dtype: float64\n"
     ]
    }
   ],
   "source": [
    "print(dados['VB08002'][dados['VB08002']!=99][dados['VB08002']!=-1][dados['TIPO_MUNIC']==1].describe()[:3])\n",
    "print( dados['VB08002'][dados['VB08002']!=99][dados['VB08002']!=-1][dados['TIPO_MUNIC']==2].describe()[:3])"
   ]
  },
  {
   "cell_type": "markdown",
   "metadata": {},
   "source": [
    "Visualmente não parece ter diferenças significativas entre a capital e o interior, porem, como temos uma grande amostra podemos usar o teste Z para confirmar nossa hipotese. Porem não sabemos se as amostras são distribuições normais. Entao vamos verificar a normalidade das amostras."
   ]
  },
  {
   "cell_type": "code",
   "execution_count": 26,
   "metadata": {},
   "outputs": [
    {
     "data": {
      "text/plain": [
       "NormaltestResult(statistic=1116.3738897712049, pvalue=3.8237541887969135e-243)"
      ]
     },
     "execution_count": 26,
     "metadata": {},
     "output_type": "execute_result"
    }
   ],
   "source": [
    "normaltest(dados['VB08002'][dados['VB08002']!=99][dados['VB08002']!=-1][dados['TIPO_MUNIC']==1])"
   ]
  },
  {
   "cell_type": "code",
   "execution_count": 27,
   "metadata": {},
   "outputs": [
    {
     "data": {
      "text/plain": [
       "NormaltestResult(statistic=805.6041314394138, pvalue=1.1622125443805865e-175)"
      ]
     },
     "execution_count": 27,
     "metadata": {},
     "output_type": "execute_result"
    }
   ],
   "source": [
    "normaltest(dados['VB08002'][dados['VB08002']!=99][dados['VB08002']!=-1][dados['TIPO_MUNIC']==2])"
   ]
  },
  {
   "cell_type": "markdown",
   "metadata": {},
   "source": [
    "Como nossas amostras não são normais, para confirmar nossa hipotese temos que usar um testes de Wilcoxom ao invez do teste Z"
   ]
  },
  {
   "cell_type": "code",
   "execution_count": 28,
   "metadata": {},
   "outputs": [
    {
     "data": {
      "text/plain": [
       "RanksumsResult(statistic=-5.636576723885928, pvalue=1.7346377139004955e-08)"
      ]
     },
     "execution_count": 28,
     "metadata": {},
     "output_type": "execute_result"
    }
   ],
   "source": [
    "ranksums(dados['VB08002'][dados['VB08002']!=99][dados['VB08002']!=-1][dados['TIPO_MUNIC']==1], dados['VB08002'][dados['VB08002']!=99][dados['VB08002']!=-1][dados['TIPO_MUNIC']==2])"
   ]
  },
  {
   "cell_type": "markdown",
   "metadata": {},
   "source": [
    "Apesar de aparecer similar as distribuições, nossas amostras são estatisticamente diferentes.  \n",
    "Podemos agora fazer os mesmos testes para as diferenças entre o sexo masculino e feminino."
   ]
  },
  {
   "cell_type": "code",
   "execution_count": 29,
   "metadata": {},
   "outputs": [
    {
     "data": {
      "text/html": [
       "<div>\n",
       "<style scoped>\n",
       "    .dataframe tbody tr th:only-of-type {\n",
       "        vertical-align: middle;\n",
       "    }\n",
       "\n",
       "    .dataframe tbody tr th {\n",
       "        vertical-align: top;\n",
       "    }\n",
       "\n",
       "    .dataframe thead th {\n",
       "        text-align: right;\n",
       "    }\n",
       "</style>\n",
       "<table border=\"1\" class=\"dataframe\">\n",
       "  <thead>\n",
       "    <tr style=\"text-align: right;\">\n",
       "      <th></th>\n",
       "      <th>Masculino</th>\n",
       "      <th>Feminino</th>\n",
       "    </tr>\n",
       "    <tr>\n",
       "      <th>Idade da Primeira Relação Sexual:</th>\n",
       "      <th></th>\n",
       "      <th></th>\n",
       "    </tr>\n",
       "  </thead>\n",
       "  <tbody>\n",
       "    <tr>\n",
       "      <th>9 anos ou menos</th>\n",
       "      <td>8.95</td>\n",
       "      <td>1.61</td>\n",
       "    </tr>\n",
       "    <tr>\n",
       "      <th>10 anos</th>\n",
       "      <td>6.08</td>\n",
       "      <td>0.88</td>\n",
       "    </tr>\n",
       "    <tr>\n",
       "      <th>11 anos</th>\n",
       "      <td>6.04</td>\n",
       "      <td>1.94</td>\n",
       "    </tr>\n",
       "    <tr>\n",
       "      <th>12 anos</th>\n",
       "      <td>12.75</td>\n",
       "      <td>8.21</td>\n",
       "    </tr>\n",
       "    <tr>\n",
       "      <th>13 anos</th>\n",
       "      <td>22.41</td>\n",
       "      <td>25.91</td>\n",
       "    </tr>\n",
       "    <tr>\n",
       "      <th>14 anos</th>\n",
       "      <td>27.84</td>\n",
       "      <td>36.16</td>\n",
       "    </tr>\n",
       "    <tr>\n",
       "      <th>15 anos</th>\n",
       "      <td>11.48</td>\n",
       "      <td>18.09</td>\n",
       "    </tr>\n",
       "    <tr>\n",
       "      <th>16 anos</th>\n",
       "      <td>3.29</td>\n",
       "      <td>4.87</td>\n",
       "    </tr>\n",
       "    <tr>\n",
       "      <th>17 anos</th>\n",
       "      <td>0.82</td>\n",
       "      <td>1.64</td>\n",
       "    </tr>\n",
       "    <tr>\n",
       "      <th>18 anos ou mais</th>\n",
       "      <td>0.33</td>\n",
       "      <td>0.67</td>\n",
       "    </tr>\n",
       "  </tbody>\n",
       "</table>\n",
       "</div>"
      ],
      "text/plain": [
       "                                   Masculino  Feminino\n",
       "Idade da Primeira Relação Sexual:                     \n",
       "9 anos ou menos                         8.95      1.61\n",
       "10 anos                                 6.08      0.88\n",
       "11 anos                                 6.04      1.94\n",
       "12 anos                                12.75      8.21\n",
       "13 anos                                22.41     25.91\n",
       "14 anos                                27.84     36.16\n",
       "15 anos                                11.48     18.09\n",
       "16 anos                                 3.29      4.87\n",
       "17 anos                                 0.82      1.64\n",
       "18 anos ou mais                         0.33      0.67"
      ]
     },
     "execution_count": 29,
     "metadata": {},
     "output_type": "execute_result"
    }
   ],
   "source": [
    "crosstab_rename(dados['VB08002'][dados['VB08002']!=-1][dados['VB08002']!=99],idade_iniciacao_sexual,dados['VB01001'],sexo, 'Idade da Primeira Relação Sexual:')"
   ]
  },
  {
   "cell_type": "code",
   "execution_count": 45,
   "metadata": {},
   "outputs": [
    {
     "name": "stderr",
     "output_type": "stream",
     "text": [
      "C:\\Users\\r9kx\\Anaconda3\\lib\\site-packages\\ipykernel_launcher.py:1: UserWarning: Boolean Series key will be reindexed to match DataFrame index.\n",
      "  \"\"\"Entry point for launching an IPython kernel.\n"
     ]
    },
    {
     "data": {
      "image/png": "[encoded data removed]",
      "text/plain": [
       "<Figure size 1008x576 with 1 Axes>"
      ]
     },
     "metadata": {},
     "output_type": "display_data"
    }
   ],
   "source": [
    "histplot_segregado_(dados[dados['VB08002']!=99][dados['VB08002']!=-1],'VB08002','VB01001','Distribuição da primeira relação sexual por idade e separado por sexo','Idade',sexo)"
   ]
  },
  {
   "cell_type": "code",
   "execution_count": 31,
   "metadata": {},
   "outputs": [
    {
     "data": {
      "text/plain": [
       "NormaltestResult(statistic=772.039477999991, pvalue=2.25817422785216e-168)"
      ]
     },
     "execution_count": 31,
     "metadata": {},
     "output_type": "execute_result"
    }
   ],
   "source": [
    "normaltest(dados['VB08002'][dados['VB08002']!=99][dados['VB08002']!=-1][dados['VB01001']==1])"
   ]
  },
  {
   "cell_type": "code",
   "execution_count": 32,
   "metadata": {},
   "outputs": [
    {
     "data": {
      "text/plain": [
       "NormaltestResult(statistic=815.308331459041, pvalue=9.079152247299627e-178)"
      ]
     },
     "execution_count": 32,
     "metadata": {},
     "output_type": "execute_result"
    }
   ],
   "source": [
    "normaltest(dados['VB08002'][dados['VB08002']!=99][dados['VB08002']!=-1][dados['VB01001']==2])"
   ]
  },
  {
   "cell_type": "code",
   "execution_count": 33,
   "metadata": {},
   "outputs": [
    {
     "data": {
      "text/plain": [
       "RanksumsResult(statistic=-36.73370726057936, pvalue=2.116475105856769e-295)"
      ]
     },
     "execution_count": 33,
     "metadata": {},
     "output_type": "execute_result"
    }
   ],
   "source": [
    "ranksums(dados['VB08002'][dados['VB08002']!=99][dados['VB08002']!=-1][dados['VB01001']==1], dados['VB08002'][dados['VB08002']!=99][dados['VB08002']!=-1][dados['VB01001']==2])"
   ]
  },
  {
   "cell_type": "markdown",
   "metadata": {},
   "source": [
    "Mais uma vez temos amostras estatisticamente diferentes entre os alunos do sexo masculino e feminino."
   ]
  },
  {
   "cell_type": "markdown",
   "metadata": {},
   "source": [
    "## Há uma tendencia maior no consumo de bebidas alcoolicas entre os meninos?  E será que no interior os estudantes bebem mais? "
   ]
  },
  {
   "cell_type": "code",
   "execution_count": 91,
   "metadata": {},
   "outputs": [
    {
     "data": {
      "text/html": [
       "<div>\n",
       "<style scoped>\n",
       "    .dataframe tbody tr th:only-of-type {\n",
       "        vertical-align: middle;\n",
       "    }\n",
       "\n",
       "    .dataframe tbody tr th {\n",
       "        vertical-align: top;\n",
       "    }\n",
       "\n",
       "    .dataframe thead th {\n",
       "        text-align: right;\n",
       "    }\n",
       "</style>\n",
       "<table border=\"1\" class=\"dataframe\">\n",
       "  <thead>\n",
       "    <tr style=\"text-align: right;\">\n",
       "      <th></th>\n",
       "      <th>Masculino</th>\n",
       "      <th>Feminino</th>\n",
       "    </tr>\n",
       "    <tr>\n",
       "      <th>Quantidade de dias em que houve consumo de alcool nos ultimos 30 dias:</th>\n",
       "      <th></th>\n",
       "      <th></th>\n",
       "    </tr>\n",
       "  </thead>\n",
       "  <tbody>\n",
       "    <tr>\n",
       "      <th>Nenhum dia nos últimos 30 dias</th>\n",
       "      <td>60.12</td>\n",
       "      <td>57.75</td>\n",
       "    </tr>\n",
       "    <tr>\n",
       "      <th>1 ou 2 dias nos últimos 30 dias</th>\n",
       "      <td>23.21</td>\n",
       "      <td>26.76</td>\n",
       "    </tr>\n",
       "    <tr>\n",
       "      <th>3 a 5 dias nos últimos 30 dias</th>\n",
       "      <td>7.08</td>\n",
       "      <td>7.13</td>\n",
       "    </tr>\n",
       "    <tr>\n",
       "      <th>6 a 9 dias nos últimos 30 dias</th>\n",
       "      <td>4.20</td>\n",
       "      <td>3.74</td>\n",
       "    </tr>\n",
       "    <tr>\n",
       "      <th>10 a 19 dias nos últimos 30 dias</th>\n",
       "      <td>2.96</td>\n",
       "      <td>2.48</td>\n",
       "    </tr>\n",
       "    <tr>\n",
       "      <th>20 a 29 dias nos últimos 30 dias</th>\n",
       "      <td>1.23</td>\n",
       "      <td>1.39</td>\n",
       "    </tr>\n",
       "    <tr>\n",
       "      <th>Todos os dias nos últimos 30 dias</th>\n",
       "      <td>1.20</td>\n",
       "      <td>0.77</td>\n",
       "    </tr>\n",
       "  </tbody>\n",
       "</table>\n",
       "</div>"
      ],
      "text/plain": [
       "                                                    Masculino  Feminino\n",
       "Quantidade de dias em que houve consumo de alco...                     \n",
       "Nenhum dia nos últimos 30 dias                          60.12     57.75\n",
       "1 ou 2 dias nos últimos 30 dias                         23.21     26.76\n",
       "3 a 5 dias nos últimos 30 dias                           7.08      7.13\n",
       "6 a 9 dias nos últimos 30 dias                           4.20      3.74\n",
       "10 a 19 dias nos últimos 30 dias                         2.96      2.48\n",
       "20 a 29 dias nos últimos 30 dias                         1.23      1.39\n",
       "Todos os dias nos últimos 30 dias                        1.20      0.77"
      ]
     },
     "execution_count": 91,
     "metadata": {},
     "output_type": "execute_result"
    }
   ],
   "source": [
    "crosstab_rename(dados['VB05004'][dados['VB05004']!=-1][dados['VB05004']!=99],consumo_30_dias,dados['VB01001'],sexo, 'Quantidade de dias em que houve consumo de alcool nos ultimos 30 dias:')"
   ]
  },
  {
   "cell_type": "markdown",
   "metadata": {},
   "source": [
    "Como a maioria,de ambos os sexos, respondeu que não houve consumo de alcool nos ultimos 30 dias, podemos excluir essa resposta e trabalhar somente com  a população que consumiu."
   ]
  },
  {
   "cell_type": "code",
   "execution_count": 92,
   "metadata": {},
   "outputs": [
    {
     "data": {
      "text/html": [
       "<div>\n",
       "<style scoped>\n",
       "    .dataframe tbody tr th:only-of-type {\n",
       "        vertical-align: middle;\n",
       "    }\n",
       "\n",
       "    .dataframe tbody tr th {\n",
       "        vertical-align: top;\n",
       "    }\n",
       "\n",
       "    .dataframe thead th {\n",
       "        text-align: right;\n",
       "    }\n",
       "</style>\n",
       "<table border=\"1\" class=\"dataframe\">\n",
       "  <thead>\n",
       "    <tr style=\"text-align: right;\">\n",
       "      <th></th>\n",
       "      <th>Masculino</th>\n",
       "      <th>Feminino</th>\n",
       "    </tr>\n",
       "    <tr>\n",
       "      <th>Quantidade de dias em que houve consumo de alcool nos ultimos 30 dias:</th>\n",
       "      <th></th>\n",
       "      <th></th>\n",
       "    </tr>\n",
       "  </thead>\n",
       "  <tbody>\n",
       "    <tr>\n",
       "      <th>1 ou 2 dias nos últimos 30 dias</th>\n",
       "      <td>58.20</td>\n",
       "      <td>63.32</td>\n",
       "    </tr>\n",
       "    <tr>\n",
       "      <th>3 a 5 dias nos últimos 30 dias</th>\n",
       "      <td>17.76</td>\n",
       "      <td>16.87</td>\n",
       "    </tr>\n",
       "    <tr>\n",
       "      <th>6 a 9 dias nos últimos 30 dias</th>\n",
       "      <td>10.54</td>\n",
       "      <td>8.85</td>\n",
       "    </tr>\n",
       "    <tr>\n",
       "      <th>10 a 19 dias nos últimos 30 dias</th>\n",
       "      <td>7.41</td>\n",
       "      <td>5.86</td>\n",
       "    </tr>\n",
       "    <tr>\n",
       "      <th>20 a 29 dias nos últimos 30 dias</th>\n",
       "      <td>3.09</td>\n",
       "      <td>3.29</td>\n",
       "    </tr>\n",
       "    <tr>\n",
       "      <th>Todos os dias nos últimos 30 dias</th>\n",
       "      <td>3.00</td>\n",
       "      <td>1.81</td>\n",
       "    </tr>\n",
       "  </tbody>\n",
       "</table>\n",
       "</div>"
      ],
      "text/plain": [
       "                                                    Masculino  Feminino\n",
       "Quantidade de dias em que houve consumo de alco...                     \n",
       "1 ou 2 dias nos últimos 30 dias                         58.20     63.32\n",
       "3 a 5 dias nos últimos 30 dias                          17.76     16.87\n",
       "6 a 9 dias nos últimos 30 dias                          10.54      8.85\n",
       "10 a 19 dias nos últimos 30 dias                         7.41      5.86\n",
       "20 a 29 dias nos últimos 30 dias                         3.09      3.29\n",
       "Todos os dias nos últimos 30 dias                        3.00      1.81"
      ]
     },
     "execution_count": 92,
     "metadata": {},
     "output_type": "execute_result"
    }
   ],
   "source": [
    "crosstab_rename(dados['VB05004'][dados['VB05004']>1][dados['VB05004']!=99],consumo_30_dias,dados['VB01001'],sexo, 'Quantidade de dias em que houve consumo de alcool nos ultimos 30 dias:')"
   ]
  },
  {
   "cell_type": "code",
   "execution_count": 36,
   "metadata": {},
   "outputs": [
    {
     "name": "stderr",
     "output_type": "stream",
     "text": [
      "C:\\Users\\r9kx\\Anaconda3\\lib\\site-packages\\ipykernel_launcher.py:1: UserWarning: Boolean Series key will be reindexed to match DataFrame index.\n",
      "  \"\"\"Entry point for launching an IPython kernel.\n"
     ]
    },
    {
     "data": {
      "image/png": "[encoded data removed]",
      "text/plain": [
       "<Figure size 1008x576 with 1 Axes>"
      ]
     },
     "metadata": {},
     "output_type": "display_data"
    }
   ],
   "source": [
    "histplot_segregado_(dados[dados['VB05004']>1][dados['VB05004']!=99],'VB05004','VB01001','Distribuição da quantidade de dias onde houve consumo alcoolico nos ultimos 30 dias','Doses',sexo)"
   ]
  },
  {
   "cell_type": "markdown",
   "metadata": {},
   "source": [
    "Aparentemente as mulheres tem um consumo menor que os homens, com pequena diferença nas distribuições.\n",
    "\n",
    "\n",
    "Podemos então aplicar o teste estatistico de Wilcoxon"
   ]
  },
  {
   "cell_type": "code",
   "execution_count": 37,
   "metadata": {},
   "outputs": [
    {
     "data": {
      "text/plain": [
       "RanksumsResult(statistic=7.423455276000941, pvalue=1.1410370978878762e-13)"
      ]
     },
     "execution_count": 37,
     "metadata": {},
     "output_type": "execute_result"
    }
   ],
   "source": [
    "ranksums(dados['VB05004'][dados['VB05004']!=99][dados['VB05004']>1][dados['VB01001']==1], dados['VB05004'][dados['VB05004']!=99][dados['VB05004']>1][dados['VB01001']==2])"
   ]
  },
  {
   "cell_type": "markdown",
   "metadata": {},
   "source": [
    "Como resultado do teste sabemos que são grupos estatisticamente distintos.\n",
    "\n",
    "Veremos então se o consumo de alcool entre os estudantes é maior no interior."
   ]
  },
  {
   "cell_type": "code",
   "execution_count": 93,
   "metadata": {},
   "outputs": [
    {
     "data": {
      "text/html": [
       "<div>\n",
       "<style scoped>\n",
       "    .dataframe tbody tr th:only-of-type {\n",
       "        vertical-align: middle;\n",
       "    }\n",
       "\n",
       "    .dataframe tbody tr th {\n",
       "        vertical-align: top;\n",
       "    }\n",
       "\n",
       "    .dataframe thead th {\n",
       "        text-align: right;\n",
       "    }\n",
       "</style>\n",
       "<table border=\"1\" class=\"dataframe\">\n",
       "  <thead>\n",
       "    <tr style=\"text-align: right;\">\n",
       "      <th></th>\n",
       "      <th>Capital</th>\n",
       "      <th>Interior</th>\n",
       "    </tr>\n",
       "    <tr>\n",
       "      <th>Quantidade de dias em que houve consumo de alcool nos ultimos 30 dias:</th>\n",
       "      <th></th>\n",
       "      <th></th>\n",
       "    </tr>\n",
       "  </thead>\n",
       "  <tbody>\n",
       "    <tr>\n",
       "      <th>1 ou 2 dias nos últimos 30 dias</th>\n",
       "      <td>59.42</td>\n",
       "      <td>62.41</td>\n",
       "    </tr>\n",
       "    <tr>\n",
       "      <th>3 a 5 dias nos últimos 30 dias</th>\n",
       "      <td>18.09</td>\n",
       "      <td>16.52</td>\n",
       "    </tr>\n",
       "    <tr>\n",
       "      <th>6 a 9 dias nos últimos 30 dias</th>\n",
       "      <td>10.42</td>\n",
       "      <td>8.88</td>\n",
       "    </tr>\n",
       "    <tr>\n",
       "      <th>10 a 19 dias nos últimos 30 dias</th>\n",
       "      <td>6.67</td>\n",
       "      <td>6.50</td>\n",
       "    </tr>\n",
       "    <tr>\n",
       "      <th>20 a 29 dias nos últimos 30 dias</th>\n",
       "      <td>3.17</td>\n",
       "      <td>3.22</td>\n",
       "    </tr>\n",
       "    <tr>\n",
       "      <th>Todos os dias nos últimos 30 dias</th>\n",
       "      <td>2.24</td>\n",
       "      <td>2.48</td>\n",
       "    </tr>\n",
       "  </tbody>\n",
       "</table>\n",
       "</div>"
      ],
      "text/plain": [
       "                                                    Capital  Interior\n",
       "Quantidade de dias em que houve consumo de alco...                   \n",
       "1 ou 2 dias nos últimos 30 dias                       59.42     62.41\n",
       "3 a 5 dias nos últimos 30 dias                        18.09     16.52\n",
       "6 a 9 dias nos últimos 30 dias                        10.42      8.88\n",
       "10 a 19 dias nos últimos 30 dias                       6.67      6.50\n",
       "20 a 29 dias nos últimos 30 dias                       3.17      3.22\n",
       "Todos os dias nos últimos 30 dias                      2.24      2.48"
      ]
     },
     "execution_count": 93,
     "metadata": {},
     "output_type": "execute_result"
    }
   ],
   "source": [
    "crosstab_rename(dados['VB05004'][dados['VB05004']>1][dados['VB05004']!=99],consumo_30_dias,dados['TIPO_MUNIC'],tipo_municipio, 'Quantidade de dias em que houve consumo de alcool nos ultimos 30 dias:')"
   ]
  },
  {
   "cell_type": "code",
   "execution_count": 39,
   "metadata": {},
   "outputs": [
    {
     "name": "stderr",
     "output_type": "stream",
     "text": [
      "C:\\Users\\r9kx\\Anaconda3\\lib\\site-packages\\ipykernel_launcher.py:1: UserWarning: Boolean Series key will be reindexed to match DataFrame index.\n",
      "  \"\"\"Entry point for launching an IPython kernel.\n"
     ]
    },
    {
     "data": {
      "image/png": "[encoded data removed]",
      "text/plain": [
       "<Figure size 1008x576 with 1 Axes>"
      ]
     },
     "metadata": {},
     "output_type": "display_data"
    }
   ],
   "source": [
    "histplot_segregado_(dados[dados['VB05004']>1][dados['VB05004']!=99],'VB05004','TIPO_MUNIC','Distribuição da quantidade de dias onde houve consumo alcoolico nos ultimos 30 dias','Doses',tipo_municipio)"
   ]
  },
  {
   "cell_type": "markdown",
   "metadata": {},
   "source": [
    "Pelo visto é ao contrario, o consumo na capital aparenta ser levemente superior  \n",
    "Aplicando o teste estatistico de Wilcoxon"
   ]
  },
  {
   "cell_type": "code",
   "execution_count": 40,
   "metadata": {},
   "outputs": [
    {
     "data": {
      "text/plain": [
       "RanksumsResult(statistic=3.4607276342595936, pvalue=0.0005387175586287794)"
      ]
     },
     "execution_count": 40,
     "metadata": {},
     "output_type": "execute_result"
    }
   ],
   "source": [
    "ranksums(dados['VB05004'][dados['VB05004']!=99][dados['VB05004']>1][dados['TIPO_MUNIC']==1], dados['VB05004'][dados['VB05004']!=99][dados['VB05004']>1][dados['TIPO_MUNIC']==2])"
   ]
  },
  {
   "cell_type": "markdown",
   "metadata": {},
   "source": [
    "Os grupos são distintos"
   ]
  },
  {
   "cell_type": "markdown",
   "metadata": {},
   "source": [
    "### Um iniciação sexual cedo( < 14 anos) tem relação com o uso cedo de drogas? "
   ]
  },
  {
   "cell_type": "code",
   "execution_count": 55,
   "metadata": {},
   "outputs": [
    {
     "data": {
      "text/plain": [
       "1         12\n",
       "5         10\n",
       "7         12\n",
       "12        14\n",
       "21        11\n",
       "          ..\n",
       "102054    11\n",
       "102059    12\n",
       "102064    14\n",
       "102070    14\n",
       "102071    14\n",
       "Name: VB08002, Length: 22869, dtype: int64"
      ]
     },
     "execution_count": 55,
     "metadata": {},
     "output_type": "execute_result"
    }
   ],
   "source": [
    "dados[dados[\"VB08002\"]<=14][dados['VB08002']!=-1]"
   ]
  },
  {
   "cell_type": "code",
   "execution_count": 53,
   "metadata": {},
   "outputs": [
    {
     "name": "stderr",
     "output_type": "stream",
     "text": [
      "C:\\Users\\r9kx\\Anaconda3\\lib\\site-packages\\ipykernel_launcher.py:1: UserWarning: Boolean Series key will be reindexed to match DataFrame index.\n",
      "  \"\"\"Entry point for launching an IPython kernel.\n"
     ]
    },
    {
     "data": {
      "text/html": [
       "<div>\n",
       "<style scoped>\n",
       "    .dataframe tbody tr th:only-of-type {\n",
       "        vertical-align: middle;\n",
       "    }\n",
       "\n",
       "    .dataframe tbody tr th {\n",
       "        vertical-align: top;\n",
       "    }\n",
       "\n",
       "    .dataframe thead th {\n",
       "        text-align: right;\n",
       "    }\n",
       "</style>\n",
       "<table border=\"1\" class=\"dataframe\">\n",
       "  <thead>\n",
       "    <tr style=\"text-align: right;\">\n",
       "      <th></th>\n",
       "      <th>ANOPESQ</th>\n",
       "      <th>PAIS</th>\n",
       "      <th>REGEOGR</th>\n",
       "      <th>UFCENSO</th>\n",
       "      <th>MUNICIPIO_CAP</th>\n",
       "      <th>TIPO_MUNIC</th>\n",
       "      <th>VB00004</th>\n",
       "      <th>VB01001</th>\n",
       "      <th>VB01002</th>\n",
       "      <th>VB01003</th>\n",
       "      <th>...</th>\n",
       "      <th>VB16001A05</th>\n",
       "      <th>VB16001A06</th>\n",
       "      <th>VB16001A07</th>\n",
       "      <th>VB16001A08</th>\n",
       "      <th>ESTRATO_EXP</th>\n",
       "      <th>ESTRATOGEOREG</th>\n",
       "      <th>PESO</th>\n",
       "      <th>aluno</th>\n",
       "      <th>escola</th>\n",
       "      <th>turma</th>\n",
       "    </tr>\n",
       "  </thead>\n",
       "  <tbody>\n",
       "    <tr>\n",
       "      <th>5</th>\n",
       "      <td>2015</td>\n",
       "      <td>76</td>\n",
       "      <td>1</td>\n",
       "      <td>11</td>\n",
       "      <td>1100205</td>\n",
       "      <td>1</td>\n",
       "      <td>1</td>\n",
       "      <td>1</td>\n",
       "      <td>4</td>\n",
       "      <td>17</td>\n",
       "      <td>...</td>\n",
       "      <td>2</td>\n",
       "      <td>2</td>\n",
       "      <td>1</td>\n",
       "      <td>2</td>\n",
       "      <td>110020521</td>\n",
       "      <td>1100205</td>\n",
       "      <td>3.738463</td>\n",
       "      <td>6</td>\n",
       "      <td>1</td>\n",
       "      <td>1787</td>\n",
       "    </tr>\n",
       "    <tr>\n",
       "      <th>21</th>\n",
       "      <td>2015</td>\n",
       "      <td>76</td>\n",
       "      <td>1</td>\n",
       "      <td>11</td>\n",
       "      <td>1100205</td>\n",
       "      <td>1</td>\n",
       "      <td>1</td>\n",
       "      <td>1</td>\n",
       "      <td>2</td>\n",
       "      <td>14</td>\n",
       "      <td>...</td>\n",
       "      <td>2</td>\n",
       "      <td>2</td>\n",
       "      <td>1</td>\n",
       "      <td>2</td>\n",
       "      <td>110020521</td>\n",
       "      <td>1100205</td>\n",
       "      <td>3.738463</td>\n",
       "      <td>22</td>\n",
       "      <td>2</td>\n",
       "      <td>2208</td>\n",
       "    </tr>\n",
       "    <tr>\n",
       "      <th>36</th>\n",
       "      <td>2015</td>\n",
       "      <td>76</td>\n",
       "      <td>1</td>\n",
       "      <td>11</td>\n",
       "      <td>1100205</td>\n",
       "      <td>1</td>\n",
       "      <td>1</td>\n",
       "      <td>2</td>\n",
       "      <td>4</td>\n",
       "      <td>14</td>\n",
       "      <td>...</td>\n",
       "      <td>1</td>\n",
       "      <td>2</td>\n",
       "      <td>2</td>\n",
       "      <td>2</td>\n",
       "      <td>110020521</td>\n",
       "      <td>1100205</td>\n",
       "      <td>3.738463</td>\n",
       "      <td>37</td>\n",
       "      <td>2</td>\n",
       "      <td>2208</td>\n",
       "    </tr>\n",
       "    <tr>\n",
       "      <th>67</th>\n",
       "      <td>2015</td>\n",
       "      <td>76</td>\n",
       "      <td>1</td>\n",
       "      <td>11</td>\n",
       "      <td>1100205</td>\n",
       "      <td>1</td>\n",
       "      <td>1</td>\n",
       "      <td>1</td>\n",
       "      <td>4</td>\n",
       "      <td>14</td>\n",
       "      <td>...</td>\n",
       "      <td>2</td>\n",
       "      <td>1</td>\n",
       "      <td>2</td>\n",
       "      <td>2</td>\n",
       "      <td>110020512</td>\n",
       "      <td>1100205</td>\n",
       "      <td>3.261531</td>\n",
       "      <td>68</td>\n",
       "      <td>3</td>\n",
       "      <td>1784</td>\n",
       "    </tr>\n",
       "    <tr>\n",
       "      <th>74</th>\n",
       "      <td>2015</td>\n",
       "      <td>76</td>\n",
       "      <td>1</td>\n",
       "      <td>11</td>\n",
       "      <td>1100205</td>\n",
       "      <td>1</td>\n",
       "      <td>1</td>\n",
       "      <td>2</td>\n",
       "      <td>4</td>\n",
       "      <td>14</td>\n",
       "      <td>...</td>\n",
       "      <td>2</td>\n",
       "      <td>2</td>\n",
       "      <td>2</td>\n",
       "      <td>2</td>\n",
       "      <td>110020512</td>\n",
       "      <td>1100205</td>\n",
       "      <td>3.207547</td>\n",
       "      <td>75</td>\n",
       "      <td>3</td>\n",
       "      <td>1785</td>\n",
       "    </tr>\n",
       "    <tr>\n",
       "      <th>...</th>\n",
       "      <td>...</td>\n",
       "      <td>...</td>\n",
       "      <td>...</td>\n",
       "      <td>...</td>\n",
       "      <td>...</td>\n",
       "      <td>...</td>\n",
       "      <td>...</td>\n",
       "      <td>...</td>\n",
       "      <td>...</td>\n",
       "      <td>...</td>\n",
       "      <td>...</td>\n",
       "      <td>...</td>\n",
       "      <td>...</td>\n",
       "      <td>...</td>\n",
       "      <td>...</td>\n",
       "      <td>...</td>\n",
       "      <td>...</td>\n",
       "      <td>...</td>\n",
       "      <td>...</td>\n",
       "      <td>...</td>\n",
       "      <td>...</td>\n",
       "    </tr>\n",
       "    <tr>\n",
       "      <th>102041</th>\n",
       "      <td>2015</td>\n",
       "      <td>76</td>\n",
       "      <td>5</td>\n",
       "      <td>53</td>\n",
       "      <td>5300108</td>\n",
       "      <td>1</td>\n",
       "      <td>1</td>\n",
       "      <td>1</td>\n",
       "      <td>5</td>\n",
       "      <td>14</td>\n",
       "      <td>...</td>\n",
       "      <td>1</td>\n",
       "      <td>2</td>\n",
       "      <td>1</td>\n",
       "      <td>2</td>\n",
       "      <td>530010821</td>\n",
       "      <td>5300108</td>\n",
       "      <td>16.873376</td>\n",
       "      <td>102042</td>\n",
       "      <td>3040</td>\n",
       "      <td>1883</td>\n",
       "    </tr>\n",
       "    <tr>\n",
       "      <th>102052</th>\n",
       "      <td>2015</td>\n",
       "      <td>76</td>\n",
       "      <td>5</td>\n",
       "      <td>53</td>\n",
       "      <td>5300108</td>\n",
       "      <td>1</td>\n",
       "      <td>1</td>\n",
       "      <td>1</td>\n",
       "      <td>2</td>\n",
       "      <td>14</td>\n",
       "      <td>...</td>\n",
       "      <td>2</td>\n",
       "      <td>2</td>\n",
       "      <td>2</td>\n",
       "      <td>2</td>\n",
       "      <td>530010821</td>\n",
       "      <td>5300108</td>\n",
       "      <td>16.873376</td>\n",
       "      <td>102053</td>\n",
       "      <td>3040</td>\n",
       "      <td>1883</td>\n",
       "    </tr>\n",
       "    <tr>\n",
       "      <th>102054</th>\n",
       "      <td>2015</td>\n",
       "      <td>76</td>\n",
       "      <td>5</td>\n",
       "      <td>53</td>\n",
       "      <td>5300108</td>\n",
       "      <td>1</td>\n",
       "      <td>1</td>\n",
       "      <td>1</td>\n",
       "      <td>1</td>\n",
       "      <td>15</td>\n",
       "      <td>...</td>\n",
       "      <td>2</td>\n",
       "      <td>2</td>\n",
       "      <td>2</td>\n",
       "      <td>2</td>\n",
       "      <td>530010821</td>\n",
       "      <td>5300108</td>\n",
       "      <td>16.873376</td>\n",
       "      <td>102055</td>\n",
       "      <td>3040</td>\n",
       "      <td>1883</td>\n",
       "    </tr>\n",
       "    <tr>\n",
       "      <th>102059</th>\n",
       "      <td>2015</td>\n",
       "      <td>76</td>\n",
       "      <td>5</td>\n",
       "      <td>53</td>\n",
       "      <td>5300108</td>\n",
       "      <td>1</td>\n",
       "      <td>1</td>\n",
       "      <td>2</td>\n",
       "      <td>5</td>\n",
       "      <td>13</td>\n",
       "      <td>...</td>\n",
       "      <td>2</td>\n",
       "      <td>2</td>\n",
       "      <td>1</td>\n",
       "      <td>2</td>\n",
       "      <td>530010821</td>\n",
       "      <td>5300108</td>\n",
       "      <td>16.873376</td>\n",
       "      <td>102060</td>\n",
       "      <td>3040</td>\n",
       "      <td>1883</td>\n",
       "    </tr>\n",
       "    <tr>\n",
       "      <th>102071</th>\n",
       "      <td>2015</td>\n",
       "      <td>76</td>\n",
       "      <td>5</td>\n",
       "      <td>53</td>\n",
       "      <td>5300108</td>\n",
       "      <td>1</td>\n",
       "      <td>1</td>\n",
       "      <td>1</td>\n",
       "      <td>1</td>\n",
       "      <td>14</td>\n",
       "      <td>...</td>\n",
       "      <td>2</td>\n",
       "      <td>2</td>\n",
       "      <td>2</td>\n",
       "      <td>2</td>\n",
       "      <td>530010821</td>\n",
       "      <td>5300108</td>\n",
       "      <td>16.873376</td>\n",
       "      <td>102072</td>\n",
       "      <td>3040</td>\n",
       "      <td>1883</td>\n",
       "    </tr>\n",
       "  </tbody>\n",
       "</table>\n",
       "<p>6554 rows × 174 columns</p>\n",
       "</div>"
      ],
      "text/plain": [
       "        ANOPESQ  PAIS  REGEOGR  UFCENSO  MUNICIPIO_CAP  TIPO_MUNIC  VB00004  \\\n",
       "5          2015    76        1       11        1100205           1        1   \n",
       "21         2015    76        1       11        1100205           1        1   \n",
       "36         2015    76        1       11        1100205           1        1   \n",
       "67         2015    76        1       11        1100205           1        1   \n",
       "74         2015    76        1       11        1100205           1        1   \n",
       "...         ...   ...      ...      ...            ...         ...      ...   \n",
       "102041     2015    76        5       53        5300108           1        1   \n",
       "102052     2015    76        5       53        5300108           1        1   \n",
       "102054     2015    76        5       53        5300108           1        1   \n",
       "102059     2015    76        5       53        5300108           1        1   \n",
       "102071     2015    76        5       53        5300108           1        1   \n",
       "\n",
       "        VB01001  VB01002  VB01003  ...  VB16001A05  VB16001A06  VB16001A07  \\\n",
       "5             1        4       17  ...           2           2           1   \n",
       "21            1        2       14  ...           2           2           1   \n",
       "36            2        4       14  ...           1           2           2   \n",
       "67            1        4       14  ...           2           1           2   \n",
       "74            2        4       14  ...           2           2           2   \n",
       "...         ...      ...      ...  ...         ...         ...         ...   \n",
       "102041        1        5       14  ...           1           2           1   \n",
       "102052        1        2       14  ...           2           2           2   \n",
       "102054        1        1       15  ...           2           2           2   \n",
       "102059        2        5       13  ...           2           2           1   \n",
       "102071        1        1       14  ...           2           2           2   \n",
       "\n",
       "        VB16001A08  ESTRATO_EXP  ESTRATOGEOREG       PESO   aluno  escola  \\\n",
       "5                2    110020521        1100205   3.738463       6       1   \n",
       "21               2    110020521        1100205   3.738463      22       2   \n",
       "36               2    110020521        1100205   3.738463      37       2   \n",
       "67               2    110020512        1100205   3.261531      68       3   \n",
       "74               2    110020512        1100205   3.207547      75       3   \n",
       "...            ...          ...            ...        ...     ...     ...   \n",
       "102041           2    530010821        5300108  16.873376  102042    3040   \n",
       "102052           2    530010821        5300108  16.873376  102053    3040   \n",
       "102054           2    530010821        5300108  16.873376  102055    3040   \n",
       "102059           2    530010821        5300108  16.873376  102060    3040   \n",
       "102071           2    530010821        5300108  16.873376  102072    3040   \n",
       "\n",
       "        turma  \n",
       "5        1787  \n",
       "21       2208  \n",
       "36       2208  \n",
       "67       1784  \n",
       "74       1785  \n",
       "...       ...  \n",
       "102041   1883  \n",
       "102052   1883  \n",
       "102054   1883  \n",
       "102059   1883  \n",
       "102071   1883  \n",
       "\n",
       "[6554 rows x 174 columns]"
      ]
     },
     "execution_count": 53,
     "metadata": {},
     "output_type": "execute_result"
    }
   ],
   "source": [
    "dados[dados['VB06002']<=14][dados['VB06002']!=-1]"
   ]
  },
  {
   "cell_type": "code",
   "execution_count": 72,
   "metadata": {},
   "outputs": [
    {
     "data": {
      "text/html": [
       "<div>\n",
       "<style scoped>\n",
       "    .dataframe tbody tr th:only-of-type {\n",
       "        vertical-align: middle;\n",
       "    }\n",
       "\n",
       "    .dataframe tbody tr th {\n",
       "        vertical-align: top;\n",
       "    }\n",
       "\n",
       "    .dataframe thead th {\n",
       "        text-align: right;\n",
       "    }\n",
       "</style>\n",
       "<table border=\"1\" class=\"dataframe\">\n",
       "  <thead>\n",
       "    <tr style=\"text-align: right;\">\n",
       "      <th></th>\n",
       "      <th>7 anos ou menos</th>\n",
       "      <th>8 anos</th>\n",
       "      <th>9 anos</th>\n",
       "      <th>10 anos</th>\n",
       "      <th>11 anos</th>\n",
       "      <th>12 anos</th>\n",
       "      <th>13 anos</th>\n",
       "      <th>14 anos</th>\n",
       "      <th>15 anos</th>\n",
       "      <th>16 anos</th>\n",
       "      <th>17 anos</th>\n",
       "      <th>18 anos ou mais</th>\n",
       "    </tr>\n",
       "    <tr>\n",
       "      <th>Idade sexual vs idade consumo de drogas</th>\n",
       "      <th></th>\n",
       "      <th></th>\n",
       "      <th></th>\n",
       "      <th></th>\n",
       "      <th></th>\n",
       "      <th></th>\n",
       "      <th></th>\n",
       "      <th></th>\n",
       "      <th></th>\n",
       "      <th></th>\n",
       "      <th></th>\n",
       "      <th></th>\n",
       "    </tr>\n",
       "  </thead>\n",
       "  <tbody>\n",
       "    <tr>\n",
       "      <th>9 anos ou menos</th>\n",
       "      <td>50.77</td>\n",
       "      <td>34.48</td>\n",
       "      <td>26.47</td>\n",
       "      <td>15.33</td>\n",
       "      <td>8.98</td>\n",
       "      <td>7.94</td>\n",
       "      <td>5.57</td>\n",
       "      <td>5.35</td>\n",
       "      <td>6.65</td>\n",
       "      <td>9.88</td>\n",
       "      <td>5.88</td>\n",
       "      <td>0.0</td>\n",
       "    </tr>\n",
       "    <tr>\n",
       "      <th>10 anos</th>\n",
       "      <td>10.00</td>\n",
       "      <td>6.90</td>\n",
       "      <td>8.82</td>\n",
       "      <td>15.33</td>\n",
       "      <td>10.18</td>\n",
       "      <td>6.35</td>\n",
       "      <td>3.69</td>\n",
       "      <td>2.91</td>\n",
       "      <td>4.02</td>\n",
       "      <td>4.07</td>\n",
       "      <td>5.88</td>\n",
       "      <td>37.5</td>\n",
       "    </tr>\n",
       "    <tr>\n",
       "      <th>11 anos</th>\n",
       "      <td>2.31</td>\n",
       "      <td>17.24</td>\n",
       "      <td>2.94</td>\n",
       "      <td>11.68</td>\n",
       "      <td>20.36</td>\n",
       "      <td>8.11</td>\n",
       "      <td>5.50</td>\n",
       "      <td>3.84</td>\n",
       "      <td>4.17</td>\n",
       "      <td>9.30</td>\n",
       "      <td>15.69</td>\n",
       "      <td>12.5</td>\n",
       "    </tr>\n",
       "    <tr>\n",
       "      <th>12 anos</th>\n",
       "      <td>10.00</td>\n",
       "      <td>17.24</td>\n",
       "      <td>20.59</td>\n",
       "      <td>21.17</td>\n",
       "      <td>20.96</td>\n",
       "      <td>25.57</td>\n",
       "      <td>16.20</td>\n",
       "      <td>10.93</td>\n",
       "      <td>12.98</td>\n",
       "      <td>14.53</td>\n",
       "      <td>11.76</td>\n",
       "      <td>25.0</td>\n",
       "    </tr>\n",
       "    <tr>\n",
       "      <th>13 anos</th>\n",
       "      <td>12.31</td>\n",
       "      <td>10.34</td>\n",
       "      <td>14.71</td>\n",
       "      <td>23.36</td>\n",
       "      <td>25.75</td>\n",
       "      <td>33.33</td>\n",
       "      <td>40.93</td>\n",
       "      <td>28.02</td>\n",
       "      <td>24.27</td>\n",
       "      <td>22.67</td>\n",
       "      <td>23.53</td>\n",
       "      <td>12.5</td>\n",
       "    </tr>\n",
       "    <tr>\n",
       "      <th>14 anos</th>\n",
       "      <td>14.62</td>\n",
       "      <td>13.79</td>\n",
       "      <td>26.47</td>\n",
       "      <td>13.14</td>\n",
       "      <td>13.77</td>\n",
       "      <td>18.69</td>\n",
       "      <td>28.13</td>\n",
       "      <td>48.95</td>\n",
       "      <td>47.91</td>\n",
       "      <td>39.53</td>\n",
       "      <td>37.25</td>\n",
       "      <td>12.5</td>\n",
       "    </tr>\n",
       "  </tbody>\n",
       "</table>\n",
       "</div>"
      ],
      "text/plain": [
       "                                         7 anos ou menos  8 anos  9 anos  \\\n",
       "Idade sexual vs idade consumo de drogas                                    \n",
       "9 anos ou menos                                    50.77   34.48   26.47   \n",
       "10 anos                                            10.00    6.90    8.82   \n",
       "11 anos                                             2.31   17.24    2.94   \n",
       "12 anos                                            10.00   17.24   20.59   \n",
       "13 anos                                            12.31   10.34   14.71   \n",
       "14 anos                                            14.62   13.79   26.47   \n",
       "\n",
       "                                         10 anos  11 anos  12 anos  13 anos  \\\n",
       "Idade sexual vs idade consumo de drogas                                       \n",
       "9 anos ou menos                            15.33     8.98     7.94     5.57   \n",
       "10 anos                                    15.33    10.18     6.35     3.69   \n",
       "11 anos                                    11.68    20.36     8.11     5.50   \n",
       "12 anos                                    21.17    20.96    25.57    16.20   \n",
       "13 anos                                    23.36    25.75    33.33    40.93   \n",
       "14 anos                                    13.14    13.77    18.69    28.13   \n",
       "\n",
       "                                         14 anos  15 anos  16 anos  17 anos  \\\n",
       "Idade sexual vs idade consumo de drogas                                       \n",
       "9 anos ou menos                             5.35     6.65     9.88     5.88   \n",
       "10 anos                                     2.91     4.02     4.07     5.88   \n",
       "11 anos                                     3.84     4.17     9.30    15.69   \n",
       "12 anos                                    10.93    12.98    14.53    11.76   \n",
       "13 anos                                    28.02    24.27    22.67    23.53   \n",
       "14 anos                                    48.95    47.91    39.53    37.25   \n",
       "\n",
       "                                         18 anos ou mais  \n",
       "Idade sexual vs idade consumo de drogas                   \n",
       "9 anos ou menos                                      0.0  \n",
       "10 anos                                             37.5  \n",
       "11 anos                                             12.5  \n",
       "12 anos                                             25.0  \n",
       "13 anos                                             12.5  \n",
       "14 anos                                             12.5  "
      ]
     },
     "execution_count": 72,
     "metadata": {},
     "output_type": "execute_result"
    }
   ],
   "source": [
    "crosstab_rename(dados[\"VB08002\"][dados[\"VB08002\"]<=14][dados['VB08002']!=-1],idade_iniciacao_sexual,dados['VB06002'][dados['VB06002']>=7][dados['VB06002']!=99],idade_consumo_drogas,'Idade sexual vs idade consumo de drogas')"
   ]
  },
  {
   "cell_type": "code",
   "execution_count": 79,
   "metadata": {},
   "outputs": [],
   "source": [
    "data = crosstab_rename_index(dados[\"VB08002\"][dados[\"VB08002\"]<=18][dados['VB08002']!=-1],idade_iniciacao_sexual,dados['VB06002'][dados['VB06002']>=7][dados['VB06002']!=99],idade_consumo_drogas,'Idade sexual vs idade consumo de drogas')"
   ]
  },
  {
   "cell_type": "code",
   "execution_count": 117,
   "metadata": {},
   "outputs": [
    {
     "data": {
      "text/plain": [
       "<AxesSubplot:ylabel='Idade sexual vs idade consumo de drogas'>"
      ]
     },
     "execution_count": 117,
     "metadata": {},
     "output_type": "execute_result"
    },
    {
     "data": {
      "image/png": "[encoded data removed]",
      "text/plain": [
       "<Figure size 576x504 with 2 Axes>"
      ]
     },
     "metadata": {},
     "output_type": "display_data"
    }
   ],
   "source": [
    "sns.heatmap(data=data,cmap='YlOrRd',annot=True)"
   ]
  },
  {
   "cell_type": "code",
   "execution_count": null,
   "metadata": {},
   "outputs": [],
   "source": []
  },
  {
   "cell_type": "markdown",
   "metadata": {},
   "source": [
    "### O consumo de cigarro está associado ao alcool e/ou outras drogas?"
   ]
  },
  {
   "cell_type": "code",
   "execution_count": null,
   "metadata": {},
   "outputs": [],
   "source": [
    "VB04003 consumo_30_dias"
   ]
  },
  {
   "cell_type": "code",
   "execution_count": 105,
   "metadata": {},
   "outputs": [
    {
     "data": {
      "text/html": [
       "<div>\n",
       "<style scoped>\n",
       "    .dataframe tbody tr th:only-of-type {\n",
       "        vertical-align: middle;\n",
       "    }\n",
       "\n",
       "    .dataframe tbody tr th {\n",
       "        vertical-align: top;\n",
       "    }\n",
       "\n",
       "    .dataframe thead th {\n",
       "        text-align: right;\n",
       "    }\n",
       "</style>\n",
       "<table border=\"1\" class=\"dataframe\">\n",
       "  <thead>\n",
       "    <tr style=\"text-align: right;\">\n",
       "      <th></th>\n",
       "      <th>1 ou 2 dias nos últimos 30 dias</th>\n",
       "      <th>3 a 5 dias nos últimos 30 dias</th>\n",
       "      <th>6 a 9 dias nos últimos 30 dias</th>\n",
       "      <th>10 a 19 dias nos últimos 30 dias</th>\n",
       "      <th>20 a 29 dias nos últimos 30 dias</th>\n",
       "      <th>Todos os dias nos últimos 30 dias</th>\n",
       "    </tr>\n",
       "    <tr>\n",
       "      <th>Consumo Cigarro vs consumo alcool</th>\n",
       "      <th></th>\n",
       "      <th></th>\n",
       "      <th></th>\n",
       "      <th></th>\n",
       "      <th></th>\n",
       "      <th></th>\n",
       "    </tr>\n",
       "  </thead>\n",
       "  <tbody>\n",
       "    <tr>\n",
       "      <th>1 ou 2 dias nos últimos 30 dias</th>\n",
       "      <td>51.45</td>\n",
       "      <td>20.47</td>\n",
       "      <td>13.95</td>\n",
       "      <td>8.42</td>\n",
       "      <td>3.19</td>\n",
       "      <td>2.52</td>\n",
       "    </tr>\n",
       "    <tr>\n",
       "      <th>3 a 5 dias nos últimos 30 dias</th>\n",
       "      <td>30.53</td>\n",
       "      <td>27.96</td>\n",
       "      <td>19.83</td>\n",
       "      <td>11.98</td>\n",
       "      <td>5.28</td>\n",
       "      <td>4.42</td>\n",
       "    </tr>\n",
       "    <tr>\n",
       "      <th>6 a 9 dias nos últimos 30 dias</th>\n",
       "      <td>20.36</td>\n",
       "      <td>21.91</td>\n",
       "      <td>21.91</td>\n",
       "      <td>21.91</td>\n",
       "      <td>7.73</td>\n",
       "      <td>6.19</td>\n",
       "    </tr>\n",
       "    <tr>\n",
       "      <th>10 a 19 dias nos últimos 30 dias</th>\n",
       "      <td>23.57</td>\n",
       "      <td>16.88</td>\n",
       "      <td>16.88</td>\n",
       "      <td>26.11</td>\n",
       "      <td>11.15</td>\n",
       "      <td>5.41</td>\n",
       "    </tr>\n",
       "    <tr>\n",
       "      <th>20 a 29 dias nos últimos 30 dias</th>\n",
       "      <td>22.99</td>\n",
       "      <td>17.65</td>\n",
       "      <td>17.65</td>\n",
       "      <td>20.86</td>\n",
       "      <td>14.44</td>\n",
       "      <td>6.42</td>\n",
       "    </tr>\n",
       "    <tr>\n",
       "      <th>Todos os dias nos últimos 30 dias</th>\n",
       "      <td>25.45</td>\n",
       "      <td>12.53</td>\n",
       "      <td>13.54</td>\n",
       "      <td>14.75</td>\n",
       "      <td>5.86</td>\n",
       "      <td>27.88</td>\n",
       "    </tr>\n",
       "  </tbody>\n",
       "</table>\n",
       "</div>"
      ],
      "text/plain": [
       "                                   1 ou 2 dias nos últimos 30 dias  \\\n",
       "Consumo Cigarro vs consumo alcool                                    \n",
       "1 ou 2 dias nos últimos 30 dias                              51.45   \n",
       "3 a 5 dias nos últimos 30 dias                               30.53   \n",
       "6 a 9 dias nos últimos 30 dias                               20.36   \n",
       "10 a 19 dias nos últimos 30 dias                             23.57   \n",
       "20 a 29 dias nos últimos 30 dias                             22.99   \n",
       "Todos os dias nos últimos 30 dias                            25.45   \n",
       "\n",
       "                                   3 a 5 dias nos últimos 30 dias  \\\n",
       "Consumo Cigarro vs consumo alcool                                   \n",
       "1 ou 2 dias nos últimos 30 dias                             20.47   \n",
       "3 a 5 dias nos últimos 30 dias                              27.96   \n",
       "6 a 9 dias nos últimos 30 dias                              21.91   \n",
       "10 a 19 dias nos últimos 30 dias                            16.88   \n",
       "20 a 29 dias nos últimos 30 dias                            17.65   \n",
       "Todos os dias nos últimos 30 dias                           12.53   \n",
       "\n",
       "                                   6 a 9 dias nos últimos 30 dias  \\\n",
       "Consumo Cigarro vs consumo alcool                                   \n",
       "1 ou 2 dias nos últimos 30 dias                             13.95   \n",
       "3 a 5 dias nos últimos 30 dias                              19.83   \n",
       "6 a 9 dias nos últimos 30 dias                              21.91   \n",
       "10 a 19 dias nos últimos 30 dias                            16.88   \n",
       "20 a 29 dias nos últimos 30 dias                            17.65   \n",
       "Todos os dias nos últimos 30 dias                           13.54   \n",
       "\n",
       "                                   10 a 19 dias nos últimos 30 dias  \\\n",
       "Consumo Cigarro vs consumo alcool                                     \n",
       "1 ou 2 dias nos últimos 30 dias                                8.42   \n",
       "3 a 5 dias nos últimos 30 dias                                11.98   \n",
       "6 a 9 dias nos últimos 30 dias                                21.91   \n",
       "10 a 19 dias nos últimos 30 dias                              26.11   \n",
       "20 a 29 dias nos últimos 30 dias                              20.86   \n",
       "Todos os dias nos últimos 30 dias                             14.75   \n",
       "\n",
       "                                   20 a 29 dias nos últimos 30 dias  \\\n",
       "Consumo Cigarro vs consumo alcool                                     \n",
       "1 ou 2 dias nos últimos 30 dias                                3.19   \n",
       "3 a 5 dias nos últimos 30 dias                                 5.28   \n",
       "6 a 9 dias nos últimos 30 dias                                 7.73   \n",
       "10 a 19 dias nos últimos 30 dias                              11.15   \n",
       "20 a 29 dias nos últimos 30 dias                              14.44   \n",
       "Todos os dias nos últimos 30 dias                              5.86   \n",
       "\n",
       "                                   Todos os dias nos últimos 30 dias  \n",
       "Consumo Cigarro vs consumo alcool                                     \n",
       "1 ou 2 dias nos últimos 30 dias                                 2.52  \n",
       "3 a 5 dias nos últimos 30 dias                                  4.42  \n",
       "6 a 9 dias nos últimos 30 dias                                  6.19  \n",
       "10 a 19 dias nos últimos 30 dias                                5.41  \n",
       "20 a 29 dias nos últimos 30 dias                                6.42  \n",
       "Todos os dias nos últimos 30 dias                              27.88  "
      ]
     },
     "execution_count": 105,
     "metadata": {},
     "output_type": "execute_result"
    }
   ],
   "source": [
    "crosstab_rename_index(dados['VB04003'][dados['VB04003']>1][dados['VB04003']!=99],consumo_30_dias,dados['VB05004'][dados['VB05004']>1][dados['VB05004']!=99],consumo_30_dias,'Consumo Cigarro vs consumo alcool')"
   ]
  },
  {
   "cell_type": "code",
   "execution_count": 116,
   "metadata": {},
   "outputs": [
    {
     "data": {
      "text/plain": [
       "<AxesSubplot:ylabel='Consumo Cigarro vs consumo Alcool'>"
      ]
     },
     "execution_count": 116,
     "metadata": {},
     "output_type": "execute_result"
    },
    {
     "data": {
      "image/png": "[encoded data removed]",
      "text/plain": [
       "<Figure size 576x504 with 2 Axes>"
      ]
     },
     "metadata": {},
     "output_type": "display_data"
    }
   ],
   "source": [
    "sns.heatmap(data=crosstab_rename_index(dados['VB04003'][dados['VB04003']>1][dados['VB04003']!=99],consumo_30_dias,dados['VB05004'][dados['VB05004']>1][dados['VB05004']!=99],consumo_30_dias,'Consumo Cigarro vs consumo Alcool'),cmap='YlOrRd',annot=True)"
   ]
  },
  {
   "cell_type": "code",
   "execution_count": 104,
   "metadata": {},
   "outputs": [
    {
     "data": {
      "text/html": [
       "<div>\n",
       "<style scoped>\n",
       "    .dataframe tbody tr th:only-of-type {\n",
       "        vertical-align: middle;\n",
       "    }\n",
       "\n",
       "    .dataframe tbody tr th {\n",
       "        vertical-align: top;\n",
       "    }\n",
       "\n",
       "    .dataframe thead th {\n",
       "        text-align: right;\n",
       "    }\n",
       "</style>\n",
       "<table border=\"1\" class=\"dataframe\">\n",
       "  <thead>\n",
       "    <tr style=\"text-align: right;\">\n",
       "      <th></th>\n",
       "      <th>1 ou 2 dias nos últimos 30 dias</th>\n",
       "      <th>3 a 5 dias nos últimos 30 dias</th>\n",
       "      <th>6 a 9 dias nos últimos 30 dias</th>\n",
       "      <th>10 a 19 dias nos últimos 30 dias</th>\n",
       "    </tr>\n",
       "    <tr>\n",
       "      <th>Consumo Cigarro vs consumo drogas</th>\n",
       "      <th></th>\n",
       "      <th></th>\n",
       "      <th></th>\n",
       "      <th></th>\n",
       "    </tr>\n",
       "  </thead>\n",
       "  <tbody>\n",
       "    <tr>\n",
       "      <th>1 ou 2 dias nos últimos 30 dias</th>\n",
       "      <td>65.63</td>\n",
       "      <td>18.26</td>\n",
       "      <td>5.85</td>\n",
       "      <td>10.26</td>\n",
       "    </tr>\n",
       "    <tr>\n",
       "      <th>3 a 5 dias nos últimos 30 dias</th>\n",
       "      <td>43.41</td>\n",
       "      <td>32.44</td>\n",
       "      <td>11.22</td>\n",
       "      <td>12.93</td>\n",
       "    </tr>\n",
       "    <tr>\n",
       "      <th>6 a 9 dias nos últimos 30 dias</th>\n",
       "      <td>34.24</td>\n",
       "      <td>24.90</td>\n",
       "      <td>20.23</td>\n",
       "      <td>20.62</td>\n",
       "    </tr>\n",
       "    <tr>\n",
       "      <th>10 a 19 dias nos últimos 30 dias</th>\n",
       "      <td>26.75</td>\n",
       "      <td>18.86</td>\n",
       "      <td>19.74</td>\n",
       "      <td>34.65</td>\n",
       "    </tr>\n",
       "    <tr>\n",
       "      <th>20 a 29 dias nos últimos 30 dias</th>\n",
       "      <td>20.29</td>\n",
       "      <td>15.94</td>\n",
       "      <td>12.32</td>\n",
       "      <td>51.45</td>\n",
       "    </tr>\n",
       "    <tr>\n",
       "      <th>Todos os dias nos últimos 30 dias</th>\n",
       "      <td>18.94</td>\n",
       "      <td>11.36</td>\n",
       "      <td>11.62</td>\n",
       "      <td>58.08</td>\n",
       "    </tr>\n",
       "  </tbody>\n",
       "</table>\n",
       "</div>"
      ],
      "text/plain": [
       "                                   1 ou 2 dias nos últimos 30 dias  \\\n",
       "Consumo Cigarro vs consumo drogas                                    \n",
       "1 ou 2 dias nos últimos 30 dias                              65.63   \n",
       "3 a 5 dias nos últimos 30 dias                               43.41   \n",
       "6 a 9 dias nos últimos 30 dias                               34.24   \n",
       "10 a 19 dias nos últimos 30 dias                             26.75   \n",
       "20 a 29 dias nos últimos 30 dias                             20.29   \n",
       "Todos os dias nos últimos 30 dias                            18.94   \n",
       "\n",
       "                                   3 a 5 dias nos últimos 30 dias  \\\n",
       "Consumo Cigarro vs consumo drogas                                   \n",
       "1 ou 2 dias nos últimos 30 dias                             18.26   \n",
       "3 a 5 dias nos últimos 30 dias                              32.44   \n",
       "6 a 9 dias nos últimos 30 dias                              24.90   \n",
       "10 a 19 dias nos últimos 30 dias                            18.86   \n",
       "20 a 29 dias nos últimos 30 dias                            15.94   \n",
       "Todos os dias nos últimos 30 dias                           11.36   \n",
       "\n",
       "                                   6 a 9 dias nos últimos 30 dias  \\\n",
       "Consumo Cigarro vs consumo drogas                                   \n",
       "1 ou 2 dias nos últimos 30 dias                              5.85   \n",
       "3 a 5 dias nos últimos 30 dias                              11.22   \n",
       "6 a 9 dias nos últimos 30 dias                              20.23   \n",
       "10 a 19 dias nos últimos 30 dias                            19.74   \n",
       "20 a 29 dias nos últimos 30 dias                            12.32   \n",
       "Todos os dias nos últimos 30 dias                           11.62   \n",
       "\n",
       "                                   10 a 19 dias nos últimos 30 dias  \n",
       "Consumo Cigarro vs consumo drogas                                    \n",
       "1 ou 2 dias nos últimos 30 dias                               10.26  \n",
       "3 a 5 dias nos últimos 30 dias                                12.93  \n",
       "6 a 9 dias nos últimos 30 dias                                20.62  \n",
       "10 a 19 dias nos últimos 30 dias                              34.65  \n",
       "20 a 29 dias nos últimos 30 dias                              51.45  \n",
       "Todos os dias nos últimos 30 dias                             58.08  "
      ]
     },
     "execution_count": 104,
     "metadata": {},
     "output_type": "execute_result"
    }
   ],
   "source": [
    "crosstab_rename_index(dados['VB04003'][dados['VB04003']>1][dados['VB04003']!=99],consumo_30_dias,dados['VB06003A'][dados['VB06003A']>1][dados['VB06003A']!=99],consumo_30_dias,'Consumo Cigarro vs consumo drogas')"
   ]
  },
  {
   "cell_type": "code",
   "execution_count": 115,
   "metadata": {},
   "outputs": [
    {
     "data": {
      "text/plain": [
       "<AxesSubplot:ylabel='Consumo Cigarro vs consumo Alcool'>"
      ]
     },
     "execution_count": 115,
     "metadata": {},
     "output_type": "execute_result"
    },
    {
     "data": {
      "image/png": "[encoded data removed]",
      "text/plain": [
       "<Figure size 576x504 with 2 Axes>"
      ]
     },
     "metadata": {},
     "output_type": "display_data"
    }
   ],
   "source": [
    "sns.heatmap(data=crosstab_rename_index(dados['VB04003'][dados['VB04003']>1][dados['VB04003']!=99],consumo_30_dias,dados['VB06003A'][dados['VB06003A']>1][dados['VB06003A']!=99],consumo_30_dias,'Consumo Cigarro vs consumo Alcool'),cmap='YlOrRd',annot=True)"
   ]
  },
  {
   "cell_type": "code",
   "execution_count": 109,
   "metadata": {},
   "outputs": [
    {
     "data": {
      "text/plain": [
       "RanksumsResult(statistic=13.285790573118328, pvalue=2.7988663453162813e-40)"
      ]
     },
     "execution_count": 109,
     "metadata": {},
     "output_type": "execute_result"
    }
   ],
   "source": [
    "ranksums(dados['VB04003'][dados['VB04003']>1][dados['VB04003']!=99],dados['VB05004'][dados['VB05004']>1][dados['VB05004']!=99])"
   ]
  },
  {
   "cell_type": "code",
   "execution_count": 107,
   "metadata": {},
   "outputs": [
    {
     "data": {
      "text/plain": [
       "RanksumsResult(statistic=1.7349420005943297, pvalue=0.08275107882803547)"
      ]
     },
     "execution_count": 107,
     "metadata": {},
     "output_type": "execute_result"
    }
   ],
   "source": [
    "ranksums(dados['VB04003'][dados['VB04003']>1][dados['VB04003']!=99],dados['VB06003A'][dados['VB06003A']>1][dados['VB06003A']!=99])"
   ]
  },
  {
   "cell_type": "code",
   "execution_count": null,
   "metadata": {},
   "outputs": [],
   "source": []
  }
 ],
 "metadata": {
  "kernelspec": {
   "display_name": "Python 3",
   "language": "python",
   "name": "python3"
  },
  "language_info": {
   "codemirror_mode": {
    "name": "ipython",
    "version": 3
   },
   "file_extension": ".py",
   "mimetype": "text/x-python",
   "name": "python",
   "nbconvert_exporter": "python",
   "pygments_lexer": "ipython3",
   "version": "3.7.9"
  }
 },
 "nbformat": 4,
 "nbformat_minor": 4
}
