{
 "cells": [
  {
   "cell_type": "markdown",
   "metadata": {},
   "source": [
    "# Introdução"
   ]
  },
  {
   "cell_type": "markdown",
   "metadata": {},
   "source": [
    "# Resumo"
   ]
  },
  {
   "cell_type": "markdown",
   "metadata": {},
   "source": [
    "# Bibliotecas e Configurações"
   ]
  },
  {
   "cell_type": "code",
   "execution_count": 1,
   "metadata": {},
   "outputs": [],
   "source": [
    "import pandas as pd\n",
    "from  zipfile import ZipFile\n",
    "import seaborn as sns\n",
    "import matplotlib.pyplot as plt\n",
    "from jupyterthemes import jtplot\n",
    "from IPython.core.display import display, HTML, Markdown\n",
    "import numpy as np\n",
    "from statsmodels.stats.weightstats import zconfint\n",
    "from statsmodels.stats.weightstats import DescrStatsW\n",
    "from statsmodels.stats.weightstats import ztest\n",
    "from scipy.stats import normaltest\n",
    "from scipy.stats import ranksums"
   ]
  },
  {
   "cell_type": "code",
   "execution_count": 2,
   "metadata": {},
   "outputs": [
    {
     "data": {
      "text/html": [
       "<style>.container { width:99% !important; }</style>"
      ],
      "text/plain": [
       "<IPython.core.display.HTML object>"
      ]
     },
     "metadata": {},
     "output_type": "display_data"
    }
   ],
   "source": [
    "jtplot.style(theme='monokai', context='notebook', ticks=True, grid=False)\n",
    "display(HTML(\"<style>.container { width:99% !important; }</style>\"))"
   ]
  },
  {
   "cell_type": "markdown",
   "metadata": {},
   "source": [
    "# Importação dos dados"
   ]
  },
  {
   "cell_type": "code",
   "execution_count": 3,
   "metadata": {},
   "outputs": [],
   "source": [
    "path = 'Dados desafio 3.zip'"
   ]
  },
  {
   "cell_type": "code",
   "execution_count": 4,
   "metadata": {},
   "outputs": [],
   "source": [
    "zip= ZipFile(path)\n",
    "dados = pd.read_csv(zip.open(zip.namelist()[1]), sep = \";\", thousands=\".\", decimal=\",\")"
   ]
  },
  {
   "cell_type": "markdown",
   "metadata": {},
   "source": [
    "## Exploração inicial dos dados"
   ]
  },
  {
   "cell_type": "code",
   "execution_count": 5,
   "metadata": {},
   "outputs": [
    {
     "data": {
      "text/html": [
       "<div>\n",
       "<style scoped>\n",
       "    .dataframe tbody tr th:only-of-type {\n",
       "        vertical-align: middle;\n",
       "    }\n",
       "\n",
       "    .dataframe tbody tr th {\n",
       "        vertical-align: top;\n",
       "    }\n",
       "\n",
       "    .dataframe thead th {\n",
       "        text-align: right;\n",
       "    }\n",
       "</style>\n",
       "<table border=\"1\" class=\"dataframe\">\n",
       "  <thead>\n",
       "    <tr style=\"text-align: right;\">\n",
       "      <th></th>\n",
       "      <th>ANOPESQ</th>\n",
       "      <th>PAIS</th>\n",
       "      <th>REGEOGR</th>\n",
       "      <th>UFCENSO</th>\n",
       "      <th>MUNICIPIO_CAP</th>\n",
       "      <th>TIPO_MUNIC</th>\n",
       "      <th>VB00004</th>\n",
       "      <th>VB01001</th>\n",
       "      <th>VB01002</th>\n",
       "      <th>VB01003</th>\n",
       "      <th>...</th>\n",
       "      <th>VB16001A05</th>\n",
       "      <th>VB16001A06</th>\n",
       "      <th>VB16001A07</th>\n",
       "      <th>VB16001A08</th>\n",
       "      <th>ESTRATO_EXP</th>\n",
       "      <th>ESTRATOGEOREG</th>\n",
       "      <th>PESO</th>\n",
       "      <th>aluno</th>\n",
       "      <th>escola</th>\n",
       "      <th>turma</th>\n",
       "    </tr>\n",
       "  </thead>\n",
       "  <tbody>\n",
       "    <tr>\n",
       "      <th>0</th>\n",
       "      <td>2015</td>\n",
       "      <td>76</td>\n",
       "      <td>1</td>\n",
       "      <td>11</td>\n",
       "      <td>1100205</td>\n",
       "      <td>1</td>\n",
       "      <td>1</td>\n",
       "      <td>2</td>\n",
       "      <td>1</td>\n",
       "      <td>14</td>\n",
       "      <td>...</td>\n",
       "      <td>2</td>\n",
       "      <td>2</td>\n",
       "      <td>2</td>\n",
       "      <td>2</td>\n",
       "      <td>110020521</td>\n",
       "      <td>1100205</td>\n",
       "      <td>3.738463</td>\n",
       "      <td>1</td>\n",
       "      <td>1</td>\n",
       "      <td>1787</td>\n",
       "    </tr>\n",
       "    <tr>\n",
       "      <th>1</th>\n",
       "      <td>2015</td>\n",
       "      <td>76</td>\n",
       "      <td>1</td>\n",
       "      <td>11</td>\n",
       "      <td>1100205</td>\n",
       "      <td>1</td>\n",
       "      <td>1</td>\n",
       "      <td>1</td>\n",
       "      <td>4</td>\n",
       "      <td>16</td>\n",
       "      <td>...</td>\n",
       "      <td>2</td>\n",
       "      <td>2</td>\n",
       "      <td>2</td>\n",
       "      <td>2</td>\n",
       "      <td>110020521</td>\n",
       "      <td>1100205</td>\n",
       "      <td>3.738463</td>\n",
       "      <td>2</td>\n",
       "      <td>1</td>\n",
       "      <td>1787</td>\n",
       "    </tr>\n",
       "    <tr>\n",
       "      <th>2</th>\n",
       "      <td>2015</td>\n",
       "      <td>76</td>\n",
       "      <td>1</td>\n",
       "      <td>11</td>\n",
       "      <td>1100205</td>\n",
       "      <td>1</td>\n",
       "      <td>1</td>\n",
       "      <td>1</td>\n",
       "      <td>1</td>\n",
       "      <td>13</td>\n",
       "      <td>...</td>\n",
       "      <td>2</td>\n",
       "      <td>2</td>\n",
       "      <td>2</td>\n",
       "      <td>2</td>\n",
       "      <td>110020521</td>\n",
       "      <td>1100205</td>\n",
       "      <td>3.738463</td>\n",
       "      <td>3</td>\n",
       "      <td>1</td>\n",
       "      <td>1787</td>\n",
       "    </tr>\n",
       "    <tr>\n",
       "      <th>3</th>\n",
       "      <td>2015</td>\n",
       "      <td>76</td>\n",
       "      <td>1</td>\n",
       "      <td>11</td>\n",
       "      <td>1100205</td>\n",
       "      <td>1</td>\n",
       "      <td>1</td>\n",
       "      <td>1</td>\n",
       "      <td>4</td>\n",
       "      <td>14</td>\n",
       "      <td>...</td>\n",
       "      <td>1</td>\n",
       "      <td>2</td>\n",
       "      <td>2</td>\n",
       "      <td>2</td>\n",
       "      <td>110020521</td>\n",
       "      <td>1100205</td>\n",
       "      <td>3.738463</td>\n",
       "      <td>4</td>\n",
       "      <td>1</td>\n",
       "      <td>1787</td>\n",
       "    </tr>\n",
       "    <tr>\n",
       "      <th>4</th>\n",
       "      <td>2015</td>\n",
       "      <td>76</td>\n",
       "      <td>1</td>\n",
       "      <td>11</td>\n",
       "      <td>1100205</td>\n",
       "      <td>1</td>\n",
       "      <td>1</td>\n",
       "      <td>1</td>\n",
       "      <td>1</td>\n",
       "      <td>14</td>\n",
       "      <td>...</td>\n",
       "      <td>2</td>\n",
       "      <td>1</td>\n",
       "      <td>2</td>\n",
       "      <td>2</td>\n",
       "      <td>110020521</td>\n",
       "      <td>1100205</td>\n",
       "      <td>3.738463</td>\n",
       "      <td>5</td>\n",
       "      <td>1</td>\n",
       "      <td>1787</td>\n",
       "    </tr>\n",
       "    <tr>\n",
       "      <th>...</th>\n",
       "      <td>...</td>\n",
       "      <td>...</td>\n",
       "      <td>...</td>\n",
       "      <td>...</td>\n",
       "      <td>...</td>\n",
       "      <td>...</td>\n",
       "      <td>...</td>\n",
       "      <td>...</td>\n",
       "      <td>...</td>\n",
       "      <td>...</td>\n",
       "      <td>...</td>\n",
       "      <td>...</td>\n",
       "      <td>...</td>\n",
       "      <td>...</td>\n",
       "      <td>...</td>\n",
       "      <td>...</td>\n",
       "      <td>...</td>\n",
       "      <td>...</td>\n",
       "      <td>...</td>\n",
       "      <td>...</td>\n",
       "      <td>...</td>\n",
       "    </tr>\n",
       "    <tr>\n",
       "      <th>102067</th>\n",
       "      <td>2015</td>\n",
       "      <td>76</td>\n",
       "      <td>5</td>\n",
       "      <td>53</td>\n",
       "      <td>5300108</td>\n",
       "      <td>1</td>\n",
       "      <td>1</td>\n",
       "      <td>2</td>\n",
       "      <td>1</td>\n",
       "      <td>14</td>\n",
       "      <td>...</td>\n",
       "      <td>2</td>\n",
       "      <td>2</td>\n",
       "      <td>1</td>\n",
       "      <td>2</td>\n",
       "      <td>530010821</td>\n",
       "      <td>5300108</td>\n",
       "      <td>16.873376</td>\n",
       "      <td>102068</td>\n",
       "      <td>3040</td>\n",
       "      <td>1883</td>\n",
       "    </tr>\n",
       "    <tr>\n",
       "      <th>102068</th>\n",
       "      <td>2015</td>\n",
       "      <td>76</td>\n",
       "      <td>5</td>\n",
       "      <td>53</td>\n",
       "      <td>5300108</td>\n",
       "      <td>1</td>\n",
       "      <td>1</td>\n",
       "      <td>2</td>\n",
       "      <td>4</td>\n",
       "      <td>14</td>\n",
       "      <td>...</td>\n",
       "      <td>2</td>\n",
       "      <td>2</td>\n",
       "      <td>1</td>\n",
       "      <td>2</td>\n",
       "      <td>530010821</td>\n",
       "      <td>5300108</td>\n",
       "      <td>16.873376</td>\n",
       "      <td>102069</td>\n",
       "      <td>3040</td>\n",
       "      <td>1883</td>\n",
       "    </tr>\n",
       "    <tr>\n",
       "      <th>102069</th>\n",
       "      <td>2015</td>\n",
       "      <td>76</td>\n",
       "      <td>5</td>\n",
       "      <td>53</td>\n",
       "      <td>5300108</td>\n",
       "      <td>1</td>\n",
       "      <td>1</td>\n",
       "      <td>2</td>\n",
       "      <td>4</td>\n",
       "      <td>14</td>\n",
       "      <td>...</td>\n",
       "      <td>1</td>\n",
       "      <td>2</td>\n",
       "      <td>2</td>\n",
       "      <td>2</td>\n",
       "      <td>530010821</td>\n",
       "      <td>5300108</td>\n",
       "      <td>16.873376</td>\n",
       "      <td>102070</td>\n",
       "      <td>3040</td>\n",
       "      <td>1883</td>\n",
       "    </tr>\n",
       "    <tr>\n",
       "      <th>102070</th>\n",
       "      <td>2015</td>\n",
       "      <td>76</td>\n",
       "      <td>5</td>\n",
       "      <td>53</td>\n",
       "      <td>5300108</td>\n",
       "      <td>1</td>\n",
       "      <td>1</td>\n",
       "      <td>1</td>\n",
       "      <td>4</td>\n",
       "      <td>15</td>\n",
       "      <td>...</td>\n",
       "      <td>1</td>\n",
       "      <td>2</td>\n",
       "      <td>2</td>\n",
       "      <td>2</td>\n",
       "      <td>530010821</td>\n",
       "      <td>5300108</td>\n",
       "      <td>16.873376</td>\n",
       "      <td>102071</td>\n",
       "      <td>3040</td>\n",
       "      <td>1883</td>\n",
       "    </tr>\n",
       "    <tr>\n",
       "      <th>102071</th>\n",
       "      <td>2015</td>\n",
       "      <td>76</td>\n",
       "      <td>5</td>\n",
       "      <td>53</td>\n",
       "      <td>5300108</td>\n",
       "      <td>1</td>\n",
       "      <td>1</td>\n",
       "      <td>1</td>\n",
       "      <td>1</td>\n",
       "      <td>14</td>\n",
       "      <td>...</td>\n",
       "      <td>2</td>\n",
       "      <td>2</td>\n",
       "      <td>2</td>\n",
       "      <td>2</td>\n",
       "      <td>530010821</td>\n",
       "      <td>5300108</td>\n",
       "      <td>16.873376</td>\n",
       "      <td>102072</td>\n",
       "      <td>3040</td>\n",
       "      <td>1883</td>\n",
       "    </tr>\n",
       "  </tbody>\n",
       "</table>\n",
       "<p>102072 rows × 174 columns</p>\n",
       "</div>"
      ],
      "text/plain": [
       "        ANOPESQ  PAIS  REGEOGR  UFCENSO  MUNICIPIO_CAP  TIPO_MUNIC  VB00004  \\\n",
       "0          2015    76        1       11        1100205           1        1   \n",
       "1          2015    76        1       11        1100205           1        1   \n",
       "2          2015    76        1       11        1100205           1        1   \n",
       "3          2015    76        1       11        1100205           1        1   \n",
       "4          2015    76        1       11        1100205           1        1   \n",
       "...         ...   ...      ...      ...            ...         ...      ...   \n",
       "102067     2015    76        5       53        5300108           1        1   \n",
       "102068     2015    76        5       53        5300108           1        1   \n",
       "102069     2015    76        5       53        5300108           1        1   \n",
       "102070     2015    76        5       53        5300108           1        1   \n",
       "102071     2015    76        5       53        5300108           1        1   \n",
       "\n",
       "        VB01001  VB01002  VB01003  ...  VB16001A05  VB16001A06  VB16001A07  \\\n",
       "0             2        1       14  ...           2           2           2   \n",
       "1             1        4       16  ...           2           2           2   \n",
       "2             1        1       13  ...           2           2           2   \n",
       "3             1        4       14  ...           1           2           2   \n",
       "4             1        1       14  ...           2           1           2   \n",
       "...         ...      ...      ...  ...         ...         ...         ...   \n",
       "102067        2        1       14  ...           2           2           1   \n",
       "102068        2        4       14  ...           2           2           1   \n",
       "102069        2        4       14  ...           1           2           2   \n",
       "102070        1        4       15  ...           1           2           2   \n",
       "102071        1        1       14  ...           2           2           2   \n",
       "\n",
       "        VB16001A08  ESTRATO_EXP  ESTRATOGEOREG       PESO   aluno  escola  \\\n",
       "0                2    110020521        1100205   3.738463       1       1   \n",
       "1                2    110020521        1100205   3.738463       2       1   \n",
       "2                2    110020521        1100205   3.738463       3       1   \n",
       "3                2    110020521        1100205   3.738463       4       1   \n",
       "4                2    110020521        1100205   3.738463       5       1   \n",
       "...            ...          ...            ...        ...     ...     ...   \n",
       "102067           2    530010821        5300108  16.873376  102068    3040   \n",
       "102068           2    530010821        5300108  16.873376  102069    3040   \n",
       "102069           2    530010821        5300108  16.873376  102070    3040   \n",
       "102070           2    530010821        5300108  16.873376  102071    3040   \n",
       "102071           2    530010821        5300108  16.873376  102072    3040   \n",
       "\n",
       "        turma  \n",
       "0        1787  \n",
       "1        1787  \n",
       "2        1787  \n",
       "3        1787  \n",
       "4        1787  \n",
       "...       ...  \n",
       "102067   1883  \n",
       "102068   1883  \n",
       "102069   1883  \n",
       "102070   1883  \n",
       "102071   1883  \n",
       "\n",
       "[102072 rows x 174 columns]"
      ]
     },
     "execution_count": 5,
     "metadata": {},
     "output_type": "execute_result"
    }
   ],
   "source": [
    "dados"
   ]
  },
  {
   "cell_type": "code",
   "execution_count": 6,
   "metadata": {},
   "outputs": [
    {
     "data": {
      "text/html": [
       "<div>\n",
       "<style scoped>\n",
       "    .dataframe tbody tr th:only-of-type {\n",
       "        vertical-align: middle;\n",
       "    }\n",
       "\n",
       "    .dataframe tbody tr th {\n",
       "        vertical-align: top;\n",
       "    }\n",
       "\n",
       "    .dataframe thead th {\n",
       "        text-align: right;\n",
       "    }\n",
       "</style>\n",
       "<table border=\"1\" class=\"dataframe\">\n",
       "  <thead>\n",
       "    <tr style=\"text-align: right;\">\n",
       "      <th></th>\n",
       "    </tr>\n",
       "  </thead>\n",
       "  <tbody>\n",
       "    <tr>\n",
       "      <th>0</th>\n",
       "    </tr>\n",
       "    <tr>\n",
       "      <th>1</th>\n",
       "    </tr>\n",
       "    <tr>\n",
       "      <th>2</th>\n",
       "    </tr>\n",
       "    <tr>\n",
       "      <th>3</th>\n",
       "    </tr>\n",
       "    <tr>\n",
       "      <th>4</th>\n",
       "    </tr>\n",
       "    <tr>\n",
       "      <th>...</th>\n",
       "    </tr>\n",
       "    <tr>\n",
       "      <th>102067</th>\n",
       "    </tr>\n",
       "    <tr>\n",
       "      <th>102068</th>\n",
       "    </tr>\n",
       "    <tr>\n",
       "      <th>102069</th>\n",
       "    </tr>\n",
       "    <tr>\n",
       "      <th>102070</th>\n",
       "    </tr>\n",
       "    <tr>\n",
       "      <th>102071</th>\n",
       "    </tr>\n",
       "  </tbody>\n",
       "</table>\n",
       "<p>102072 rows × 0 columns</p>\n",
       "</div>"
      ],
      "text/plain": [
       "Empty DataFrame\n",
       "Columns: []\n",
       "Index: [0, 1, 2, 3, 4, 5, 6, 7, 8, 9, 10, 11, 12, 13, 14, 15, 16, 17, 18, 19, 20, 21, 22, 23, 24, 25, 26, 27, 28, 29, 30, 31, 32, 33, 34, 35, 36, 37, 38, 39, 40, 41, 42, 43, 44, 45, 46, 47, 48, 49, 50, 51, 52, 53, 54, 55, 56, 57, 58, 59, 60, 61, 62, 63, 64, 65, 66, 67, 68, 69, 70, 71, 72, 73, 74, 75, 76, 77, 78, 79, 80, 81, 82, 83, 84, 85, 86, 87, 88, 89, 90, 91, 92, 93, 94, 95, 96, 97, 98, 99, ...]\n",
       "\n",
       "[102072 rows x 0 columns]"
      ]
     },
     "execution_count": 6,
     "metadata": {},
     "output_type": "execute_result"
    }
   ],
   "source": [
    "dados.select_dtypes(include='object')"
   ]
  },
  {
   "cell_type": "code",
   "execution_count": 7,
   "metadata": {},
   "outputs": [
    {
     "data": {
      "text/plain": [
       "ANOPESQ          100.0\n",
       "PAIS             100.0\n",
       "REGEOGR          100.0\n",
       "UFCENSO          100.0\n",
       "MUNICIPIO_CAP    100.0\n",
       "                 ...  \n",
       "ESTRATOGEOREG    100.0\n",
       "PESO             100.0\n",
       "aluno            100.0\n",
       "escola           100.0\n",
       "turma            100.0\n",
       "Length: 174, dtype: float64"
      ]
     },
     "execution_count": 7,
     "metadata": {},
     "output_type": "execute_result"
    }
   ],
   "source": [
    "round((dados.notna().sum()/(dados.notna().sum() + dados.isna().sum()))*100,2)"
   ]
  },
  {
   "cell_type": "markdown",
   "metadata": {},
   "source": [
    "## Exploração dos dados que serão utilizados"
   ]
  },
  {
   "cell_type": "code",
   "execution_count": null,
   "metadata": {},
   "outputs": [],
   "source": []
  },
  {
   "cell_type": "code",
   "execution_count": 10,
   "metadata": {},
   "outputs": [
    {
     "data": {
      "image/png": "[encoded data removed]",
      "text/plain": [
       "<Figure size 864x576 with 1 Axes>"
      ]
     },
     "metadata": {},
     "output_type": "display_data"
    }
   ],
   "source": [
    "plt.figure(figsize=(12,8))\n",
    "plt.title('Distribuição da Idade com o primeiro contato com o Alcool')\n",
    "sns.histplot(dados['VB05003'][dados['VB05003']!=99][dados['VB05003']!=1],bins=12,kde=False,color='b')\n",
    "plt.xticks(ticks=[7,8,9,10,11,12,13,14,15,16,17,18])\n",
    "plt.grid(axis='y',c='grey')\n",
    "plt.show()"
   ]
  },
  {
   "cell_type": "code",
   "execution_count": 12,
   "metadata": {},
   "outputs": [
    {
     "data": {
      "image/png": "[encoded data removed]",
      "text/plain": [
       "<Figure size 864x576 with 1 Axes>"
      ]
     },
     "metadata": {},
     "output_type": "display_data"
    }
   ],
   "source": [
    "plt.figure(figsize=(12,8))\n",
    "plt.title('Distribuição da Idade com o primeiro contato com outras Drogas')\n",
    "sns.histplot(dados['VB06002'][dados['VB06002']!=99][dados['VB06002']!=-1],bins=12,kde=False,color='b')\n",
    "plt.xticks(ticks=[7,8,9,10,11,12,13,14,15,16,17,18])\n",
    "plt.grid(axis='y',c='grey')\n",
    "plt.show()"
   ]
  },
  {
   "cell_type": "code",
   "execution_count": 14,
   "metadata": {},
   "outputs": [
    {
     "data": {
      "image/png": "[encoded data removed]",
      "text/plain": [
       "<Figure size 864x576 with 1 Axes>"
      ]
     },
     "metadata": {},
     "output_type": "display_data"
    }
   ],
   "source": [
    "plt.figure(figsize=(12,8))\n",
    "plt.title('Distribuição da Idade Primeira Relação sexual')\n",
    "sns.histplot(dados['VB08002'][dados['VB08002']!=99][dados['VB08002']!=-1],bins=10,kde=False,color='b')\n",
    "plt.xticks(ticks=[9,10,11,12,13,14,15,16,17,18])\n",
    "plt.grid(axis='y',c='grey')\n",
    "plt.show()"
   ]
  },
  {
   "cell_type": "markdown",
   "metadata": {},
   "source": [
    "# Funções"
   ]
  },
  {
   "cell_type": "code",
   "execution_count": 19,
   "metadata": {},
   "outputs": [],
   "source": [
    "def tabela_frequencia(df,coluna,legenda):\n",
    "    frequencia = df[coluna].value_counts()\n",
    "    percentual = round(df[coluna].value_counts(normalize=True)*100,2)\n",
    "    dist_frequ = pd.DataFrame({'Frequência': frequencia, 'Percentual': percentual})\n",
    "    dist_frequ.rename_axis(legenda, axis = 1, inplace=True)\n",
    "    return dist_frequ"
   ]
  },
  {
   "cell_type": "code",
   "execution_count": 27,
   "metadata": {},
   "outputs": [],
   "source": [
    "def k_sturges(amostra):\n",
    "    k=int(1+((10/3)*np.log10(len(amostra))))\n",
    "    return k"
   ]
  },
  {
   "cell_type": "code",
   "execution_count": null,
   "metadata": {},
   "outputs": [],
   "source": []
  },
  {
   "cell_type": "code",
   "execution_count": null,
   "metadata": {},
   "outputs": [],
   "source": []
  }
 ],
 "metadata": {
  "kernelspec": {
   "display_name": "Python 3",
   "language": "python",
   "name": "python3"
  },
  "language_info": {
   "codemirror_mode": {
    "name": "ipython",
    "version": 3
   },
   "file_extension": ".py",
   "mimetype": "text/x-python",
   "name": "python",
   "nbconvert_exporter": "python",
   "pygments_lexer": "ipython3",
   "version": "3.7.9"
  }
 },
 "nbformat": 4,
 "nbformat_minor": 4
}
