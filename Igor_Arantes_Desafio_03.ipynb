{
 "cells": [
  {
   "cell_type": "markdown",
   "metadata": {},
   "source": [
    "# Introdução"
   ]
  },
  {
   "cell_type": "code",
   "execution_count": null,
   "metadata": {},
   "outputs": [],
   "source": []
  },
  {
   "cell_type": "code",
   "execution_count": null,
   "metadata": {},
   "outputs": [],
   "source": []
  },
  {
   "cell_type": "markdown",
   "metadata": {},
   "source": [
    "## Ojetivo\n",
    "  \n",
    "\n",
    "<p>\n",
    "A analise dos dados tem como objetivo analisar a base estatisticamente a base de dados do pense para responder as seguintes perguntas comportamentais:\n",
    " <li> Há diferença entre a idade de iniciação sexual entre os sexos? E entre escolas na capital e interior?\n",
    " <li> Há uma tendencia maior no consumo de bebidas alccolicas entre os meninos? Esse comportamento é padrão na capital e interior\n",
    " <li> Há iniciação sexual cedo( < 14 anos) tem relação com o uso cedo de drogas?\n",
    " <li> O consumo de cigarro leva a experimentar alcool e/ou outras drogas?"
   ]
  },
  {
   "cell_type": "markdown",
   "metadata": {},
   "source": [
    "# Resumo"
   ]
  },
  {
   "cell_type": "markdown",
   "metadata": {},
   "source": [
    "# Bibliotecas e Configurações"
   ]
  },
  {
   "cell_type": "code",
   "execution_count": 191,
   "metadata": {},
   "outputs": [],
   "source": [
    "import pandas as pd\n",
    "from  zipfile import ZipFile\n",
    "import seaborn as sns\n",
    "import matplotlib.pyplot as plt\n",
    "from jupyterthemes import jtplot\n",
    "from IPython.core.display import display, HTML, Markdown\n",
    "import numpy as np\n",
    "from statsmodels.stats.weightstats import zconfint\n",
    "from statsmodels.stats.weightstats import DescrStatsW\n",
    "from statsmodels.stats.weightstats import ztest\n",
    "from scipy.stats import normaltest\n",
    "from scipy.stats import ranksums"
   ]
  },
  {
   "cell_type": "code",
   "execution_count": 192,
   "metadata": {},
   "outputs": [
    {
     "data": {
      "text/html": [
       "<style>.container { width:99% !important; }</style>"
      ],
      "text/plain": [
       "<IPython.core.display.HTML object>"
      ]
     },
     "metadata": {},
     "output_type": "display_data"
    }
   ],
   "source": [
    "jtplot.style(theme='monokai', context='notebook', ticks=True, grid=False)\n",
    "display(HTML(\"<style>.container { width:99% !important; }</style>\"))"
   ]
  },
  {
   "cell_type": "markdown",
   "metadata": {},
   "source": [
    "# Importação dos dados"
   ]
  },
  {
   "cell_type": "code",
   "execution_count": 193,
   "metadata": {},
   "outputs": [],
   "source": [
    "path = 'Dados desafio 3.zip'"
   ]
  },
  {
   "cell_type": "code",
   "execution_count": 194,
   "metadata": {},
   "outputs": [],
   "source": [
    "zip= ZipFile(path)\n",
    "dados = pd.read_csv(zip.open(zip.namelist()[1]), sep = \";\", thousands=\".\", decimal=\",\")"
   ]
  },
  {
   "cell_type": "markdown",
   "metadata": {},
   "source": [
    "# Funções"
   ]
  },
  {
   "cell_type": "code",
   "execution_count": 195,
   "metadata": {},
   "outputs": [],
   "source": [
    "def tabela_frequencia(df,coluna,legenda):\n",
    "    frequencia = df[coluna].value_counts()\n",
    "    percentual = round(df[coluna].value_counts(normalize=True)*100,2)\n",
    "    dist_frequ = pd.DataFrame({'Frequência': frequencia, 'Percentual': percentual})\n",
    "    dist_frequ.rename_axis(legenda, axis = 1, inplace=True)\n",
    "    return dist_frequ"
   ]
  },
  {
   "cell_type": "code",
   "execution_count": 196,
   "metadata": {},
   "outputs": [],
   "source": [
    "def k_sturges(amostra):\n",
    "    k=int(1+((10/3)*np.log10(len(amostra))))\n",
    "    return k"
   ]
  },
  {
   "cell_type": "code",
   "execution_count": 197,
   "metadata": {},
   "outputs": [],
   "source": [
    "def crosstab_rename(pergunta1, respostas1, pergunta2, respostas2,titulo):\n",
    "    crosstab = pd.crosstab(pergunta1,pergunta2,normalize='columns').round(4)*100\n",
    "    crosstab.rename(index= respostas1, inplace= True)\n",
    "    crosstab.rename(columns = respostas2, inplace= True)\n",
    "    crosstab.rename_axis('', axis = 1, inplace=True)\n",
    "    crosstab.rename_axis(titulo, axis = 'index', inplace=True)\n",
    "    return crosstab"
   ]
  },
  {
   "cell_type": "code",
   "execution_count": 256,
   "metadata": {},
   "outputs": [],
   "source": [
    "def histplot_segregado(df,pergunta,hue,legenda,legendax,dicionario_legenda):\n",
    "    df[hue]=df[hue].map(dicionario_legenda)\n",
    "    ax = sns.histplot(data=df,x=pergunta,color='blue',hue=hue,bins=len(df[df[pergunta]!=99][df[pergunta]!=-1][pergunta].unique()),palette='YlOrRd',stat='density',cumulative=True)\n",
    "    ax.figure.set_size_inches(14,8)\n",
    "    ax.set_title(legenda)\n",
    "    ax.set_xlabel(legendax)\n",
    "    plt.xticks(df[df[pergunta]!=99][df[pergunta]!=-1][pergunta].unique())\n",
    "    plt.show()"
   ]
  },
  {
   "cell_type": "code",
   "execution_count": null,
   "metadata": {},
   "outputs": [],
   "source": []
  },
  {
   "cell_type": "markdown",
   "metadata": {},
   "source": [
    "### Dicionários:"
   ]
  },
  {
   "cell_type": "code",
   "execution_count": 250,
   "metadata": {},
   "outputs": [],
   "source": [
    "idade_iniciacao_sexual= {\n",
    "9:'9 anos ou menos',\n",
    "10:'10 anos',\n",
    "11:'11 anos',\n",
    "12:'12 anos',\n",
    "13:'13 anos',\n",
    "14:'14 anos',\n",
    "15:'15 anos',\n",
    "16:'16 anos',\n",
    "17:'17 anos',\n",
    "18:'18 anos ou mais'    \n",
    "}\n",
    "\n",
    "tipo_municipio={\n",
    "1:'Capital',\n",
    "2:'Interior'\n",
    "}\n",
    "\n",
    "sexo={\n",
    "1:'Masculino',\n",
    "2:'Feminino'\n",
    "}\n",
    "\n"
   ]
  },
  {
   "cell_type": "markdown",
   "metadata": {},
   "source": [
    "## Exploração inicial dos dados"
   ]
  },
  {
   "cell_type": "code",
   "execution_count": 200,
   "metadata": {},
   "outputs": [
    {
     "data": {
      "text/html": [
       "<div>\n",
       "<style scoped>\n",
       "    .dataframe tbody tr th:only-of-type {\n",
       "        vertical-align: middle;\n",
       "    }\n",
       "\n",
       "    .dataframe tbody tr th {\n",
       "        vertical-align: top;\n",
       "    }\n",
       "\n",
       "    .dataframe thead th {\n",
       "        text-align: right;\n",
       "    }\n",
       "</style>\n",
       "<table border=\"1\" class=\"dataframe\">\n",
       "  <thead>\n",
       "    <tr style=\"text-align: right;\">\n",
       "      <th></th>\n",
       "      <th>ANOPESQ</th>\n",
       "      <th>PAIS</th>\n",
       "      <th>REGEOGR</th>\n",
       "      <th>UFCENSO</th>\n",
       "      <th>MUNICIPIO_CAP</th>\n",
       "      <th>TIPO_MUNIC</th>\n",
       "      <th>VB00004</th>\n",
       "      <th>VB01001</th>\n",
       "      <th>VB01002</th>\n",
       "      <th>VB01003</th>\n",
       "      <th>...</th>\n",
       "      <th>VB16001A05</th>\n",
       "      <th>VB16001A06</th>\n",
       "      <th>VB16001A07</th>\n",
       "      <th>VB16001A08</th>\n",
       "      <th>ESTRATO_EXP</th>\n",
       "      <th>ESTRATOGEOREG</th>\n",
       "      <th>PESO</th>\n",
       "      <th>aluno</th>\n",
       "      <th>escola</th>\n",
       "      <th>turma</th>\n",
       "    </tr>\n",
       "  </thead>\n",
       "  <tbody>\n",
       "    <tr>\n",
       "      <th>0</th>\n",
       "      <td>2015</td>\n",
       "      <td>76</td>\n",
       "      <td>1</td>\n",
       "      <td>11</td>\n",
       "      <td>1100205</td>\n",
       "      <td>1</td>\n",
       "      <td>1</td>\n",
       "      <td>2</td>\n",
       "      <td>1</td>\n",
       "      <td>14</td>\n",
       "      <td>...</td>\n",
       "      <td>2</td>\n",
       "      <td>2</td>\n",
       "      <td>2</td>\n",
       "      <td>2</td>\n",
       "      <td>110020521</td>\n",
       "      <td>1100205</td>\n",
       "      <td>3.738463</td>\n",
       "      <td>1</td>\n",
       "      <td>1</td>\n",
       "      <td>1787</td>\n",
       "    </tr>\n",
       "    <tr>\n",
       "      <th>1</th>\n",
       "      <td>2015</td>\n",
       "      <td>76</td>\n",
       "      <td>1</td>\n",
       "      <td>11</td>\n",
       "      <td>1100205</td>\n",
       "      <td>1</td>\n",
       "      <td>1</td>\n",
       "      <td>1</td>\n",
       "      <td>4</td>\n",
       "      <td>16</td>\n",
       "      <td>...</td>\n",
       "      <td>2</td>\n",
       "      <td>2</td>\n",
       "      <td>2</td>\n",
       "      <td>2</td>\n",
       "      <td>110020521</td>\n",
       "      <td>1100205</td>\n",
       "      <td>3.738463</td>\n",
       "      <td>2</td>\n",
       "      <td>1</td>\n",
       "      <td>1787</td>\n",
       "    </tr>\n",
       "    <tr>\n",
       "      <th>2</th>\n",
       "      <td>2015</td>\n",
       "      <td>76</td>\n",
       "      <td>1</td>\n",
       "      <td>11</td>\n",
       "      <td>1100205</td>\n",
       "      <td>1</td>\n",
       "      <td>1</td>\n",
       "      <td>1</td>\n",
       "      <td>1</td>\n",
       "      <td>13</td>\n",
       "      <td>...</td>\n",
       "      <td>2</td>\n",
       "      <td>2</td>\n",
       "      <td>2</td>\n",
       "      <td>2</td>\n",
       "      <td>110020521</td>\n",
       "      <td>1100205</td>\n",
       "      <td>3.738463</td>\n",
       "      <td>3</td>\n",
       "      <td>1</td>\n",
       "      <td>1787</td>\n",
       "    </tr>\n",
       "    <tr>\n",
       "      <th>3</th>\n",
       "      <td>2015</td>\n",
       "      <td>76</td>\n",
       "      <td>1</td>\n",
       "      <td>11</td>\n",
       "      <td>1100205</td>\n",
       "      <td>1</td>\n",
       "      <td>1</td>\n",
       "      <td>1</td>\n",
       "      <td>4</td>\n",
       "      <td>14</td>\n",
       "      <td>...</td>\n",
       "      <td>1</td>\n",
       "      <td>2</td>\n",
       "      <td>2</td>\n",
       "      <td>2</td>\n",
       "      <td>110020521</td>\n",
       "      <td>1100205</td>\n",
       "      <td>3.738463</td>\n",
       "      <td>4</td>\n",
       "      <td>1</td>\n",
       "      <td>1787</td>\n",
       "    </tr>\n",
       "    <tr>\n",
       "      <th>4</th>\n",
       "      <td>2015</td>\n",
       "      <td>76</td>\n",
       "      <td>1</td>\n",
       "      <td>11</td>\n",
       "      <td>1100205</td>\n",
       "      <td>1</td>\n",
       "      <td>1</td>\n",
       "      <td>1</td>\n",
       "      <td>1</td>\n",
       "      <td>14</td>\n",
       "      <td>...</td>\n",
       "      <td>2</td>\n",
       "      <td>1</td>\n",
       "      <td>2</td>\n",
       "      <td>2</td>\n",
       "      <td>110020521</td>\n",
       "      <td>1100205</td>\n",
       "      <td>3.738463</td>\n",
       "      <td>5</td>\n",
       "      <td>1</td>\n",
       "      <td>1787</td>\n",
       "    </tr>\n",
       "    <tr>\n",
       "      <th>...</th>\n",
       "      <td>...</td>\n",
       "      <td>...</td>\n",
       "      <td>...</td>\n",
       "      <td>...</td>\n",
       "      <td>...</td>\n",
       "      <td>...</td>\n",
       "      <td>...</td>\n",
       "      <td>...</td>\n",
       "      <td>...</td>\n",
       "      <td>...</td>\n",
       "      <td>...</td>\n",
       "      <td>...</td>\n",
       "      <td>...</td>\n",
       "      <td>...</td>\n",
       "      <td>...</td>\n",
       "      <td>...</td>\n",
       "      <td>...</td>\n",
       "      <td>...</td>\n",
       "      <td>...</td>\n",
       "      <td>...</td>\n",
       "      <td>...</td>\n",
       "    </tr>\n",
       "    <tr>\n",
       "      <th>102067</th>\n",
       "      <td>2015</td>\n",
       "      <td>76</td>\n",
       "      <td>5</td>\n",
       "      <td>53</td>\n",
       "      <td>5300108</td>\n",
       "      <td>1</td>\n",
       "      <td>1</td>\n",
       "      <td>2</td>\n",
       "      <td>1</td>\n",
       "      <td>14</td>\n",
       "      <td>...</td>\n",
       "      <td>2</td>\n",
       "      <td>2</td>\n",
       "      <td>1</td>\n",
       "      <td>2</td>\n",
       "      <td>530010821</td>\n",
       "      <td>5300108</td>\n",
       "      <td>16.873376</td>\n",
       "      <td>102068</td>\n",
       "      <td>3040</td>\n",
       "      <td>1883</td>\n",
       "    </tr>\n",
       "    <tr>\n",
       "      <th>102068</th>\n",
       "      <td>2015</td>\n",
       "      <td>76</td>\n",
       "      <td>5</td>\n",
       "      <td>53</td>\n",
       "      <td>5300108</td>\n",
       "      <td>1</td>\n",
       "      <td>1</td>\n",
       "      <td>2</td>\n",
       "      <td>4</td>\n",
       "      <td>14</td>\n",
       "      <td>...</td>\n",
       "      <td>2</td>\n",
       "      <td>2</td>\n",
       "      <td>1</td>\n",
       "      <td>2</td>\n",
       "      <td>530010821</td>\n",
       "      <td>5300108</td>\n",
       "      <td>16.873376</td>\n",
       "      <td>102069</td>\n",
       "      <td>3040</td>\n",
       "      <td>1883</td>\n",
       "    </tr>\n",
       "    <tr>\n",
       "      <th>102069</th>\n",
       "      <td>2015</td>\n",
       "      <td>76</td>\n",
       "      <td>5</td>\n",
       "      <td>53</td>\n",
       "      <td>5300108</td>\n",
       "      <td>1</td>\n",
       "      <td>1</td>\n",
       "      <td>2</td>\n",
       "      <td>4</td>\n",
       "      <td>14</td>\n",
       "      <td>...</td>\n",
       "      <td>1</td>\n",
       "      <td>2</td>\n",
       "      <td>2</td>\n",
       "      <td>2</td>\n",
       "      <td>530010821</td>\n",
       "      <td>5300108</td>\n",
       "      <td>16.873376</td>\n",
       "      <td>102070</td>\n",
       "      <td>3040</td>\n",
       "      <td>1883</td>\n",
       "    </tr>\n",
       "    <tr>\n",
       "      <th>102070</th>\n",
       "      <td>2015</td>\n",
       "      <td>76</td>\n",
       "      <td>5</td>\n",
       "      <td>53</td>\n",
       "      <td>5300108</td>\n",
       "      <td>1</td>\n",
       "      <td>1</td>\n",
       "      <td>1</td>\n",
       "      <td>4</td>\n",
       "      <td>15</td>\n",
       "      <td>...</td>\n",
       "      <td>1</td>\n",
       "      <td>2</td>\n",
       "      <td>2</td>\n",
       "      <td>2</td>\n",
       "      <td>530010821</td>\n",
       "      <td>5300108</td>\n",
       "      <td>16.873376</td>\n",
       "      <td>102071</td>\n",
       "      <td>3040</td>\n",
       "      <td>1883</td>\n",
       "    </tr>\n",
       "    <tr>\n",
       "      <th>102071</th>\n",
       "      <td>2015</td>\n",
       "      <td>76</td>\n",
       "      <td>5</td>\n",
       "      <td>53</td>\n",
       "      <td>5300108</td>\n",
       "      <td>1</td>\n",
       "      <td>1</td>\n",
       "      <td>1</td>\n",
       "      <td>1</td>\n",
       "      <td>14</td>\n",
       "      <td>...</td>\n",
       "      <td>2</td>\n",
       "      <td>2</td>\n",
       "      <td>2</td>\n",
       "      <td>2</td>\n",
       "      <td>530010821</td>\n",
       "      <td>5300108</td>\n",
       "      <td>16.873376</td>\n",
       "      <td>102072</td>\n",
       "      <td>3040</td>\n",
       "      <td>1883</td>\n",
       "    </tr>\n",
       "  </tbody>\n",
       "</table>\n",
       "<p>102072 rows × 174 columns</p>\n",
       "</div>"
      ],
      "text/plain": [
       "        ANOPESQ  PAIS  REGEOGR  UFCENSO  MUNICIPIO_CAP  TIPO_MUNIC  VB00004  \\\n",
       "0          2015    76        1       11        1100205           1        1   \n",
       "1          2015    76        1       11        1100205           1        1   \n",
       "2          2015    76        1       11        1100205           1        1   \n",
       "3          2015    76        1       11        1100205           1        1   \n",
       "4          2015    76        1       11        1100205           1        1   \n",
       "...         ...   ...      ...      ...            ...         ...      ...   \n",
       "102067     2015    76        5       53        5300108           1        1   \n",
       "102068     2015    76        5       53        5300108           1        1   \n",
       "102069     2015    76        5       53        5300108           1        1   \n",
       "102070     2015    76        5       53        5300108           1        1   \n",
       "102071     2015    76        5       53        5300108           1        1   \n",
       "\n",
       "        VB01001  VB01002  VB01003  ...  VB16001A05  VB16001A06  VB16001A07  \\\n",
       "0             2        1       14  ...           2           2           2   \n",
       "1             1        4       16  ...           2           2           2   \n",
       "2             1        1       13  ...           2           2           2   \n",
       "3             1        4       14  ...           1           2           2   \n",
       "4             1        1       14  ...           2           1           2   \n",
       "...         ...      ...      ...  ...         ...         ...         ...   \n",
       "102067        2        1       14  ...           2           2           1   \n",
       "102068        2        4       14  ...           2           2           1   \n",
       "102069        2        4       14  ...           1           2           2   \n",
       "102070        1        4       15  ...           1           2           2   \n",
       "102071        1        1       14  ...           2           2           2   \n",
       "\n",
       "        VB16001A08  ESTRATO_EXP  ESTRATOGEOREG       PESO   aluno  escola  \\\n",
       "0                2    110020521        1100205   3.738463       1       1   \n",
       "1                2    110020521        1100205   3.738463       2       1   \n",
       "2                2    110020521        1100205   3.738463       3       1   \n",
       "3                2    110020521        1100205   3.738463       4       1   \n",
       "4                2    110020521        1100205   3.738463       5       1   \n",
       "...            ...          ...            ...        ...     ...     ...   \n",
       "102067           2    530010821        5300108  16.873376  102068    3040   \n",
       "102068           2    530010821        5300108  16.873376  102069    3040   \n",
       "102069           2    530010821        5300108  16.873376  102070    3040   \n",
       "102070           2    530010821        5300108  16.873376  102071    3040   \n",
       "102071           2    530010821        5300108  16.873376  102072    3040   \n",
       "\n",
       "        turma  \n",
       "0        1787  \n",
       "1        1787  \n",
       "2        1787  \n",
       "3        1787  \n",
       "4        1787  \n",
       "...       ...  \n",
       "102067   1883  \n",
       "102068   1883  \n",
       "102069   1883  \n",
       "102070   1883  \n",
       "102071   1883  \n",
       "\n",
       "[102072 rows x 174 columns]"
      ]
     },
     "execution_count": 200,
     "metadata": {},
     "output_type": "execute_result"
    }
   ],
   "source": [
    "dados"
   ]
  },
  {
   "cell_type": "code",
   "execution_count": 201,
   "metadata": {},
   "outputs": [
    {
     "data": {
      "text/html": [
       "<div>\n",
       "<style scoped>\n",
       "    .dataframe tbody tr th:only-of-type {\n",
       "        vertical-align: middle;\n",
       "    }\n",
       "\n",
       "    .dataframe tbody tr th {\n",
       "        vertical-align: top;\n",
       "    }\n",
       "\n",
       "    .dataframe thead th {\n",
       "        text-align: right;\n",
       "    }\n",
       "</style>\n",
       "<table border=\"1\" class=\"dataframe\">\n",
       "  <thead>\n",
       "    <tr style=\"text-align: right;\">\n",
       "      <th></th>\n",
       "    </tr>\n",
       "  </thead>\n",
       "  <tbody>\n",
       "    <tr>\n",
       "      <th>0</th>\n",
       "    </tr>\n",
       "    <tr>\n",
       "      <th>1</th>\n",
       "    </tr>\n",
       "    <tr>\n",
       "      <th>2</th>\n",
       "    </tr>\n",
       "    <tr>\n",
       "      <th>3</th>\n",
       "    </tr>\n",
       "    <tr>\n",
       "      <th>4</th>\n",
       "    </tr>\n",
       "    <tr>\n",
       "      <th>...</th>\n",
       "    </tr>\n",
       "    <tr>\n",
       "      <th>102067</th>\n",
       "    </tr>\n",
       "    <tr>\n",
       "      <th>102068</th>\n",
       "    </tr>\n",
       "    <tr>\n",
       "      <th>102069</th>\n",
       "    </tr>\n",
       "    <tr>\n",
       "      <th>102070</th>\n",
       "    </tr>\n",
       "    <tr>\n",
       "      <th>102071</th>\n",
       "    </tr>\n",
       "  </tbody>\n",
       "</table>\n",
       "<p>102072 rows × 0 columns</p>\n",
       "</div>"
      ],
      "text/plain": [
       "Empty DataFrame\n",
       "Columns: []\n",
       "Index: [0, 1, 2, 3, 4, 5, 6, 7, 8, 9, 10, 11, 12, 13, 14, 15, 16, 17, 18, 19, 20, 21, 22, 23, 24, 25, 26, 27, 28, 29, 30, 31, 32, 33, 34, 35, 36, 37, 38, 39, 40, 41, 42, 43, 44, 45, 46, 47, 48, 49, 50, 51, 52, 53, 54, 55, 56, 57, 58, 59, 60, 61, 62, 63, 64, 65, 66, 67, 68, 69, 70, 71, 72, 73, 74, 75, 76, 77, 78, 79, 80, 81, 82, 83, 84, 85, 86, 87, 88, 89, 90, 91, 92, 93, 94, 95, 96, 97, 98, 99, ...]\n",
       "\n",
       "[102072 rows x 0 columns]"
      ]
     },
     "execution_count": 201,
     "metadata": {},
     "output_type": "execute_result"
    }
   ],
   "source": [
    "dados.select_dtypes(include='object')"
   ]
  },
  {
   "cell_type": "code",
   "execution_count": 202,
   "metadata": {},
   "outputs": [
    {
     "data": {
      "text/plain": [
       "ANOPESQ          100.0\n",
       "PAIS             100.0\n",
       "REGEOGR          100.0\n",
       "UFCENSO          100.0\n",
       "MUNICIPIO_CAP    100.0\n",
       "                 ...  \n",
       "ESTRATOGEOREG    100.0\n",
       "PESO             100.0\n",
       "aluno            100.0\n",
       "escola           100.0\n",
       "turma            100.0\n",
       "Length: 174, dtype: float64"
      ]
     },
     "execution_count": 202,
     "metadata": {},
     "output_type": "execute_result"
    }
   ],
   "source": [
    "round((dados.notna().sum()/(dados.notna().sum() + dados.isna().sum()))*100,2)"
   ]
  },
  {
   "cell_type": "markdown",
   "metadata": {},
   "source": [
    "## Exploração dos dados que serão utilizados"
   ]
  },
  {
   "cell_type": "code",
   "execution_count": null,
   "metadata": {},
   "outputs": [],
   "source": []
  },
  {
   "cell_type": "code",
   "execution_count": 203,
   "metadata": {},
   "outputs": [
    {
     "data": {
      "image/png": "[encoded data removed]",
      "text/plain": [
       "<Figure size 864x576 with 1 Axes>"
      ]
     },
     "metadata": {},
     "output_type": "display_data"
    }
   ],
   "source": [
    "plt.figure(figsize=(12,8))\n",
    "plt.title('Distribuição da Idade com o primeiro contato com o Alcool')\n",
    "sns.histplot(dados['VB05003'][dados['VB05003']!=99][dados['VB05003']!=1],bins=12,kde=False,color='b')\n",
    "plt.xticks(ticks=[7,8,9,10,11,12,13,14,15,16,17,18])\n",
    "plt.grid(axis='y',c='grey')\n",
    "plt.show()"
   ]
  },
  {
   "cell_type": "code",
   "execution_count": 204,
   "metadata": {},
   "outputs": [
    {
     "data": {
      "image/png": "[encoded data removed]",
      "text/plain": [
       "<Figure size 864x576 with 1 Axes>"
      ]
     },
     "metadata": {},
     "output_type": "display_data"
    }
   ],
   "source": [
    "plt.figure(figsize=(12,8))\n",
    "plt.title('Distribuição da Idade com o primeiro contato com outras Drogas')\n",
    "sns.histplot(dados['VB06002'][dados['VB06002']!=99][dados['VB06002']!=-1],bins=12,kde=False,color='b')\n",
    "plt.xticks(ticks=[7,8,9,10,11,12,13,14,15,16,17,18])\n",
    "plt.grid(axis='y',c='grey')\n",
    "plt.show()"
   ]
  },
  {
   "cell_type": "code",
   "execution_count": 205,
   "metadata": {},
   "outputs": [
    {
     "data": {
      "image/png": "[encoded data removed]",
      "text/plain": [
       "<Figure size 864x576 with 1 Axes>"
      ]
     },
     "metadata": {},
     "output_type": "display_data"
    }
   ],
   "source": [
    "plt.figure(figsize=(12,8))\n",
    "plt.title('Distribuição da Idade Primeira Relação sexual')\n",
    "sns.histplot(dados['VB08002'][dados['VB08002']!=99][dados['VB08002']!=-1],bins=10,kde=False,color='b')\n",
    "plt.xticks(ticks=[9,10,11,12,13,14,15,16,17,18])\n",
    "plt.grid(axis='y',c='grey')\n",
    "plt.show()"
   ]
  },
  {
   "cell_type": "code",
   "execution_count": 206,
   "metadata": {},
   "outputs": [
    {
     "data": {
      "text/html": [
       "<div>\n",
       "<style scoped>\n",
       "    .dataframe tbody tr th:only-of-type {\n",
       "        vertical-align: middle;\n",
       "    }\n",
       "\n",
       "    .dataframe tbody tr th {\n",
       "        vertical-align: top;\n",
       "    }\n",
       "\n",
       "    .dataframe thead th {\n",
       "        text-align: right;\n",
       "    }\n",
       "</style>\n",
       "<table border=\"1\" class=\"dataframe\">\n",
       "  <thead>\n",
       "    <tr style=\"text-align: right;\">\n",
       "      <th>Idade Primeira Relação sexual</th>\n",
       "      <th>Frequência</th>\n",
       "      <th>Percentual</th>\n",
       "    </tr>\n",
       "  </thead>\n",
       "  <tbody>\n",
       "    <tr>\n",
       "      <th>-1</th>\n",
       "      <td>73495</td>\n",
       "      <td>72.00</td>\n",
       "    </tr>\n",
       "    <tr>\n",
       "      <th>14</th>\n",
       "      <td>8748</td>\n",
       "      <td>8.57</td>\n",
       "    </tr>\n",
       "    <tr>\n",
       "      <th>13</th>\n",
       "      <td>6712</td>\n",
       "      <td>6.58</td>\n",
       "    </tr>\n",
       "    <tr>\n",
       "      <th>15</th>\n",
       "      <td>3935</td>\n",
       "      <td>3.86</td>\n",
       "    </tr>\n",
       "    <tr>\n",
       "      <th>12</th>\n",
       "      <td>3146</td>\n",
       "      <td>3.08</td>\n",
       "    </tr>\n",
       "    <tr>\n",
       "      <th>9</th>\n",
       "      <td>1783</td>\n",
       "      <td>1.75</td>\n",
       "    </tr>\n",
       "    <tr>\n",
       "      <th>11</th>\n",
       "      <td>1290</td>\n",
       "      <td>1.26</td>\n",
       "    </tr>\n",
       "    <tr>\n",
       "      <th>10</th>\n",
       "      <td>1190</td>\n",
       "      <td>1.17</td>\n",
       "    </tr>\n",
       "    <tr>\n",
       "      <th>16</th>\n",
       "      <td>1096</td>\n",
       "      <td>1.07</td>\n",
       "    </tr>\n",
       "    <tr>\n",
       "      <th>17</th>\n",
       "      <td>317</td>\n",
       "      <td>0.31</td>\n",
       "    </tr>\n",
       "    <tr>\n",
       "      <th>99</th>\n",
       "      <td>231</td>\n",
       "      <td>0.23</td>\n",
       "    </tr>\n",
       "    <tr>\n",
       "      <th>18</th>\n",
       "      <td>129</td>\n",
       "      <td>0.13</td>\n",
       "    </tr>\n",
       "  </tbody>\n",
       "</table>\n",
       "</div>"
      ],
      "text/plain": [
       "Idade Primeira Relação sexual  Frequência  Percentual\n",
       "-1                                  73495       72.00\n",
       " 14                                  8748        8.57\n",
       " 13                                  6712        6.58\n",
       " 15                                  3935        3.86\n",
       " 12                                  3146        3.08\n",
       " 9                                   1783        1.75\n",
       " 11                                  1290        1.26\n",
       " 10                                  1190        1.17\n",
       " 16                                  1096        1.07\n",
       " 17                                   317        0.31\n",
       " 99                                   231        0.23\n",
       " 18                                   129        0.13"
      ]
     },
     "execution_count": 206,
     "metadata": {},
     "output_type": "execute_result"
    }
   ],
   "source": [
    "tabela_frequencia(dados,'VB08002','Idade Primeira Relação sexual')"
   ]
  },
  {
   "cell_type": "code",
   "execution_count": 207,
   "metadata": {},
   "outputs": [
    {
     "data": {
      "text/html": [
       "<div>\n",
       "<style scoped>\n",
       "    .dataframe tbody tr th:only-of-type {\n",
       "        vertical-align: middle;\n",
       "    }\n",
       "\n",
       "    .dataframe tbody tr th {\n",
       "        vertical-align: top;\n",
       "    }\n",
       "\n",
       "    .dataframe thead th {\n",
       "        text-align: right;\n",
       "    }\n",
       "</style>\n",
       "<table border=\"1\" class=\"dataframe\">\n",
       "  <thead>\n",
       "    <tr style=\"text-align: right;\">\n",
       "      <th>Série Atual</th>\n",
       "      <th>Frequência</th>\n",
       "      <th>Percentual</th>\n",
       "    </tr>\n",
       "  </thead>\n",
       "  <tbody>\n",
       "    <tr>\n",
       "      <th>4</th>\n",
       "      <td>100497</td>\n",
       "      <td>98.46</td>\n",
       "    </tr>\n",
       "    <tr>\n",
       "      <th>3</th>\n",
       "      <td>1247</td>\n",
       "      <td>1.22</td>\n",
       "    </tr>\n",
       "    <tr>\n",
       "      <th>5</th>\n",
       "      <td>124</td>\n",
       "      <td>0.12</td>\n",
       "    </tr>\n",
       "    <tr>\n",
       "      <th>7</th>\n",
       "      <td>50</td>\n",
       "      <td>0.05</td>\n",
       "    </tr>\n",
       "    <tr>\n",
       "      <th>1</th>\n",
       "      <td>43</td>\n",
       "      <td>0.04</td>\n",
       "    </tr>\n",
       "    <tr>\n",
       "      <th>6</th>\n",
       "      <td>39</td>\n",
       "      <td>0.04</td>\n",
       "    </tr>\n",
       "    <tr>\n",
       "      <th>2</th>\n",
       "      <td>37</td>\n",
       "      <td>0.04</td>\n",
       "    </tr>\n",
       "    <tr>\n",
       "      <th>99</th>\n",
       "      <td>35</td>\n",
       "      <td>0.03</td>\n",
       "    </tr>\n",
       "  </tbody>\n",
       "</table>\n",
       "</div>"
      ],
      "text/plain": [
       "Série Atual  Frequência  Percentual\n",
       "4                100497       98.46\n",
       "3                  1247        1.22\n",
       "5                   124        0.12\n",
       "7                    50        0.05\n",
       "1                    43        0.04\n",
       "6                    39        0.04\n",
       "2                    37        0.04\n",
       "99                   35        0.03"
      ]
     },
     "execution_count": 207,
     "metadata": {},
     "output_type": "execute_result"
    }
   ],
   "source": [
    "tabela_frequencia(dados,'VB01021','Série Atual')"
   ]
  },
  {
   "cell_type": "code",
   "execution_count": 208,
   "metadata": {},
   "outputs": [
    {
     "data": {
      "image/png": "[encoded data removed]",
      "text/plain": [
       "<Figure size 864x576 with 1 Axes>"
      ]
     },
     "metadata": {},
     "output_type": "display_data"
    }
   ],
   "source": [
    "plt.figure(figsize=(12,8))\n",
    "plt.title('Preetenção de Estudos')\n",
    "sns.histplot(dados['VB01025'][dados['VB01025']!=99][dados['VB01025']!=-1],bins=6,kde=False,color='b')\n",
    "plt.xticks(ticks=[1,2,3,4,5,6])\n",
    "plt.grid(axis='y',c='grey')\n",
    "plt.show()"
   ]
  },
  {
   "cell_type": "code",
   "execution_count": 209,
   "metadata": {},
   "outputs": [
    {
     "data": {
      "text/html": [
       "<div>\n",
       "<style scoped>\n",
       "    .dataframe tbody tr th:only-of-type {\n",
       "        vertical-align: middle;\n",
       "    }\n",
       "\n",
       "    .dataframe tbody tr th {\n",
       "        vertical-align: top;\n",
       "    }\n",
       "\n",
       "    .dataframe thead th {\n",
       "        text-align: right;\n",
       "    }\n",
       "</style>\n",
       "<table border=\"1\" class=\"dataframe\">\n",
       "  <thead>\n",
       "    <tr style=\"text-align: right;\">\n",
       "      <th>Preetenção de Estudos</th>\n",
       "      <th>Frequência</th>\n",
       "      <th>Percentual</th>\n",
       "    </tr>\n",
       "  </thead>\n",
       "  <tbody>\n",
       "    <tr>\n",
       "      <th>5</th>\n",
       "      <td>44167</td>\n",
       "      <td>43.27</td>\n",
       "    </tr>\n",
       "    <tr>\n",
       "      <th>6</th>\n",
       "      <td>19673</td>\n",
       "      <td>19.27</td>\n",
       "    </tr>\n",
       "    <tr>\n",
       "      <th>4</th>\n",
       "      <td>14536</td>\n",
       "      <td>14.24</td>\n",
       "    </tr>\n",
       "    <tr>\n",
       "      <th>2</th>\n",
       "      <td>11804</td>\n",
       "      <td>11.56</td>\n",
       "    </tr>\n",
       "    <tr>\n",
       "      <th>1</th>\n",
       "      <td>6706</td>\n",
       "      <td>6.57</td>\n",
       "    </tr>\n",
       "    <tr>\n",
       "      <th>3</th>\n",
       "      <td>5081</td>\n",
       "      <td>4.98</td>\n",
       "    </tr>\n",
       "    <tr>\n",
       "      <th>99</th>\n",
       "      <td>105</td>\n",
       "      <td>0.10</td>\n",
       "    </tr>\n",
       "  </tbody>\n",
       "</table>\n",
       "</div>"
      ],
      "text/plain": [
       "Preetenção de Estudos  Frequência  Percentual\n",
       "5                           44167       43.27\n",
       "6                           19673       19.27\n",
       "4                           14536       14.24\n",
       "2                           11804       11.56\n",
       "1                            6706        6.57\n",
       "3                            5081        4.98\n",
       "99                            105        0.10"
      ]
     },
     "execution_count": 209,
     "metadata": {},
     "output_type": "execute_result"
    }
   ],
   "source": [
    "tabela_frequencia(dados,'VB01025','Preetenção de Estudos')"
   ]
  },
  {
   "cell_type": "code",
   "execution_count": 210,
   "metadata": {},
   "outputs": [
    {
     "data": {
      "text/html": [
       "<div>\n",
       "<style scoped>\n",
       "    .dataframe tbody tr th:only-of-type {\n",
       "        vertical-align: middle;\n",
       "    }\n",
       "\n",
       "    .dataframe tbody tr th {\n",
       "        vertical-align: top;\n",
       "    }\n",
       "\n",
       "    .dataframe thead th {\n",
       "        text-align: right;\n",
       "    }\n",
       "</style>\n",
       "<table border=\"1\" class=\"dataframe\">\n",
       "  <thead>\n",
       "    <tr style=\"text-align: right;\">\n",
       "      <th>Primeiro Contato com cigarro</th>\n",
       "      <th>Frequência</th>\n",
       "      <th>Percentual</th>\n",
       "    </tr>\n",
       "  </thead>\n",
       "  <tbody>\n",
       "    <tr>\n",
       "      <th>-1</th>\n",
       "      <td>83349</td>\n",
       "      <td>81.66</td>\n",
       "    </tr>\n",
       "    <tr>\n",
       "      <th>13</th>\n",
       "      <td>4516</td>\n",
       "      <td>4.42</td>\n",
       "    </tr>\n",
       "    <tr>\n",
       "      <th>14</th>\n",
       "      <td>4147</td>\n",
       "      <td>4.06</td>\n",
       "    </tr>\n",
       "    <tr>\n",
       "      <th>12</th>\n",
       "      <td>2843</td>\n",
       "      <td>2.79</td>\n",
       "    </tr>\n",
       "    <tr>\n",
       "      <th>15</th>\n",
       "      <td>1597</td>\n",
       "      <td>1.56</td>\n",
       "    </tr>\n",
       "    <tr>\n",
       "      <th>11</th>\n",
       "      <td>1363</td>\n",
       "      <td>1.34</td>\n",
       "    </tr>\n",
       "    <tr>\n",
       "      <th>10</th>\n",
       "      <td>1203</td>\n",
       "      <td>1.18</td>\n",
       "    </tr>\n",
       "    <tr>\n",
       "      <th>7</th>\n",
       "      <td>1068</td>\n",
       "      <td>1.05</td>\n",
       "    </tr>\n",
       "    <tr>\n",
       "      <th>9</th>\n",
       "      <td>560</td>\n",
       "      <td>0.55</td>\n",
       "    </tr>\n",
       "    <tr>\n",
       "      <th>16</th>\n",
       "      <td>539</td>\n",
       "      <td>0.53</td>\n",
       "    </tr>\n",
       "    <tr>\n",
       "      <th>8</th>\n",
       "      <td>508</td>\n",
       "      <td>0.50</td>\n",
       "    </tr>\n",
       "    <tr>\n",
       "      <th>99</th>\n",
       "      <td>181</td>\n",
       "      <td>0.18</td>\n",
       "    </tr>\n",
       "    <tr>\n",
       "      <th>17</th>\n",
       "      <td>147</td>\n",
       "      <td>0.14</td>\n",
       "    </tr>\n",
       "    <tr>\n",
       "      <th>18</th>\n",
       "      <td>51</td>\n",
       "      <td>0.05</td>\n",
       "    </tr>\n",
       "  </tbody>\n",
       "</table>\n",
       "</div>"
      ],
      "text/plain": [
       "Primeiro Contato com cigarro  Frequência  Percentual\n",
       "-1                                 83349       81.66\n",
       " 13                                 4516        4.42\n",
       " 14                                 4147        4.06\n",
       " 12                                 2843        2.79\n",
       " 15                                 1597        1.56\n",
       " 11                                 1363        1.34\n",
       " 10                                 1203        1.18\n",
       " 7                                  1068        1.05\n",
       " 9                                   560        0.55\n",
       " 16                                  539        0.53\n",
       " 8                                   508        0.50\n",
       " 99                                  181        0.18\n",
       " 17                                  147        0.14\n",
       " 18                                   51        0.05"
      ]
     },
     "execution_count": 210,
     "metadata": {},
     "output_type": "execute_result"
    }
   ],
   "source": [
    "tabela_frequencia(dados,'VB04002','Primeiro Contato com cigarro')"
   ]
  },
  {
   "cell_type": "markdown",
   "metadata": {},
   "source": [
    "# Analise dos Dados"
   ]
  },
  {
   "cell_type": "markdown",
   "metadata": {},
   "source": [
    "## Há diferença entre a idade de iniciação sexual entre os sexos? E entre escolas privadas e publicas? "
   ]
  },
  {
   "cell_type": "markdown",
   "metadata": {},
   "source": [
    "A pergunta sobre iniciação sexual é a VB08002 porém a maior parte das pessoas pularam esta questão, 72% do total por isso as conclusões podem divergir da realidade. Para a análise só será considerado a população que respondeu a pergunta."
   ]
  },
  {
   "cell_type": "code",
   "execution_count": 211,
   "metadata": {},
   "outputs": [
    {
     "data": {
      "text/plain": [
       "1         12\n",
       "5         10\n",
       "7         12\n",
       "12        14\n",
       "15        16\n",
       "          ..\n",
       "102059    12\n",
       "102062    15\n",
       "102064    14\n",
       "102070    14\n",
       "102071    14\n",
       "Name: VB08002, Length: 28346, dtype: int64"
      ]
     },
     "execution_count": 211,
     "metadata": {},
     "output_type": "execute_result"
    }
   ],
   "source": [
    "dados['VB08002'][dados['VB08002']!=-1][dados['VB08002']!=99]"
   ]
  },
  {
   "cell_type": "code",
   "execution_count": 212,
   "metadata": {},
   "outputs": [
    {
     "data": {
      "text/html": [
       "<div>\n",
       "<style scoped>\n",
       "    .dataframe tbody tr th:only-of-type {\n",
       "        vertical-align: middle;\n",
       "    }\n",
       "\n",
       "    .dataframe tbody tr th {\n",
       "        vertical-align: top;\n",
       "    }\n",
       "\n",
       "    .dataframe thead th {\n",
       "        text-align: right;\n",
       "    }\n",
       "</style>\n",
       "<table border=\"1\" class=\"dataframe\">\n",
       "  <thead>\n",
       "    <tr style=\"text-align: right;\">\n",
       "      <th></th>\n",
       "      <th>Capital</th>\n",
       "      <th>Interior</th>\n",
       "    </tr>\n",
       "    <tr>\n",
       "      <th>Idade da Primeira Relação Sexual:</th>\n",
       "      <th></th>\n",
       "      <th></th>\n",
       "    </tr>\n",
       "  </thead>\n",
       "  <tbody>\n",
       "    <tr>\n",
       "      <th>9 anos ou menos</th>\n",
       "      <td>6.56</td>\n",
       "      <td>6.04</td>\n",
       "    </tr>\n",
       "    <tr>\n",
       "      <th>10 anos</th>\n",
       "      <td>4.06</td>\n",
       "      <td>4.33</td>\n",
       "    </tr>\n",
       "    <tr>\n",
       "      <th>11 anos</th>\n",
       "      <td>4.45</td>\n",
       "      <td>4.65</td>\n",
       "    </tr>\n",
       "    <tr>\n",
       "      <th>12 anos</th>\n",
       "      <td>11.46</td>\n",
       "      <td>10.76</td>\n",
       "    </tr>\n",
       "    <tr>\n",
       "      <th>13 anos</th>\n",
       "      <td>24.59</td>\n",
       "      <td>22.82</td>\n",
       "    </tr>\n",
       "    <tr>\n",
       "      <th>14 anos</th>\n",
       "      <td>31.46</td>\n",
       "      <td>30.29</td>\n",
       "    </tr>\n",
       "    <tr>\n",
       "      <th>15 anos</th>\n",
       "      <td>13.23</td>\n",
       "      <td>14.49</td>\n",
       "    </tr>\n",
       "    <tr>\n",
       "      <th>16 anos</th>\n",
       "      <td>3.23</td>\n",
       "      <td>4.47</td>\n",
       "    </tr>\n",
       "    <tr>\n",
       "      <th>17 anos</th>\n",
       "      <td>0.68</td>\n",
       "      <td>1.53</td>\n",
       "    </tr>\n",
       "    <tr>\n",
       "      <th>18 anos ou mais</th>\n",
       "      <td>0.28</td>\n",
       "      <td>0.62</td>\n",
       "    </tr>\n",
       "  </tbody>\n",
       "</table>\n",
       "</div>"
      ],
      "text/plain": [
       "                                   Capital  Interior\n",
       "Idade da Primeira Relação Sexual:                   \n",
       "9 anos ou menos                       6.56      6.04\n",
       "10 anos                               4.06      4.33\n",
       "11 anos                               4.45      4.65\n",
       "12 anos                              11.46     10.76\n",
       "13 anos                              24.59     22.82\n",
       "14 anos                              31.46     30.29\n",
       "15 anos                              13.23     14.49\n",
       "16 anos                               3.23      4.47\n",
       "17 anos                               0.68      1.53\n",
       "18 anos ou mais                       0.28      0.62"
      ]
     },
     "execution_count": 212,
     "metadata": {},
     "output_type": "execute_result"
    }
   ],
   "source": [
    "crosstab_rename(dados['VB08002'][dados['VB08002']!=-1][dados['VB08002']!=99],idade_iniciacao_sexual,dados['TIPO_MUNIC'],tipo_municipio, 'Idade da Primeira Relação Sexual:')"
   ]
  },
  {
   "cell_type": "code",
   "execution_count": 258,
   "metadata": {},
   "outputs": [
    {
     "name": "stderr",
     "output_type": "stream",
     "text": [
      "<ipython-input-258-251d0dc3f48b>:1: UserWarning: Boolean Series key will be reindexed to match DataFrame index.\n",
      "  histplot_segregado(dados[dados['VB08002']!=99][dados['VB08002']!=-1],'VB08002','TIPO_MUNIC','Distribuição da primeira relação sexual por idade e separado por tipo de municipio','Idade',tipo_municipio)\n"
     ]
    },
    {
     "data": {
      "image/png": "[encoded data removed]",
      "text/plain": [
       "<Figure size 1008x576 with 1 Axes>"
      ]
     },
     "metadata": {},
     "output_type": "display_data"
    }
   ],
   "source": [
    "histplot_segregado(dados[dados['VB08002']!=99][dados['VB08002']!=-1],'VB08002','TIPO_MUNIC','Distribuição da primeira relação sexual por idade e separado por tipo de municipio','Idade',tipo_municipio)"
   ]
  },
  {
   "cell_type": "code",
   "execution_count": 239,
   "metadata": {},
   "outputs": [
    {
     "name": "stdout",
     "output_type": "stream",
     "text": [
      "count    13752.000000\n",
      "mean        13.129654\n",
      "std          1.733117\n",
      "Name: VB08002, dtype: float64\n",
      "count    14594.000000\n",
      "mean        13.247225\n",
      "std          1.809203\n",
      "Name: VB08002, dtype: float64\n"
     ]
    }
   ],
   "source": [
    "print(dados['VB08002'][dados['VB08002']!=99][dados['VB08002']!=-1][dados['TIPO_MUNIC']==1].describe()[:3])\n",
    "print( dados['VB08002'][dados['VB08002']!=99][dados['VB08002']!=-1][dados['TIPO_MUNIC']==2].describe()[:3])"
   ]
  },
  {
   "cell_type": "markdown",
   "metadata": {},
   "source": [
    "Visualmente não parece ter diferenças significativas entre a capital e o interior, porem, como temos uma grande amostra podemos usar o teste Z para confirmar nossa hipotese. Porem não sabemos se as amostras são distribuições normais. Entao vamos verificar a normalidade das amostras."
   ]
  },
  {
   "cell_type": "code",
   "execution_count": 243,
   "metadata": {},
   "outputs": [
    {
     "data": {
      "text/plain": [
       "NormaltestResult(statistic=1116.3738897712049, pvalue=3.8237541887969135e-243)"
      ]
     },
     "execution_count": 243,
     "metadata": {},
     "output_type": "execute_result"
    }
   ],
   "source": [
    "normaltest(dados['VB08002'][dados['VB08002']!=99][dados['VB08002']!=-1][dados['TIPO_MUNIC']==1])"
   ]
  },
  {
   "cell_type": "code",
   "execution_count": 244,
   "metadata": {},
   "outputs": [
    {
     "data": {
      "text/plain": [
       "NormaltestResult(statistic=805.6041314394138, pvalue=1.1622125443805865e-175)"
      ]
     },
     "execution_count": 244,
     "metadata": {},
     "output_type": "execute_result"
    }
   ],
   "source": [
    "normaltest(dados['VB08002'][dados['VB08002']!=99][dados['VB08002']!=-1][dados['TIPO_MUNIC']==2])"
   ]
  },
  {
   "cell_type": "markdown",
   "metadata": {},
   "source": [
    "Como nossas amostras não são normais, para confirmar nossa hipotese temos que usar um testes de Wilcoxom ao invez do teste Z"
   ]
  },
  {
   "cell_type": "code",
   "execution_count": 248,
   "metadata": {},
   "outputs": [
    {
     "data": {
      "text/plain": [
       "RanksumsResult(statistic=-5.636576723885928, pvalue=1.7346377139004955e-08)"
      ]
     },
     "execution_count": 248,
     "metadata": {},
     "output_type": "execute_result"
    }
   ],
   "source": [
    "ranksums(dados['VB08002'][dados['VB08002']!=99][dados['VB08002']!=-1][dados['TIPO_MUNIC']==1], dados['VB08002'][dados['VB08002']!=99][dados['VB08002']!=-1][dados['TIPO_MUNIC']==2])"
   ]
  },
  {
   "cell_type": "markdown",
   "metadata": {},
   "source": [
    "Apesar de aparecer similar as distribuições, nossas amostras são estatisticamente diferentes.  \n",
    "Podemos agora fazer os mesmos testes para as diferenças entre o sexo masculino e feminino."
   ]
  },
  {
   "cell_type": "code",
   "execution_count": 271,
   "metadata": {},
   "outputs": [
    {
     "data": {
      "text/html": [
       "<div>\n",
       "<style scoped>\n",
       "    .dataframe tbody tr th:only-of-type {\n",
       "        vertical-align: middle;\n",
       "    }\n",
       "\n",
       "    .dataframe tbody tr th {\n",
       "        vertical-align: top;\n",
       "    }\n",
       "\n",
       "    .dataframe thead th {\n",
       "        text-align: right;\n",
       "    }\n",
       "</style>\n",
       "<table border=\"1\" class=\"dataframe\">\n",
       "  <thead>\n",
       "    <tr style=\"text-align: right;\">\n",
       "      <th></th>\n",
       "      <th>Masculino</th>\n",
       "      <th>Feminino</th>\n",
       "    </tr>\n",
       "    <tr>\n",
       "      <th>Idade da Primeira Relação Sexual:</th>\n",
       "      <th></th>\n",
       "      <th></th>\n",
       "    </tr>\n",
       "  </thead>\n",
       "  <tbody>\n",
       "    <tr>\n",
       "      <th>9 anos ou menos</th>\n",
       "      <td>8.95</td>\n",
       "      <td>1.61</td>\n",
       "    </tr>\n",
       "    <tr>\n",
       "      <th>10 anos</th>\n",
       "      <td>6.08</td>\n",
       "      <td>0.88</td>\n",
       "    </tr>\n",
       "    <tr>\n",
       "      <th>11 anos</th>\n",
       "      <td>6.04</td>\n",
       "      <td>1.94</td>\n",
       "    </tr>\n",
       "    <tr>\n",
       "      <th>12 anos</th>\n",
       "      <td>12.75</td>\n",
       "      <td>8.21</td>\n",
       "    </tr>\n",
       "    <tr>\n",
       "      <th>13 anos</th>\n",
       "      <td>22.41</td>\n",
       "      <td>25.91</td>\n",
       "    </tr>\n",
       "    <tr>\n",
       "      <th>14 anos</th>\n",
       "      <td>27.84</td>\n",
       "      <td>36.16</td>\n",
       "    </tr>\n",
       "    <tr>\n",
       "      <th>15 anos</th>\n",
       "      <td>11.48</td>\n",
       "      <td>18.09</td>\n",
       "    </tr>\n",
       "    <tr>\n",
       "      <th>16 anos</th>\n",
       "      <td>3.29</td>\n",
       "      <td>4.87</td>\n",
       "    </tr>\n",
       "    <tr>\n",
       "      <th>17 anos</th>\n",
       "      <td>0.82</td>\n",
       "      <td>1.64</td>\n",
       "    </tr>\n",
       "    <tr>\n",
       "      <th>18 anos ou mais</th>\n",
       "      <td>0.33</td>\n",
       "      <td>0.67</td>\n",
       "    </tr>\n",
       "  </tbody>\n",
       "</table>\n",
       "</div>"
      ],
      "text/plain": [
       "                                   Masculino  Feminino\n",
       "Idade da Primeira Relação Sexual:                     \n",
       "9 anos ou menos                         8.95      1.61\n",
       "10 anos                                 6.08      0.88\n",
       "11 anos                                 6.04      1.94\n",
       "12 anos                                12.75      8.21\n",
       "13 anos                                22.41     25.91\n",
       "14 anos                                27.84     36.16\n",
       "15 anos                                11.48     18.09\n",
       "16 anos                                 3.29      4.87\n",
       "17 anos                                 0.82      1.64\n",
       "18 anos ou mais                         0.33      0.67"
      ]
     },
     "execution_count": 271,
     "metadata": {},
     "output_type": "execute_result"
    }
   ],
   "source": [
    "crosstab_rename(dados['VB08002'][dados['VB08002']!=-1][dados['VB08002']!=99],idade_iniciacao_sexual,dados['VB01001'],sexo, 'Idade da Primeira Relação Sexual:')"
   ]
  },
  {
   "cell_type": "code",
   "execution_count": 272,
   "metadata": {},
   "outputs": [
    {
     "name": "stderr",
     "output_type": "stream",
     "text": [
      "<ipython-input-272-bc2b051ec13e>:1: UserWarning: Boolean Series key will be reindexed to match DataFrame index.\n",
      "  histplot_segregado(dados[dados['VB08002']!=99][dados['VB08002']!=-1],'VB08002','VB01001','Distribuição da primeira relação sexual por idade e separado por sexo','Idade',sexo)\n"
     ]
    },
    {
     "data": {
      "image/png": "[encoded data removed]",
      "text/plain": [
       "<Figure size 1008x576 with 1 Axes>"
      ]
     },
     "metadata": {},
     "output_type": "display_data"
    }
   ],
   "source": [
    "histplot_segregado(dados[dados['VB08002']!=99][dados['VB08002']!=-1],'VB08002','VB01001','Distribuição da primeira relação sexual por idade e separado por sexo','Idade',sexo)"
   ]
  },
  {
   "cell_type": "code",
   "execution_count": 273,
   "metadata": {},
   "outputs": [
    {
     "data": {
      "text/plain": [
       "NormaltestResult(statistic=772.039477999991, pvalue=2.25817422785216e-168)"
      ]
     },
     "execution_count": 273,
     "metadata": {},
     "output_type": "execute_result"
    }
   ],
   "source": [
    "normaltest(dados['VB08002'][dados['VB08002']!=99][dados['VB08002']!=-1][dados['VB01001']==1])"
   ]
  },
  {
   "cell_type": "code",
   "execution_count": 274,
   "metadata": {},
   "outputs": [
    {
     "data": {
      "text/plain": [
       "NormaltestResult(statistic=815.308331459041, pvalue=9.079152247299627e-178)"
      ]
     },
     "execution_count": 274,
     "metadata": {},
     "output_type": "execute_result"
    }
   ],
   "source": [
    "normaltest(dados['VB08002'][dados['VB08002']!=99][dados['VB08002']!=-1][dados['VB01001']==2])"
   ]
  },
  {
   "cell_type": "code",
   "execution_count": 275,
   "metadata": {},
   "outputs": [
    {
     "data": {
      "text/plain": [
       "RanksumsResult(statistic=-36.73370726057936, pvalue=2.116475105856769e-295)"
      ]
     },
     "execution_count": 275,
     "metadata": {},
     "output_type": "execute_result"
    }
   ],
   "source": [
    "ranksums(dados['VB08002'][dados['VB08002']!=99][dados['VB08002']!=-1][dados['VB01001']==1], dados['VB08002'][dados['VB08002']!=99][dados['VB08002']!=-1][dados['VB01001']==2])"
   ]
  },
  {
   "cell_type": "code",
   "execution_count": null,
   "metadata": {},
   "outputs": [],
   "source": []
  }
 ],
 "metadata": {
  "kernelspec": {
   "display_name": "Python 3",
   "language": "python",
   "name": "python3"
  },
  "language_info": {
   "codemirror_mode": {
    "name": "ipython",
    "version": 3
   },
   "file_extension": ".py",
   "mimetype": "text/x-python",
   "name": "python",
   "nbconvert_exporter": "python",
   "pygments_lexer": "ipython3",
   "version": "3.8.5"
  }
 },
 "nbformat": 4,
 "nbformat_minor": 4
}
